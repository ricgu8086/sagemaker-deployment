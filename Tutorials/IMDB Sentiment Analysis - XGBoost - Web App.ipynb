{
 "cells": [
  {
   "cell_type": "markdown",
   "metadata": {},
   "source": [
    "# Sentiment Analysis Web App\n",
    "\n",
    "_Deep Learning Nanodegree Program | Deployment_\n",
    "\n",
    "---\n",
    "\n",
    "In this notebook we will use Amazon's SageMaker service to construct a random tree model to predict the sentiment of a movie review. In addition, we will deploy this model to an endpoint and construct a very simple web app which will interact with our model's deployed endpoint.\n",
    "\n",
    "## General Outline\n",
    "\n",
    "Typically, when using a notebook instance with SageMaker, you will proceed through the following steps. Of course, not every step will need to be done with each project. Also, there is quite a lot of room for variation in many of the steps, as you will see throughout these lessons.\n",
    "\n",
    "1. Download or otherwise retrieve the data.\n",
    "2. Process / Prepare the data.\n",
    "3. Upload the processed data to S3.\n",
    "4. Train a chosen model.\n",
    "5. Test the trained model (typically using a batch transform job).\n",
    "6. Deploy the trained model.\n",
    "7. Use the deployed model.\n",
    "\n",
    "In this notebook we will progress through each of the steps above. We will also see that the final step, using the deployed model, can be quite challenging."
   ]
  },
  {
   "cell_type": "markdown",
   "metadata": {},
   "source": [
    "## Step 1: Downloading the data\n",
    "\n",
    "The dataset we are going to use is very popular among researchers in Natural Language Processing, usually referred to as the [IMDb dataset](http://ai.stanford.edu/~amaas/data/sentiment/). It consists of movie reviews from the website [imdb.com](http://www.imdb.com/), each labeled as either '**pos**itive', if the reviewer enjoyed the film, or '**neg**ative' otherwise.\n",
    "\n",
    "> Maas, Andrew L., et al. [Learning Word Vectors for Sentiment Analysis](http://ai.stanford.edu/~amaas/data/sentiment/). In _Proceedings of the 49th Annual Meeting of the Association for Computational Linguistics: Human Language Technologies_. Association for Computational Linguistics, 2011.\n",
    "\n",
    "We begin by using some Jupyter Notebook magic to download and extract the dataset."
   ]
  },
  {
   "cell_type": "code",
   "execution_count": null,
   "metadata": {},
   "outputs": [],
   "source": [
    "%mkdir ../data\n",
    "!wget -O ../data/aclImdb_v1.tar.gz http://ai.stanford.edu/~amaas/data/sentiment/aclImdb_v1.tar.gz\n",
    "!tar -zxf ../data/aclImdb_v1.tar.gz -C ../data"
   ]
  },
  {
   "cell_type": "markdown",
   "metadata": {},
   "source": [
    "## Step 2: Preparing and Processing the data\n",
    "\n",
    "The data we have downloaded is split into various files, each of which contains a single review. It will be much easier going forward if we combine these individual files into two large files, one for training and one for testing."
   ]
  },
  {
   "cell_type": "code",
   "execution_count": 1,
   "metadata": {},
   "outputs": [],
   "source": [
    "import os\n",
    "import glob\n",
    "\n",
    "def read_imdb_data(data_dir='../data/aclImdb'):\n",
    "    data = {}\n",
    "    labels = {}\n",
    "    \n",
    "    for data_type in ['train', 'test']:\n",
    "        data[data_type] = {}\n",
    "        labels[data_type] = {}\n",
    "        \n",
    "        for sentiment in ['pos', 'neg']:\n",
    "            data[data_type][sentiment] = []\n",
    "            labels[data_type][sentiment] = []\n",
    "            \n",
    "            path = os.path.join(data_dir, data_type, sentiment, '*.txt')\n",
    "            files = glob.glob(path)\n",
    "            \n",
    "            for f in files:\n",
    "                with open(f) as review:\n",
    "                    data[data_type][sentiment].append(review.read())\n",
    "                    # Here we represent a positive review by '1' and a negative review by '0'\n",
    "                    labels[data_type][sentiment].append(1 if sentiment == 'pos' else 0)\n",
    "                    \n",
    "            assert len(data[data_type][sentiment]) == len(labels[data_type][sentiment]), \\\n",
    "                    \"{}/{} data size does not match labels size\".format(data_type, sentiment)\n",
    "                \n",
    "    return data, labels"
   ]
  },
  {
   "cell_type": "code",
   "execution_count": 2,
   "metadata": {},
   "outputs": [
    {
     "name": "stdout",
     "output_type": "stream",
     "text": [
      "IMDB reviews: train = 12500 pos / 12500 neg, test = 12500 pos / 12500 neg\n"
     ]
    }
   ],
   "source": [
    "data, labels = read_imdb_data()\n",
    "print(\"IMDB reviews: train = {} pos / {} neg, test = {} pos / {} neg\".format(\n",
    "            len(data['train']['pos']), len(data['train']['neg']),\n",
    "            len(data['test']['pos']), len(data['test']['neg'])))"
   ]
  },
  {
   "cell_type": "code",
   "execution_count": 3,
   "metadata": {},
   "outputs": [],
   "source": [
    "from sklearn.utils import shuffle\n",
    "\n",
    "def prepare_imdb_data(data, labels):\n",
    "    \"\"\"Prepare training and test sets from IMDb movie reviews.\"\"\"\n",
    "    \n",
    "    #Combine positive and negative reviews and labels\n",
    "    data_train = data['train']['pos'] + data['train']['neg']\n",
    "    data_test = data['test']['pos'] + data['test']['neg']\n",
    "    labels_train = labels['train']['pos'] + labels['train']['neg']\n",
    "    labels_test = labels['test']['pos'] + labels['test']['neg']\n",
    "    \n",
    "    #Shuffle reviews and corresponding labels within training and test sets\n",
    "    data_train, labels_train = shuffle(data_train, labels_train)\n",
    "    data_test, labels_test = shuffle(data_test, labels_test)\n",
    "    \n",
    "    # Return a unified training data, test data, training labels, test labets\n",
    "    return data_train, data_test, labels_train, labels_test"
   ]
  },
  {
   "cell_type": "code",
   "execution_count": 4,
   "metadata": {},
   "outputs": [
    {
     "name": "stdout",
     "output_type": "stream",
     "text": [
      "IMDb reviews (combined): train = 25000, test = 25000\n"
     ]
    }
   ],
   "source": [
    "train_X, test_X, train_y, test_y = prepare_imdb_data(data, labels)\n",
    "print(\"IMDb reviews (combined): train = {}, test = {}\".format(len(train_X), len(test_X)))"
   ]
  },
  {
   "cell_type": "code",
   "execution_count": 5,
   "metadata": {},
   "outputs": [
    {
     "data": {
      "text/plain": [
       "\"Watched this film having really enjoyed Gregory's Girl many years ago. This was drivel. The plot was vaguely distasteful with the teacher and his friend perving over 14-15-year-old girls in very short skirts. Previous commenters seem to think that this doesn't matter, but I found it rather nasty. If you have children at school then the last thing you want is to think that every youngish teacher is lusting after his pupils. We were surprised that the censor let that through. Apart from that the film was just a waste of time. The script was poor and John Gordon Sinclair trying too hard to recreate his schoolboy image, slightly wacky and off the wall. Why anyone would want to lust after him in this performance is incredible. This film failed on all counts for me. Dreadful. Please don't waste your time watching it. Life's too short\""
      ]
     },
     "execution_count": 5,
     "metadata": {},
     "output_type": "execute_result"
    }
   ],
   "source": [
    "train_X[100]"
   ]
  },
  {
   "cell_type": "markdown",
   "metadata": {},
   "source": [
    "## Processing the data\n",
    "\n",
    "Now that we have our training and testing datasets merged and ready to use, we need to start processing the raw data into something that will be useable by our machine learning algorithm. To begin with, we remove any html formatting and any non-alpha numeric characters that may appear in the reviews. We will do this in a very simplistic way using Python's regular expression module. We will discuss the reason for this rather simplistic pre-processing later on."
   ]
  },
  {
   "cell_type": "code",
   "execution_count": 6,
   "metadata": {},
   "outputs": [],
   "source": [
    "import re\n",
    "\n",
    "REPLACE_NO_SPACE = re.compile(\"(\\.)|(\\;)|(\\:)|(\\!)|(\\')|(\\?)|(\\,)|(\\\")|(\\()|(\\))|(\\[)|(\\])\")\n",
    "REPLACE_WITH_SPACE = re.compile(\"(<br\\s*/><br\\s*/>)|(\\-)|(\\/)\")\n",
    "\n",
    "def review_to_words(review):\n",
    "    words = REPLACE_NO_SPACE.sub(\"\", review.lower())\n",
    "    words = REPLACE_WITH_SPACE.sub(\" \", words)\n",
    "    return words"
   ]
  },
  {
   "cell_type": "code",
   "execution_count": 7,
   "metadata": {},
   "outputs": [
    {
     "data": {
      "text/plain": [
       "'watched this film having really enjoyed gregorys girl many years ago this was drivel the plot was vaguely distasteful with the teacher and his friend perving over 14 15 year old girls in very short skirts previous commenters seem to think that this doesnt matter but i found it rather nasty if you have children at school then the last thing you want is to think that every youngish teacher is lusting after his pupils we were surprised that the censor let that through apart from that the film was just a waste of time the script was poor and john gordon sinclair trying too hard to recreate his schoolboy image slightly wacky and off the wall why anyone would want to lust after him in this performance is incredible this film failed on all counts for me dreadful please dont waste your time watching it lifes too short'"
      ]
     },
     "execution_count": 7,
     "metadata": {},
     "output_type": "execute_result"
    }
   ],
   "source": [
    "review_to_words(train_X[100])"
   ]
  },
  {
   "cell_type": "code",
   "execution_count": 8,
   "metadata": {},
   "outputs": [],
   "source": [
    "import pickle\n",
    "\n",
    "cache_dir = os.path.join(\"../cache\", \"sentiment_web_app\")  # where to store cache files\n",
    "os.makedirs(cache_dir, exist_ok=True)  # ensure cache directory exists\n",
    "\n",
    "def preprocess_data(data_train, data_test, labels_train, labels_test,\n",
    "                    cache_dir=cache_dir, cache_file=\"preprocessed_data.pkl\"):\n",
    "    \"\"\"Convert each review to words; read from cache if available.\"\"\"\n",
    "\n",
    "    # If cache_file is not None, try to read from it first\n",
    "    cache_data = None\n",
    "    if cache_file is not None:\n",
    "        try:\n",
    "            with open(os.path.join(cache_dir, cache_file), \"rb\") as f:\n",
    "                cache_data = pickle.load(f)\n",
    "            print(\"Read preprocessed data from cache file:\", cache_file)\n",
    "        except:\n",
    "            pass  # unable to read from cache, but that's okay\n",
    "    \n",
    "    # If cache is missing, then do the heavy lifting\n",
    "    if cache_data is None:\n",
    "        # Preprocess training and test data to obtain words for each review\n",
    "        #words_train = list(map(review_to_words, data_train))\n",
    "        #words_test = list(map(review_to_words, data_test))\n",
    "        words_train = [review_to_words(review) for review in data_train]\n",
    "        words_test = [review_to_words(review) for review in data_test]\n",
    "        \n",
    "        # Write to cache file for future runs\n",
    "        if cache_file is not None:\n",
    "            cache_data = dict(words_train=words_train, words_test=words_test,\n",
    "                              labels_train=labels_train, labels_test=labels_test)\n",
    "            with open(os.path.join(cache_dir, cache_file), \"wb\") as f:\n",
    "                pickle.dump(cache_data, f)\n",
    "            print(\"Wrote preprocessed data to cache file:\", cache_file)\n",
    "    else:\n",
    "        # Unpack data loaded from cache file\n",
    "        words_train, words_test, labels_train, labels_test = (cache_data['words_train'],\n",
    "                cache_data['words_test'], cache_data['labels_train'], cache_data['labels_test'])\n",
    "    \n",
    "    return words_train, words_test, labels_train, labels_test"
   ]
  },
  {
   "cell_type": "code",
   "execution_count": 9,
   "metadata": {},
   "outputs": [
    {
     "name": "stdout",
     "output_type": "stream",
     "text": [
      "Wrote preprocessed data to cache file: preprocessed_data.pkl\n"
     ]
    }
   ],
   "source": [
    "# Preprocess data\n",
    "train_X, test_X, train_y, test_y = preprocess_data(train_X, test_X, train_y, test_y)"
   ]
  },
  {
   "cell_type": "markdown",
   "metadata": {},
   "source": [
    "### Extract Bag-of-Words features\n",
    "\n",
    "For the model we will be implementing, rather than using the reviews directly, we are going to transform each review into a Bag-of-Words feature representation. Keep in mind that 'in the wild' we will only have access to the training set so our transformer can only use the training set to construct a representation."
   ]
  },
  {
   "cell_type": "code",
   "execution_count": 10,
   "metadata": {},
   "outputs": [],
   "source": [
    "import numpy as np\n",
    "from sklearn.feature_extraction.text import CountVectorizer\n",
    "from sklearn.externals import joblib\n",
    "# joblib is an enhanced version of pickle that is more efficient for storing NumPy arrays\n",
    "\n",
    "def extract_BoW_features(words_train, words_test, vocabulary_size=5000,\n",
    "                         cache_dir=cache_dir, cache_file=\"bow_features.pkl\"):\n",
    "    \"\"\"Extract Bag-of-Words for a given set of documents, already preprocessed into words.\"\"\"\n",
    "    \n",
    "    # If cache_file is not None, try to read from it first\n",
    "    cache_data = None\n",
    "    if cache_file is not None:\n",
    "        try:\n",
    "            with open(os.path.join(cache_dir, cache_file), \"rb\") as f:\n",
    "                cache_data = joblib.load(f)\n",
    "            print(\"Read features from cache file:\", cache_file)\n",
    "        except:\n",
    "            pass  # unable to read from cache, but that's okay\n",
    "    \n",
    "    # If cache is missing, then do the heavy lifting\n",
    "    if cache_data is None:\n",
    "        # Fit a vectorizer to training documents and use it to transform them\n",
    "        # NOTE: Training documents have already been preprocessed and tokenized into words;\n",
    "        #       pass in dummy functions to skip those steps, e.g. preprocessor=lambda x: x\n",
    "        vectorizer = CountVectorizer(max_features=vocabulary_size)\n",
    "        features_train = vectorizer.fit_transform(words_train).toarray()\n",
    "\n",
    "        # Apply the same vectorizer to transform the test documents (ignore unknown words)\n",
    "        features_test = vectorizer.transform(words_test).toarray()\n",
    "        \n",
    "        # NOTE: Remember to convert the features using .toarray() for a compact representation\n",
    "        \n",
    "        # Write to cache file for future runs (store vocabulary as well)\n",
    "        if cache_file is not None:\n",
    "            vocabulary = vectorizer.vocabulary_\n",
    "            cache_data = dict(features_train=features_train, features_test=features_test,\n",
    "                             vocabulary=vocabulary)\n",
    "            with open(os.path.join(cache_dir, cache_file), \"wb\") as f:\n",
    "                joblib.dump(cache_data, f)\n",
    "            print(\"Wrote features to cache file:\", cache_file)\n",
    "    else:\n",
    "        # Unpack data loaded from cache file\n",
    "        features_train, features_test, vocabulary = (cache_data['features_train'],\n",
    "                cache_data['features_test'], cache_data['vocabulary'])\n",
    "    \n",
    "    # Return both the extracted features as well as the vocabulary\n",
    "    return features_train, features_test, vocabulary"
   ]
  },
  {
   "cell_type": "code",
   "execution_count": 11,
   "metadata": {},
   "outputs": [
    {
     "name": "stdout",
     "output_type": "stream",
     "text": [
      "Wrote features to cache file: bow_features.pkl\n"
     ]
    }
   ],
   "source": [
    "# Extract Bag of Words features for both training and test datasets\n",
    "train_X, test_X, vocabulary = extract_BoW_features(train_X, test_X)"
   ]
  },
  {
   "cell_type": "code",
   "execution_count": 12,
   "metadata": {},
   "outputs": [
    {
     "data": {
      "text/plain": [
       "5000"
      ]
     },
     "execution_count": 12,
     "metadata": {},
     "output_type": "execute_result"
    }
   ],
   "source": [
    "len(train_X[100])"
   ]
  },
  {
   "cell_type": "markdown",
   "metadata": {},
   "source": [
    "## Step 3: Upload data to S3\n",
    "\n",
    "Now that we have created the feature representation of our training (and testing) data, it is time to start setting up and using the XGBoost classifier provided by SageMaker.\n",
    "\n",
    "### Writing the datasets\n",
    "\n",
    "The XGBoost classifier that we will be using requires the dataset to be written to a file and stored using Amazon S3. To do this, we will start by splitting the training dataset into two parts, the data we will train the model with and a validation set. Then, we will write those datasets to a file locally and then upload the files to S3. In addition, we will write the test set to a file and upload that file to S3. This is so that we can use SageMakers Batch Transform functionality to test our model once we've fit it."
   ]
  },
  {
   "cell_type": "code",
   "execution_count": 13,
   "metadata": {},
   "outputs": [],
   "source": [
    "import pandas as pd\n",
    "\n",
    "# Earlier we shuffled the training dataset so to make things simple we can just assign\n",
    "# the first 10 000 reviews to the validation set and use the remaining reviews for training.\n",
    "val_X = pd.DataFrame(train_X[:10000])\n",
    "train_X = pd.DataFrame(train_X[10000:])\n",
    "\n",
    "val_y = pd.DataFrame(train_y[:10000])\n",
    "train_y = pd.DataFrame(train_y[10000:])"
   ]
  },
  {
   "cell_type": "markdown",
   "metadata": {},
   "source": [
    "The documentation for the XGBoost algorithm in SageMaker requires that the training and validation datasets should contain no headers or index and that the label should occur first for each sample.\n",
    "\n",
    "For more information about this and other algorithms, the SageMaker developer documentation can be found on __[Amazon's website.](https://docs.aws.amazon.com/sagemaker/latest/dg/)__"
   ]
  },
  {
   "cell_type": "code",
   "execution_count": 14,
   "metadata": {},
   "outputs": [],
   "source": [
    "# First we make sure that the local directory in which we'd like to store the training and validation csv files exists.\n",
    "data_dir = '../data/sentiment_web_app'\n",
    "if not os.path.exists(data_dir):\n",
    "    os.makedirs(data_dir)"
   ]
  },
  {
   "cell_type": "code",
   "execution_count": 15,
   "metadata": {},
   "outputs": [],
   "source": [
    "pd.DataFrame(test_X).to_csv(os.path.join(data_dir, 'test.csv'), header=False, index=False)\n",
    "\n",
    "pd.concat([val_y, val_X], axis=1).to_csv(os.path.join(data_dir, 'validation.csv'), header=False, index=False)\n",
    "pd.concat([train_y, train_X], axis=1).to_csv(os.path.join(data_dir, 'train.csv'), header=False, index=False)"
   ]
  },
  {
   "cell_type": "code",
   "execution_count": 16,
   "metadata": {},
   "outputs": [],
   "source": [
    "# To save a bit of memory we can set text_X, train_X, val_X, train_y and val_y to None.\n",
    "\n",
    "test_X = train_X = val_X = train_y = val_y = None"
   ]
  },
  {
   "cell_type": "markdown",
   "metadata": {},
   "source": [
    "### Uploading Training / Validation files to S3\n",
    "\n",
    "Amazon's S3 service allows us to store files that can be accessed by both the built-in training models such as the XGBoost model we will be using as well as custom models such as the one we will see a little later.\n",
    "\n",
    "For this and most other tasks we will be doing using SageMaker, there are two methods we could use. The first is to use the low level functionality of SageMaker which requires knowing each of the objects involved in the SageMaker environment. The second is to use the high level functionality in which certain choices have been made on the user's behalf. The low level approach benefits from allowing the user a great deal of flexibility while the high level approach makes development much quicker. For our purposes we will opt to use the high level approach although using the low-level approach is certainly an option.\n",
    "\n",
    "Recall the method `upload_data()` which is a member of the object representing our current SageMaker session. What this method does is upload the data to the default bucket (which is created if it does not exist) into the path described by the key_prefix variable. To see this for yourself, once you have uploaded the data files, go to the S3 console and look to see where the files have been uploaded.\n",
    "\n",
    "For additional resources, see the __[SageMaker API documentation](http://sagemaker.readthedocs.io/en/latest/)__ and in addition the __[SageMaker Developer Guide.](https://docs.aws.amazon.com/sagemaker/latest/dg/)__"
   ]
  },
  {
   "cell_type": "code",
   "execution_count": 17,
   "metadata": {},
   "outputs": [],
   "source": [
    "import sagemaker\n",
    "\n",
    "session = sagemaker.Session() # Store the current SageMaker session\n",
    "\n",
    "# S3 prefix (which folder will we use)\n",
    "prefix = 'sentiment-web-app'\n",
    "\n",
    "test_location = session.upload_data(os.path.join(data_dir, 'test.csv'), key_prefix=prefix)\n",
    "val_location = session.upload_data(os.path.join(data_dir, 'validation.csv'), key_prefix=prefix)\n",
    "train_location = session.upload_data(os.path.join(data_dir, 'train.csv'), key_prefix=prefix)"
   ]
  },
  {
   "cell_type": "markdown",
   "metadata": {},
   "source": [
    "## Step 4: Creating the XGBoost model\n",
    "\n",
    "Now that the data has been uploaded it is time to create the XGBoost model. To begin with, we need to do some setup. At this point it is worth discussing what a model is in SageMaker. It is easiest to think of a model of comprising three different objects in the SageMaker ecosystem, which interact with one another.\n",
    "\n",
    "- Model Artifacts\n",
    "- Training Code (Container)\n",
    "- Inference Code (Container)\n",
    "\n",
    "The Model Artifacts are what you might think of as the actual model itself. For example, if you were building a neural network, the model artifacts would be the weights of the various layers. In our case, for an XGBoost model, the artifacts are the actual trees that are created during training.\n",
    "\n",
    "The other two objects, the training code and the inference code are then used to manipulate the training artifacts. More precisely, the training code uses the training data that is provided and creates the model artifacts, while the inference code uses the model artifacts to make predictions on new data.\n",
    "\n",
    "The way that SageMaker runs the training and inference code is by making use of Docker containers. For now, think of a container as being a way of packaging code up so that dependencies aren't an issue."
   ]
  },
  {
   "cell_type": "code",
   "execution_count": 18,
   "metadata": {},
   "outputs": [],
   "source": [
    "from sagemaker import get_execution_role\n",
    "\n",
    "# Our current execution role is required when creating the model as the training\n",
    "# and inference code will need to access the model artifacts.\n",
    "role = get_execution_role()"
   ]
  },
  {
   "cell_type": "code",
   "execution_count": 19,
   "metadata": {},
   "outputs": [
    {
     "name": "stderr",
     "output_type": "stream",
     "text": [
      "WARNING:root:There is a more up to date SageMaker XGBoost image. To use the newer image, please set 'repo_version'='0.90-1'. For example:\n",
      "\tget_image_uri(region, 'xgboost', '0.90-1').\n"
     ]
    }
   ],
   "source": [
    "# We need to retrieve the location of the container which is provided by Amazon for using XGBoost.\n",
    "# As a matter of convenience, the training and inference code both use the same container.\n",
    "from sagemaker.amazon.amazon_estimator import get_image_uri\n",
    "\n",
    "container = get_image_uri(session.boto_region_name, 'xgboost')"
   ]
  },
  {
   "cell_type": "code",
   "execution_count": 20,
   "metadata": {},
   "outputs": [],
   "source": [
    "# First we create a SageMaker estimator object for our model.\n",
    "xgb = sagemaker.estimator.Estimator(container, # The location of the container we wish to use\n",
    "                                    role,                                    # What is our current IAM Role\n",
    "                                    train_instance_count=1,                  # How many compute instances\n",
    "                                    train_instance_type='ml.m4.xlarge',      # What kind of compute instances\n",
    "                                    output_path='s3://{}/{}/output'.format(session.default_bucket(), prefix),\n",
    "                                    sagemaker_session=session)\n",
    "\n",
    "# And then set the algorithm specific parameters.\n",
    "xgb.set_hyperparameters(max_depth=5,\n",
    "                        eta=0.2,\n",
    "                        gamma=4,\n",
    "                        min_child_weight=6,\n",
    "                        subsample=0.8,\n",
    "                        silent=0,\n",
    "                        objective='binary:logistic',\n",
    "                        early_stopping_rounds=10,\n",
    "                        num_round=500)"
   ]
  },
  {
   "cell_type": "markdown",
   "metadata": {},
   "source": [
    "### Fit the XGBoost model\n",
    "\n",
    "Now that our model has been set up we simply need to attach the training and validation datasets and then ask SageMaker to set up the computation."
   ]
  },
  {
   "cell_type": "code",
   "execution_count": 21,
   "metadata": {},
   "outputs": [],
   "source": [
    "s3_input_train = sagemaker.s3_input(s3_data=train_location, content_type='csv')\n",
    "s3_input_validation = sagemaker.s3_input(s3_data=val_location, content_type='csv')"
   ]
  },
  {
   "cell_type": "code",
   "execution_count": 22,
   "metadata": {},
   "outputs": [
    {
     "name": "stdout",
     "output_type": "stream",
     "text": [
      "2020-04-30 09:57:40 Starting - Starting the training job...\n",
      "2020-04-30 09:57:46 Starting - Launching requested ML instances......\n",
      "2020-04-30 09:59:00 Starting - Preparing the instances for training......\n",
      "2020-04-30 09:59:55 Downloading - Downloading input data...\n",
      "2020-04-30 10:00:41 Training - Training image download completed. Training in progress..\u001b[34mArguments: train\u001b[0m\n",
      "\u001b[34m[2020-04-30:10:00:41:INFO] Running standalone xgboost training.\u001b[0m\n",
      "\u001b[34m[2020-04-30:10:00:41:INFO] File size need to be processed in the node: 238.5mb. Available memory size in the node: 8494.72mb\u001b[0m\n",
      "\u001b[34m[2020-04-30:10:00:41:INFO] Determined delimiter of CSV input is ','\u001b[0m\n",
      "\u001b[34m[10:00:41] S3DistributionType set as FullyReplicated\u001b[0m\n",
      "\u001b[34m[10:00:43] 15000x5000 matrix with 75000000 entries loaded from /opt/ml/input/data/train?format=csv&label_column=0&delimiter=,\u001b[0m\n",
      "\u001b[34m[2020-04-30:10:00:43:INFO] Determined delimiter of CSV input is ','\u001b[0m\n",
      "\u001b[34m[10:00:43] S3DistributionType set as FullyReplicated\u001b[0m\n",
      "\u001b[34m[10:00:44] 10000x5000 matrix with 50000000 entries loaded from /opt/ml/input/data/validation?format=csv&label_column=0&delimiter=,\u001b[0m\n",
      "\u001b[34m[10:00:48] src/tree/updater_prune.cc:74: tree pruning end, 1 roots, 38 extra nodes, 8 pruned nodes, max_depth=5\u001b[0m\n",
      "\u001b[34m[0]#011train-error:0.304#011validation-error:0.3077\u001b[0m\n",
      "\u001b[34mMultiple eval metrics have been passed: 'validation-error' will be used for early stopping.\n",
      "\u001b[0m\n",
      "\u001b[34mWill train until validation-error hasn't improved in 10 rounds.\u001b[0m\n",
      "\u001b[34m[10:00:49] src/tree/updater_prune.cc:74: tree pruning end, 1 roots, 46 extra nodes, 2 pruned nodes, max_depth=5\u001b[0m\n",
      "\u001b[34m[1]#011train-error:0.2826#011validation-error:0.2916\u001b[0m\n",
      "\u001b[34m[10:00:50] src/tree/updater_prune.cc:74: tree pruning end, 1 roots, 36 extra nodes, 6 pruned nodes, max_depth=5\u001b[0m\n",
      "\u001b[34m[2]#011train-error:0.2898#011validation-error:0.2964\u001b[0m\n",
      "\u001b[34m[10:00:52] src/tree/updater_prune.cc:74: tree pruning end, 1 roots, 30 extra nodes, 4 pruned nodes, max_depth=5\u001b[0m\n",
      "\u001b[34m[3]#011train-error:0.29#011validation-error:0.2946\u001b[0m\n",
      "\u001b[34m[10:00:54] src/tree/updater_prune.cc:74: tree pruning end, 1 roots, 46 extra nodes, 4 pruned nodes, max_depth=5\u001b[0m\n",
      "\u001b[34m[4]#011train-error:0.273133#011validation-error:0.2776\u001b[0m\n",
      "\u001b[34m[10:00:55] src/tree/updater_prune.cc:74: tree pruning end, 1 roots, 34 extra nodes, 2 pruned nodes, max_depth=5\u001b[0m\n",
      "\u001b[34m[5]#011train-error:0.254133#011validation-error:0.2633\u001b[0m\n",
      "\u001b[34m[10:00:56] src/tree/updater_prune.cc:74: tree pruning end, 1 roots, 26 extra nodes, 10 pruned nodes, max_depth=5\u001b[0m\n",
      "\u001b[34m[6]#011train-error:0.252067#011validation-error:0.2621\u001b[0m\n",
      "\u001b[34m[10:00:57] src/tree/updater_prune.cc:74: tree pruning end, 1 roots, 24 extra nodes, 8 pruned nodes, max_depth=5\u001b[0m\n",
      "\u001b[34m[7]#011train-error:0.245933#011validation-error:0.2569\u001b[0m\n",
      "\u001b[34m[10:00:59] src/tree/updater_prune.cc:74: tree pruning end, 1 roots, 38 extra nodes, 6 pruned nodes, max_depth=5\u001b[0m\n",
      "\u001b[34m[8]#011train-error:0.233333#011validation-error:0.2456\u001b[0m\n",
      "\u001b[34m[10:01:00] src/tree/updater_prune.cc:74: tree pruning end, 1 roots, 34 extra nodes, 16 pruned nodes, max_depth=5\u001b[0m\n",
      "\u001b[34m[9]#011train-error:0.229067#011validation-error:0.2379\u001b[0m\n",
      "\u001b[34m[10:01:01] src/tree/updater_prune.cc:74: tree pruning end, 1 roots, 38 extra nodes, 6 pruned nodes, max_depth=5\u001b[0m\n",
      "\u001b[34m[10]#011train-error:0.224067#011validation-error:0.2349\u001b[0m\n",
      "\u001b[34m[10:01:02] src/tree/updater_prune.cc:74: tree pruning end, 1 roots, 24 extra nodes, 8 pruned nodes, max_depth=5\u001b[0m\n",
      "\u001b[34m[11]#011train-error:0.221867#011validation-error:0.2342\u001b[0m\n",
      "\u001b[34m[10:01:04] src/tree/updater_prune.cc:74: tree pruning end, 1 roots, 30 extra nodes, 8 pruned nodes, max_depth=5\u001b[0m\n",
      "\u001b[34m[12]#011train-error:0.2174#011validation-error:0.2316\u001b[0m\n",
      "\u001b[34m[10:01:05] src/tree/updater_prune.cc:74: tree pruning end, 1 roots, 36 extra nodes, 12 pruned nodes, max_depth=5\u001b[0m\n",
      "\u001b[34m[13]#011train-error:0.212733#011validation-error:0.2269\u001b[0m\n",
      "\u001b[34m[10:01:06] src/tree/updater_prune.cc:74: tree pruning end, 1 roots, 28 extra nodes, 12 pruned nodes, max_depth=5\u001b[0m\n",
      "\u001b[34m[14]#011train-error:0.208267#011validation-error:0.2218\u001b[0m\n",
      "\u001b[34m[10:01:07] src/tree/updater_prune.cc:74: tree pruning end, 1 roots, 24 extra nodes, 8 pruned nodes, max_depth=5\u001b[0m\n",
      "\u001b[34m[15]#011train-error:0.205933#011validation-error:0.2204\u001b[0m\n",
      "\u001b[34m[10:01:09] src/tree/updater_prune.cc:74: tree pruning end, 1 roots, 32 extra nodes, 2 pruned nodes, max_depth=5\u001b[0m\n",
      "\u001b[34m[16]#011train-error:0.199667#011validation-error:0.2181\u001b[0m\n",
      "\u001b[34m[10:01:10] src/tree/updater_prune.cc:74: tree pruning end, 1 roots, 34 extra nodes, 4 pruned nodes, max_depth=5\u001b[0m\n",
      "\u001b[34m[17]#011train-error:0.1966#011validation-error:0.2168\u001b[0m\n",
      "\u001b[34m[10:01:11] src/tree/updater_prune.cc:74: tree pruning end, 1 roots, 24 extra nodes, 14 pruned nodes, max_depth=5\u001b[0m\n",
      "\u001b[34m[18]#011train-error:0.1944#011validation-error:0.2144\u001b[0m\n",
      "\u001b[34m[10:01:12] src/tree/updater_prune.cc:74: tree pruning end, 1 roots, 26 extra nodes, 6 pruned nodes, max_depth=5\u001b[0m\n",
      "\u001b[34m[19]#011train-error:0.190467#011validation-error:0.2114\u001b[0m\n",
      "\u001b[34m[10:01:14] src/tree/updater_prune.cc:74: tree pruning end, 1 roots, 28 extra nodes, 8 pruned nodes, max_depth=5\u001b[0m\n",
      "\u001b[34m[20]#011train-error:0.187933#011validation-error:0.2089\u001b[0m\n",
      "\u001b[34m[10:01:15] src/tree/updater_prune.cc:74: tree pruning end, 1 roots, 24 extra nodes, 2 pruned nodes, max_depth=5\u001b[0m\n",
      "\u001b[34m[21]#011train-error:0.1846#011validation-error:0.2076\u001b[0m\n",
      "\u001b[34m[10:01:16] src/tree/updater_prune.cc:74: tree pruning end, 1 roots, 40 extra nodes, 8 pruned nodes, max_depth=5\u001b[0m\n",
      "\u001b[34m[22]#011train-error:0.181933#011validation-error:0.2057\u001b[0m\n",
      "\u001b[34m[10:01:17] src/tree/updater_prune.cc:74: tree pruning end, 1 roots, 20 extra nodes, 8 pruned nodes, max_depth=5\u001b[0m\n",
      "\u001b[34m[23]#011train-error:0.180867#011validation-error:0.2039\u001b[0m\n",
      "\u001b[34m[10:01:19] src/tree/updater_prune.cc:74: tree pruning end, 1 roots, 24 extra nodes, 10 pruned nodes, max_depth=5\u001b[0m\n",
      "\u001b[34m[24]#011train-error:0.176533#011validation-error:0.2035\u001b[0m\n",
      "\u001b[34m[10:01:20] src/tree/updater_prune.cc:74: tree pruning end, 1 roots, 32 extra nodes, 4 pruned nodes, max_depth=5\u001b[0m\n",
      "\u001b[34m[25]#011train-error:0.1744#011validation-error:0.2019\u001b[0m\n",
      "\u001b[34m[10:01:21] src/tree/updater_prune.cc:74: tree pruning end, 1 roots, 28 extra nodes, 12 pruned nodes, max_depth=5\u001b[0m\n",
      "\u001b[34m[26]#011train-error:0.172#011validation-error:0.2007\u001b[0m\n",
      "\u001b[34m[10:01:23] src/tree/updater_prune.cc:74: tree pruning end, 1 roots, 34 extra nodes, 10 pruned nodes, max_depth=5\u001b[0m\n",
      "\u001b[34m[27]#011train-error:0.171067#011validation-error:0.1992\u001b[0m\n",
      "\u001b[34m[10:01:24] src/tree/updater_prune.cc:74: tree pruning end, 1 roots, 32 extra nodes, 12 pruned nodes, max_depth=5\u001b[0m\n",
      "\u001b[34m[28]#011train-error:0.169267#011validation-error:0.1991\u001b[0m\n",
      "\u001b[34m[10:01:25] src/tree/updater_prune.cc:74: tree pruning end, 1 roots, 38 extra nodes, 6 pruned nodes, max_depth=5\u001b[0m\n",
      "\u001b[34m[29]#011train-error:0.1672#011validation-error:0.1986\u001b[0m\n",
      "\u001b[34m[10:01:26] src/tree/updater_prune.cc:74: tree pruning end, 1 roots, 28 extra nodes, 4 pruned nodes, max_depth=5\u001b[0m\n",
      "\u001b[34m[30]#011train-error:0.165867#011validation-error:0.1962\u001b[0m\n",
      "\u001b[34m[10:01:28] src/tree/updater_prune.cc:74: tree pruning end, 1 roots, 14 extra nodes, 14 pruned nodes, max_depth=5\u001b[0m\n",
      "\u001b[34m[31]#011train-error:0.163867#011validation-error:0.1942\u001b[0m\n",
      "\u001b[34m[10:01:29] src/tree/updater_prune.cc:74: tree pruning end, 1 roots, 22 extra nodes, 16 pruned nodes, max_depth=5\u001b[0m\n",
      "\u001b[34m[32]#011train-error:0.161933#011validation-error:0.1923\u001b[0m\n",
      "\u001b[34m[10:01:30] src/tree/updater_prune.cc:74: tree pruning end, 1 roots, 36 extra nodes, 2 pruned nodes, max_depth=5\u001b[0m\n",
      "\u001b[34m[33]#011train-error:0.160067#011validation-error:0.1898\u001b[0m\n",
      "\u001b[34m[10:01:31] src/tree/updater_prune.cc:74: tree pruning end, 1 roots, 22 extra nodes, 12 pruned nodes, max_depth=5\u001b[0m\n",
      "\u001b[34m[34]#011train-error:0.1582#011validation-error:0.1885\u001b[0m\n",
      "\u001b[34m[10:01:33] src/tree/updater_prune.cc:74: tree pruning end, 1 roots, 24 extra nodes, 10 pruned nodes, max_depth=5\u001b[0m\n",
      "\u001b[34m[35]#011train-error:0.156267#011validation-error:0.1868\u001b[0m\n",
      "\u001b[34m[10:01:34] src/tree/updater_prune.cc:74: tree pruning end, 1 roots, 34 extra nodes, 6 pruned nodes, max_depth=5\u001b[0m\n",
      "\u001b[34m[36]#011train-error:0.155#011validation-error:0.1873\u001b[0m\n",
      "\u001b[34m[10:01:35] src/tree/updater_prune.cc:74: tree pruning end, 1 roots, 40 extra nodes, 8 pruned nodes, max_depth=5\u001b[0m\n",
      "\u001b[34m[37]#011train-error:0.151333#011validation-error:0.185\u001b[0m\n",
      "\u001b[34m[10:01:36] src/tree/updater_prune.cc:74: tree pruning end, 1 roots, 22 extra nodes, 10 pruned nodes, max_depth=5\u001b[0m\n",
      "\u001b[34m[38]#011train-error:0.149267#011validation-error:0.1853\u001b[0m\n",
      "\u001b[34m[10:01:38] src/tree/updater_prune.cc:74: tree pruning end, 1 roots, 20 extra nodes, 10 pruned nodes, max_depth=5\u001b[0m\n",
      "\u001b[34m[39]#011train-error:0.149333#011validation-error:0.1843\u001b[0m\n"
     ]
    },
    {
     "name": "stdout",
     "output_type": "stream",
     "text": [
      "\u001b[34m[10:01:39] src/tree/updater_prune.cc:74: tree pruning end, 1 roots, 24 extra nodes, 10 pruned nodes, max_depth=5\u001b[0m\n",
      "\u001b[34m[40]#011train-error:0.147333#011validation-error:0.1847\u001b[0m\n",
      "\u001b[34m[10:01:40] src/tree/updater_prune.cc:74: tree pruning end, 1 roots, 32 extra nodes, 12 pruned nodes, max_depth=5\u001b[0m\n",
      "\u001b[34m[41]#011train-error:0.146933#011validation-error:0.183\u001b[0m\n",
      "\u001b[34m[10:01:41] src/tree/updater_prune.cc:74: tree pruning end, 1 roots, 20 extra nodes, 10 pruned nodes, max_depth=5\u001b[0m\n",
      "\u001b[34m[42]#011train-error:0.1458#011validation-error:0.1821\u001b[0m\n",
      "\u001b[34m[10:01:43] src/tree/updater_prune.cc:74: tree pruning end, 1 roots, 26 extra nodes, 10 pruned nodes, max_depth=5\u001b[0m\n",
      "\u001b[34m[43]#011train-error:0.144067#011validation-error:0.1815\u001b[0m\n",
      "\u001b[34m[10:01:44] src/tree/updater_prune.cc:74: tree pruning end, 1 roots, 20 extra nodes, 12 pruned nodes, max_depth=5\u001b[0m\n",
      "\u001b[34m[44]#011train-error:0.1424#011validation-error:0.1798\u001b[0m\n",
      "\u001b[34m[10:01:45] src/tree/updater_prune.cc:74: tree pruning end, 1 roots, 32 extra nodes, 4 pruned nodes, max_depth=5\u001b[0m\n",
      "\u001b[34m[45]#011train-error:0.1414#011validation-error:0.179\u001b[0m\n",
      "\u001b[34m[10:01:46] src/tree/updater_prune.cc:74: tree pruning end, 1 roots, 24 extra nodes, 2 pruned nodes, max_depth=5\u001b[0m\n",
      "\u001b[34m[46]#011train-error:0.140133#011validation-error:0.1789\u001b[0m\n",
      "\u001b[34m[10:01:48] src/tree/updater_prune.cc:74: tree pruning end, 1 roots, 16 extra nodes, 18 pruned nodes, max_depth=5\u001b[0m\n",
      "\u001b[34m[47]#011train-error:0.139267#011validation-error:0.1769\u001b[0m\n",
      "\u001b[34m[10:01:49] src/tree/updater_prune.cc:74: tree pruning end, 1 roots, 28 extra nodes, 12 pruned nodes, max_depth=5\u001b[0m\n",
      "\u001b[34m[48]#011train-error:0.138733#011validation-error:0.1768\u001b[0m\n",
      "\u001b[34m[10:01:50] src/tree/updater_prune.cc:74: tree pruning end, 1 roots, 36 extra nodes, 8 pruned nodes, max_depth=5\u001b[0m\n",
      "\u001b[34m[49]#011train-error:0.1366#011validation-error:0.178\u001b[0m\n",
      "\u001b[34m[10:01:52] src/tree/updater_prune.cc:74: tree pruning end, 1 roots, 14 extra nodes, 8 pruned nodes, max_depth=5\u001b[0m\n",
      "\u001b[34m[50]#011train-error:0.136#011validation-error:0.176\u001b[0m\n",
      "\u001b[34m[10:01:53] src/tree/updater_prune.cc:74: tree pruning end, 1 roots, 38 extra nodes, 8 pruned nodes, max_depth=5\u001b[0m\n",
      "\u001b[34m[51]#011train-error:0.1354#011validation-error:0.1755\u001b[0m\n",
      "\u001b[34m[10:01:54] src/tree/updater_prune.cc:74: tree pruning end, 1 roots, 24 extra nodes, 6 pruned nodes, max_depth=5\u001b[0m\n",
      "\u001b[34m[52]#011train-error:0.134667#011validation-error:0.1748\u001b[0m\n",
      "\u001b[34m[10:01:55] src/tree/updater_prune.cc:74: tree pruning end, 1 roots, 20 extra nodes, 6 pruned nodes, max_depth=5\u001b[0m\n",
      "\u001b[34m[53]#011train-error:0.134667#011validation-error:0.176\u001b[0m\n",
      "\u001b[34m[10:01:57] src/tree/updater_prune.cc:74: tree pruning end, 1 roots, 36 extra nodes, 6 pruned nodes, max_depth=5\u001b[0m\n",
      "\u001b[34m[54]#011train-error:0.1332#011validation-error:0.1745\u001b[0m\n",
      "\u001b[34m[10:01:58] src/tree/updater_prune.cc:74: tree pruning end, 1 roots, 20 extra nodes, 8 pruned nodes, max_depth=5\u001b[0m\n",
      "\u001b[34m[55]#011train-error:0.131533#011validation-error:0.1735\u001b[0m\n",
      "\u001b[34m[10:01:59] src/tree/updater_prune.cc:74: tree pruning end, 1 roots, 26 extra nodes, 0 pruned nodes, max_depth=5\u001b[0m\n",
      "\u001b[34m[56]#011train-error:0.130867#011validation-error:0.1727\u001b[0m\n",
      "\u001b[34m[10:02:00] src/tree/updater_prune.cc:74: tree pruning end, 1 roots, 24 extra nodes, 2 pruned nodes, max_depth=5\u001b[0m\n",
      "\u001b[34m[57]#011train-error:0.128667#011validation-error:0.1726\u001b[0m\n",
      "\u001b[34m[10:02:02] src/tree/updater_prune.cc:74: tree pruning end, 1 roots, 14 extra nodes, 14 pruned nodes, max_depth=5\u001b[0m\n",
      "\u001b[34m[58]#011train-error:0.1288#011validation-error:0.1718\u001b[0m\n",
      "\u001b[34m[10:02:03] src/tree/updater_prune.cc:74: tree pruning end, 1 roots, 16 extra nodes, 12 pruned nodes, max_depth=5\u001b[0m\n",
      "\u001b[34m[59]#011train-error:0.1288#011validation-error:0.1702\u001b[0m\n",
      "\u001b[34m[10:02:04] src/tree/updater_prune.cc:74: tree pruning end, 1 roots, 32 extra nodes, 6 pruned nodes, max_depth=5\u001b[0m\n",
      "\u001b[34m[60]#011train-error:0.128733#011validation-error:0.1697\u001b[0m\n",
      "\u001b[34m[10:02:05] src/tree/updater_prune.cc:74: tree pruning end, 1 roots, 16 extra nodes, 16 pruned nodes, max_depth=5\u001b[0m\n",
      "\u001b[34m[61]#011train-error:0.1278#011validation-error:0.1694\u001b[0m\n",
      "\u001b[34m[10:02:07] src/tree/updater_prune.cc:74: tree pruning end, 1 roots, 12 extra nodes, 12 pruned nodes, max_depth=5\u001b[0m\n",
      "\u001b[34m[62]#011train-error:0.126933#011validation-error:0.1683\u001b[0m\n",
      "\u001b[34m[10:02:08] src/tree/updater_prune.cc:74: tree pruning end, 1 roots, 18 extra nodes, 12 pruned nodes, max_depth=5\u001b[0m\n",
      "\u001b[34m[63]#011train-error:0.126533#011validation-error:0.168\u001b[0m\n",
      "\u001b[34m[10:02:09] src/tree/updater_prune.cc:74: tree pruning end, 1 roots, 18 extra nodes, 14 pruned nodes, max_depth=5\u001b[0m\n",
      "\u001b[34m[64]#011train-error:0.126133#011validation-error:0.168\u001b[0m\n",
      "\u001b[34m[10:02:10] src/tree/updater_prune.cc:74: tree pruning end, 1 roots, 32 extra nodes, 6 pruned nodes, max_depth=5\u001b[0m\n",
      "\u001b[34m[65]#011train-error:0.123133#011validation-error:0.1682\u001b[0m\n",
      "\u001b[34m[10:02:12] src/tree/updater_prune.cc:74: tree pruning end, 1 roots, 14 extra nodes, 14 pruned nodes, max_depth=5\u001b[0m\n",
      "\u001b[34m[66]#011train-error:0.1224#011validation-error:0.1681\u001b[0m\n",
      "\u001b[34m[10:02:13] src/tree/updater_prune.cc:74: tree pruning end, 1 roots, 14 extra nodes, 12 pruned nodes, max_depth=5\u001b[0m\n",
      "\u001b[34m[67]#011train-error:0.1218#011validation-error:0.1677\u001b[0m\n",
      "\u001b[34m[10:02:14] src/tree/updater_prune.cc:74: tree pruning end, 1 roots, 30 extra nodes, 10 pruned nodes, max_depth=5\u001b[0m\n",
      "\u001b[34m[68]#011train-error:0.122#011validation-error:0.1664\u001b[0m\n",
      "\u001b[34m[10:02:15] src/tree/updater_prune.cc:74: tree pruning end, 1 roots, 12 extra nodes, 14 pruned nodes, max_depth=5\u001b[0m\n",
      "\u001b[34m[69]#011train-error:0.121533#011validation-error:0.1666\u001b[0m\n",
      "\u001b[34m[10:02:17] src/tree/updater_prune.cc:74: tree pruning end, 1 roots, 42 extra nodes, 10 pruned nodes, max_depth=5\u001b[0m\n",
      "\u001b[34m[70]#011train-error:0.119133#011validation-error:0.1671\u001b[0m\n",
      "\u001b[34m[10:02:18] src/tree/updater_prune.cc:74: tree pruning end, 1 roots, 24 extra nodes, 8 pruned nodes, max_depth=5\u001b[0m\n",
      "\u001b[34m[71]#011train-error:0.118333#011validation-error:0.1662\u001b[0m\n",
      "\u001b[34m[10:02:19] src/tree/updater_prune.cc:74: tree pruning end, 1 roots, 20 extra nodes, 8 pruned nodes, max_depth=5\u001b[0m\n",
      "\u001b[34m[72]#011train-error:0.117133#011validation-error:0.1655\u001b[0m\n",
      "\u001b[34m[10:02:20] src/tree/updater_prune.cc:74: tree pruning end, 1 roots, 16 extra nodes, 12 pruned nodes, max_depth=5\u001b[0m\n",
      "\u001b[34m[73]#011train-error:0.1172#011validation-error:0.1638\u001b[0m\n",
      "\u001b[34m[10:02:22] src/tree/updater_prune.cc:74: tree pruning end, 1 roots, 12 extra nodes, 10 pruned nodes, max_depth=5\u001b[0m\n",
      "\u001b[34m[74]#011train-error:0.117#011validation-error:0.1631\u001b[0m\n",
      "\u001b[34m[10:02:23] src/tree/updater_prune.cc:74: tree pruning end, 1 roots, 20 extra nodes, 4 pruned nodes, max_depth=5\u001b[0m\n",
      "\u001b[34m[75]#011train-error:0.117333#011validation-error:0.1646\u001b[0m\n",
      "\u001b[34m[10:02:24] src/tree/updater_prune.cc:74: tree pruning end, 1 roots, 14 extra nodes, 4 pruned nodes, max_depth=5\u001b[0m\n",
      "\u001b[34m[76]#011train-error:0.116933#011validation-error:0.1643\u001b[0m\n",
      "\u001b[34m[10:02:25] src/tree/updater_prune.cc:74: tree pruning end, 1 roots, 12 extra nodes, 10 pruned nodes, max_depth=5\u001b[0m\n",
      "\u001b[34m[77]#011train-error:0.116067#011validation-error:0.1638\u001b[0m\n",
      "\u001b[34m[10:02:27] src/tree/updater_prune.cc:74: tree pruning end, 1 roots, 12 extra nodes, 8 pruned nodes, max_depth=5\u001b[0m\n",
      "\u001b[34m[78]#011train-error:0.115333#011validation-error:0.1632\u001b[0m\n",
      "\u001b[34m[10:02:28] src/tree/updater_prune.cc:74: tree pruning end, 1 roots, 28 extra nodes, 8 pruned nodes, max_depth=5\u001b[0m\n",
      "\u001b[34m[79]#011train-error:0.114267#011validation-error:0.1629\u001b[0m\n",
      "\u001b[34m[10:02:29] src/tree/updater_prune.cc:74: tree pruning end, 1 roots, 20 extra nodes, 12 pruned nodes, max_depth=5\u001b[0m\n",
      "\u001b[34m[80]#011train-error:0.1142#011validation-error:0.1631\u001b[0m\n",
      "\u001b[34m[10:02:31] src/tree/updater_prune.cc:74: tree pruning end, 1 roots, 18 extra nodes, 6 pruned nodes, max_depth=5\u001b[0m\n",
      "\u001b[34m[81]#011train-error:0.1128#011validation-error:0.1629\u001b[0m\n",
      "\u001b[34m[10:02:32] src/tree/updater_prune.cc:74: tree pruning end, 1 roots, 24 extra nodes, 10 pruned nodes, max_depth=5\u001b[0m\n",
      "\u001b[34m[82]#011train-error:0.1116#011validation-error:0.1638\u001b[0m\n",
      "\u001b[34m[10:02:33] src/tree/updater_prune.cc:74: tree pruning end, 1 roots, 14 extra nodes, 12 pruned nodes, max_depth=5\u001b[0m\n",
      "\u001b[34m[83]#011train-error:0.112267#011validation-error:0.1639\u001b[0m\n",
      "\u001b[34m[10:02:34] src/tree/updater_prune.cc:74: tree pruning end, 1 roots, 12 extra nodes, 8 pruned nodes, max_depth=5\u001b[0m\n",
      "\u001b[34m[84]#011train-error:0.1118#011validation-error:0.1638\u001b[0m\n",
      "\u001b[34m[10:02:36] src/tree/updater_prune.cc:74: tree pruning end, 1 roots, 10 extra nodes, 16 pruned nodes, max_depth=5\u001b[0m\n",
      "\u001b[34m[85]#011train-error:0.1112#011validation-error:0.1628\u001b[0m\n",
      "\u001b[34m[10:02:37] src/tree/updater_prune.cc:74: tree pruning end, 1 roots, 14 extra nodes, 6 pruned nodes, max_depth=5\u001b[0m\n",
      "\u001b[34m[86]#011train-error:0.110867#011validation-error:0.1624\u001b[0m\n",
      "\u001b[34m[10:02:38] src/tree/updater_prune.cc:74: tree pruning end, 1 roots, 16 extra nodes, 10 pruned nodes, max_depth=5\u001b[0m\n",
      "\u001b[34m[87]#011train-error:0.1104#011validation-error:0.1618\u001b[0m\n"
     ]
    },
    {
     "name": "stdout",
     "output_type": "stream",
     "text": [
      "\u001b[34m[10:02:39] src/tree/updater_prune.cc:74: tree pruning end, 1 roots, 16 extra nodes, 4 pruned nodes, max_depth=5\u001b[0m\n",
      "\u001b[34m[88]#011train-error:0.110733#011validation-error:0.161\u001b[0m\n",
      "\u001b[34m[10:02:41] src/tree/updater_prune.cc:74: tree pruning end, 1 roots, 16 extra nodes, 16 pruned nodes, max_depth=5\u001b[0m\n",
      "\u001b[34m[89]#011train-error:0.110533#011validation-error:0.1611\u001b[0m\n",
      "\u001b[34m[10:02:42] src/tree/updater_prune.cc:74: tree pruning end, 1 roots, 24 extra nodes, 12 pruned nodes, max_depth=5\u001b[0m\n",
      "\u001b[34m[90]#011train-error:0.109867#011validation-error:0.1596\u001b[0m\n",
      "\u001b[34m[10:02:43] src/tree/updater_prune.cc:74: tree pruning end, 1 roots, 22 extra nodes, 10 pruned nodes, max_depth=5\u001b[0m\n",
      "\u001b[34m[91]#011train-error:0.109#011validation-error:0.1597\u001b[0m\n",
      "\u001b[34m[10:02:44] src/tree/updater_prune.cc:74: tree pruning end, 1 roots, 12 extra nodes, 6 pruned nodes, max_depth=5\u001b[0m\n",
      "\u001b[34m[92]#011train-error:0.108333#011validation-error:0.159\u001b[0m\n",
      "\u001b[34m[10:02:46] src/tree/updater_prune.cc:74: tree pruning end, 1 roots, 12 extra nodes, 2 pruned nodes, max_depth=5\u001b[0m\n",
      "\u001b[34m[93]#011train-error:0.108067#011validation-error:0.1585\u001b[0m\n",
      "\u001b[34m[10:02:47] src/tree/updater_prune.cc:74: tree pruning end, 1 roots, 24 extra nodes, 10 pruned nodes, max_depth=5\u001b[0m\n",
      "\u001b[34m[94]#011train-error:0.107067#011validation-error:0.1576\u001b[0m\n",
      "\u001b[34m[10:02:48] src/tree/updater_prune.cc:74: tree pruning end, 1 roots, 18 extra nodes, 2 pruned nodes, max_depth=5\u001b[0m\n",
      "\u001b[34m[95]#011train-error:0.105533#011validation-error:0.1574\u001b[0m\n",
      "\u001b[34m[10:02:49] src/tree/updater_prune.cc:74: tree pruning end, 1 roots, 18 extra nodes, 8 pruned nodes, max_depth=5\u001b[0m\n",
      "\u001b[34m[96]#011train-error:0.104467#011validation-error:0.1574\u001b[0m\n",
      "\u001b[34m[10:02:51] src/tree/updater_prune.cc:74: tree pruning end, 1 roots, 12 extra nodes, 2 pruned nodes, max_depth=5\u001b[0m\n",
      "\u001b[34m[97]#011train-error:0.104133#011validation-error:0.1574\u001b[0m\n",
      "\u001b[34m[10:02:52] src/tree/updater_prune.cc:74: tree pruning end, 1 roots, 28 extra nodes, 4 pruned nodes, max_depth=5\u001b[0m\n",
      "\u001b[34m[98]#011train-error:0.1034#011validation-error:0.156\u001b[0m\n",
      "\u001b[34m[10:02:53] src/tree/updater_prune.cc:74: tree pruning end, 1 roots, 18 extra nodes, 8 pruned nodes, max_depth=5\u001b[0m\n",
      "\u001b[34m[99]#011train-error:0.102333#011validation-error:0.1563\u001b[0m\n",
      "\u001b[34m[10:02:54] src/tree/updater_prune.cc:74: tree pruning end, 1 roots, 12 extra nodes, 8 pruned nodes, max_depth=5\u001b[0m\n",
      "\u001b[34m[100]#011train-error:0.1024#011validation-error:0.1552\u001b[0m\n",
      "\u001b[34m[10:02:56] src/tree/updater_prune.cc:74: tree pruning end, 1 roots, 18 extra nodes, 8 pruned nodes, max_depth=5\u001b[0m\n",
      "\u001b[34m[101]#011train-error:0.101533#011validation-error:0.1557\u001b[0m\n",
      "\u001b[34m[10:02:57] src/tree/updater_prune.cc:74: tree pruning end, 1 roots, 18 extra nodes, 12 pruned nodes, max_depth=5\u001b[0m\n",
      "\u001b[34m[102]#011train-error:0.100733#011validation-error:0.1556\u001b[0m\n",
      "\u001b[34m[10:02:58] src/tree/updater_prune.cc:74: tree pruning end, 1 roots, 14 extra nodes, 8 pruned nodes, max_depth=5\u001b[0m\n",
      "\u001b[34m[103]#011train-error:0.100067#011validation-error:0.155\u001b[0m\n",
      "\u001b[34m[10:02:59] src/tree/updater_prune.cc:74: tree pruning end, 1 roots, 28 extra nodes, 14 pruned nodes, max_depth=5\u001b[0m\n",
      "\u001b[34m[104]#011train-error:0.099533#011validation-error:0.155\u001b[0m\n",
      "\u001b[34m[10:03:01] src/tree/updater_prune.cc:74: tree pruning end, 1 roots, 16 extra nodes, 4 pruned nodes, max_depth=5\u001b[0m\n",
      "\u001b[34m[105]#011train-error:0.099467#011validation-error:0.1547\u001b[0m\n",
      "\u001b[34m[10:03:02] src/tree/updater_prune.cc:74: tree pruning end, 1 roots, 12 extra nodes, 2 pruned nodes, max_depth=5\u001b[0m\n",
      "\u001b[34m[106]#011train-error:0.099267#011validation-error:0.1545\u001b[0m\n",
      "\u001b[34m[10:03:03] src/tree/updater_prune.cc:74: tree pruning end, 1 roots, 30 extra nodes, 10 pruned nodes, max_depth=5\u001b[0m\n",
      "\u001b[34m[107]#011train-error:0.099133#011validation-error:0.1532\u001b[0m\n",
      "\u001b[34m[10:03:05] src/tree/updater_prune.cc:74: tree pruning end, 1 roots, 12 extra nodes, 4 pruned nodes, max_depth=5\u001b[0m\n",
      "\u001b[34m[108]#011train-error:0.099067#011validation-error:0.1533\u001b[0m\n",
      "\u001b[34m[10:03:06] src/tree/updater_prune.cc:74: tree pruning end, 1 roots, 18 extra nodes, 4 pruned nodes, max_depth=5\u001b[0m\n",
      "\u001b[34m[109]#011train-error:0.098533#011validation-error:0.1526\u001b[0m\n",
      "\u001b[34m[10:03:07] src/tree/updater_prune.cc:74: tree pruning end, 1 roots, 14 extra nodes, 6 pruned nodes, max_depth=5\u001b[0m\n",
      "\u001b[34m[110]#011train-error:0.098267#011validation-error:0.1509\u001b[0m\n",
      "\u001b[34m[10:03:08] src/tree/updater_prune.cc:74: tree pruning end, 1 roots, 12 extra nodes, 2 pruned nodes, max_depth=5\u001b[0m\n",
      "\u001b[34m[111]#011train-error:0.097667#011validation-error:0.1513\u001b[0m\n",
      "\u001b[34m[10:03:10] src/tree/updater_prune.cc:74: tree pruning end, 1 roots, 22 extra nodes, 10 pruned nodes, max_depth=5\u001b[0m\n",
      "\u001b[34m[112]#011train-error:0.097067#011validation-error:0.1505\u001b[0m\n",
      "\u001b[34m[10:03:11] src/tree/updater_prune.cc:74: tree pruning end, 1 roots, 10 extra nodes, 10 pruned nodes, max_depth=5\u001b[0m\n",
      "\u001b[34m[113]#011train-error:0.0968#011validation-error:0.1509\u001b[0m\n",
      "\u001b[34m[10:03:12] src/tree/updater_prune.cc:74: tree pruning end, 1 roots, 16 extra nodes, 6 pruned nodes, max_depth=5\u001b[0m\n",
      "\u001b[34m[114]#011train-error:0.097#011validation-error:0.1515\u001b[0m\n",
      "\u001b[34m[10:03:13] src/tree/updater_prune.cc:74: tree pruning end, 1 roots, 14 extra nodes, 10 pruned nodes, max_depth=5\u001b[0m\n",
      "\u001b[34m[115]#011train-error:0.095733#011validation-error:0.1511\u001b[0m\n",
      "\u001b[34m[10:03:15] src/tree/updater_prune.cc:74: tree pruning end, 1 roots, 22 extra nodes, 10 pruned nodes, max_depth=5\u001b[0m\n",
      "\u001b[34m[116]#011train-error:0.0954#011validation-error:0.1505\u001b[0m\n",
      "\u001b[34m[10:03:16] src/tree/updater_prune.cc:74: tree pruning end, 1 roots, 20 extra nodes, 4 pruned nodes, max_depth=5\u001b[0m\n",
      "\u001b[34m[117]#011train-error:0.0952#011validation-error:0.1507\u001b[0m\n",
      "\u001b[34m[10:03:17] src/tree/updater_prune.cc:74: tree pruning end, 1 roots, 20 extra nodes, 8 pruned nodes, max_depth=5\u001b[0m\n",
      "\u001b[34m[118]#011train-error:0.0942#011validation-error:0.1503\u001b[0m\n",
      "\u001b[34m[10:03:18] src/tree/updater_prune.cc:74: tree pruning end, 1 roots, 18 extra nodes, 12 pruned nodes, max_depth=5\u001b[0m\n",
      "\u001b[34m[119]#011train-error:0.094067#011validation-error:0.1504\u001b[0m\n",
      "\u001b[34m[10:03:20] src/tree/updater_prune.cc:74: tree pruning end, 1 roots, 12 extra nodes, 20 pruned nodes, max_depth=5\u001b[0m\n",
      "\u001b[34m[120]#011train-error:0.094#011validation-error:0.1505\u001b[0m\n",
      "\u001b[34m[10:03:21] src/tree/updater_prune.cc:74: tree pruning end, 1 roots, 16 extra nodes, 10 pruned nodes, max_depth=5\u001b[0m\n",
      "\u001b[34m[121]#011train-error:0.0934#011validation-error:0.1511\u001b[0m\n",
      "\u001b[34m[10:03:22] src/tree/updater_prune.cc:74: tree pruning end, 1 roots, 40 extra nodes, 0 pruned nodes, max_depth=5\u001b[0m\n",
      "\u001b[34m[122]#011train-error:0.0928#011validation-error:0.1502\u001b[0m\n",
      "\u001b[34m[10:03:23] src/tree/updater_prune.cc:74: tree pruning end, 1 roots, 34 extra nodes, 4 pruned nodes, max_depth=5\u001b[0m\n",
      "\u001b[34m[123]#011train-error:0.0926#011validation-error:0.1504\u001b[0m\n",
      "\u001b[34m[10:03:25] src/tree/updater_prune.cc:74: tree pruning end, 1 roots, 16 extra nodes, 4 pruned nodes, max_depth=5\u001b[0m\n",
      "\u001b[34m[124]#011train-error:0.092667#011validation-error:0.1502\u001b[0m\n",
      "\u001b[34m[10:03:26] src/tree/updater_prune.cc:74: tree pruning end, 1 roots, 18 extra nodes, 2 pruned nodes, max_depth=5\u001b[0m\n",
      "\u001b[34m[125]#011train-error:0.0918#011validation-error:0.1505\u001b[0m\n",
      "\u001b[34m[10:03:27] src/tree/updater_prune.cc:74: tree pruning end, 1 roots, 16 extra nodes, 6 pruned nodes, max_depth=5\u001b[0m\n",
      "\u001b[34m[126]#011train-error:0.091133#011validation-error:0.1502\u001b[0m\n",
      "\u001b[34m[10:03:29] src/tree/updater_prune.cc:74: tree pruning end, 1 roots, 14 extra nodes, 8 pruned nodes, max_depth=5\u001b[0m\n",
      "\u001b[34m[127]#011train-error:0.090467#011validation-error:0.1497\u001b[0m\n",
      "\u001b[34m[10:03:30] src/tree/updater_prune.cc:74: tree pruning end, 1 roots, 14 extra nodes, 6 pruned nodes, max_depth=5\u001b[0m\n",
      "\u001b[34m[128]#011train-error:0.090667#011validation-error:0.1497\u001b[0m\n",
      "\u001b[34m[10:03:31] src/tree/updater_prune.cc:74: tree pruning end, 1 roots, 20 extra nodes, 12 pruned nodes, max_depth=5\u001b[0m\n",
      "\u001b[34m[129]#011train-error:0.090533#011validation-error:0.149\u001b[0m\n",
      "\u001b[34m[10:03:32] src/tree/updater_prune.cc:74: tree pruning end, 1 roots, 16 extra nodes, 4 pruned nodes, max_depth=5\u001b[0m\n",
      "\u001b[34m[130]#011train-error:0.089867#011validation-error:0.1488\u001b[0m\n",
      "\u001b[34m[10:03:34] src/tree/updater_prune.cc:74: tree pruning end, 1 roots, 10 extra nodes, 4 pruned nodes, max_depth=5\u001b[0m\n",
      "\u001b[34m[131]#011train-error:0.0896#011validation-error:0.1487\u001b[0m\n",
      "\u001b[34m[10:03:35] src/tree/updater_prune.cc:74: tree pruning end, 1 roots, 10 extra nodes, 12 pruned nodes, max_depth=5\u001b[0m\n",
      "\u001b[34m[132]#011train-error:0.089867#011validation-error:0.1492\u001b[0m\n",
      "\u001b[34m[10:03:36] src/tree/updater_prune.cc:74: tree pruning end, 1 roots, 18 extra nodes, 8 pruned nodes, max_depth=5\u001b[0m\n",
      "\u001b[34m[133]#011train-error:0.089133#011validation-error:0.1482\u001b[0m\n",
      "\u001b[34m[10:03:37] src/tree/updater_prune.cc:74: tree pruning end, 1 roots, 16 extra nodes, 10 pruned nodes, max_depth=5\u001b[0m\n",
      "\u001b[34m[134]#011train-error:0.0888#011validation-error:0.1481\u001b[0m\n",
      "\u001b[34m[10:03:39] src/tree/updater_prune.cc:74: tree pruning end, 1 roots, 28 extra nodes, 6 pruned nodes, max_depth=5\u001b[0m\n",
      "\u001b[34m[135]#011train-error:0.0884#011validation-error:0.1476\u001b[0m\n"
     ]
    },
    {
     "name": "stdout",
     "output_type": "stream",
     "text": [
      "\u001b[34m[10:03:40] src/tree/updater_prune.cc:74: tree pruning end, 1 roots, 22 extra nodes, 8 pruned nodes, max_depth=5\u001b[0m\n",
      "\u001b[34m[136]#011train-error:0.0884#011validation-error:0.147\u001b[0m\n",
      "\u001b[34m[10:03:41] src/tree/updater_prune.cc:74: tree pruning end, 1 roots, 22 extra nodes, 10 pruned nodes, max_depth=5\u001b[0m\n",
      "\u001b[34m[137]#011train-error:0.087467#011validation-error:0.1476\u001b[0m\n",
      "\u001b[34m[10:03:42] src/tree/updater_prune.cc:74: tree pruning end, 1 roots, 36 extra nodes, 8 pruned nodes, max_depth=5\u001b[0m\n",
      "\u001b[34m[138]#011train-error:0.0878#011validation-error:0.1459\u001b[0m\n",
      "\u001b[34m[10:03:44] src/tree/updater_prune.cc:74: tree pruning end, 1 roots, 14 extra nodes, 6 pruned nodes, max_depth=5\u001b[0m\n",
      "\u001b[34m[139]#011train-error:0.087133#011validation-error:0.1462\u001b[0m\n",
      "\u001b[34m[10:03:45] src/tree/updater_prune.cc:74: tree pruning end, 1 roots, 14 extra nodes, 10 pruned nodes, max_depth=5\u001b[0m\n",
      "\u001b[34m[140]#011train-error:0.086867#011validation-error:0.1463\u001b[0m\n",
      "\u001b[34m[10:03:46] src/tree/updater_prune.cc:74: tree pruning end, 1 roots, 10 extra nodes, 4 pruned nodes, max_depth=5\u001b[0m\n",
      "\u001b[34m[141]#011train-error:0.0866#011validation-error:0.1459\u001b[0m\n",
      "\u001b[34m[10:03:47] src/tree/updater_prune.cc:74: tree pruning end, 1 roots, 12 extra nodes, 8 pruned nodes, max_depth=5\u001b[0m\n",
      "\u001b[34m[142]#011train-error:0.086533#011validation-error:0.1456\u001b[0m\n",
      "\u001b[34m[10:03:49] src/tree/updater_prune.cc:74: tree pruning end, 1 roots, 16 extra nodes, 4 pruned nodes, max_depth=5\u001b[0m\n",
      "\u001b[34m[143]#011train-error:0.086467#011validation-error:0.1448\u001b[0m\n",
      "\u001b[34m[10:03:50] src/tree/updater_prune.cc:74: tree pruning end, 1 roots, 16 extra nodes, 6 pruned nodes, max_depth=5\u001b[0m\n",
      "\u001b[34m[144]#011train-error:0.085667#011validation-error:0.1449\u001b[0m\n",
      "\u001b[34m[10:03:51] src/tree/updater_prune.cc:74: tree pruning end, 1 roots, 14 extra nodes, 18 pruned nodes, max_depth=5\u001b[0m\n",
      "\u001b[34m[145]#011train-error:0.085333#011validation-error:0.1447\u001b[0m\n",
      "\u001b[34m[10:03:52] src/tree/updater_prune.cc:74: tree pruning end, 1 roots, 10 extra nodes, 4 pruned nodes, max_depth=5\u001b[0m\n",
      "\u001b[34m[146]#011train-error:0.085067#011validation-error:0.144\u001b[0m\n",
      "\u001b[34m[10:03:54] src/tree/updater_prune.cc:74: tree pruning end, 1 roots, 18 extra nodes, 6 pruned nodes, max_depth=5\u001b[0m\n",
      "\u001b[34m[147]#011train-error:0.0848#011validation-error:0.1445\u001b[0m\n",
      "\u001b[34m[10:03:55] src/tree/updater_prune.cc:74: tree pruning end, 1 roots, 14 extra nodes, 8 pruned nodes, max_depth=5\u001b[0m\n",
      "\u001b[34m[148]#011train-error:0.0844#011validation-error:0.1437\u001b[0m\n",
      "\u001b[34m[10:03:56] src/tree/updater_prune.cc:74: tree pruning end, 1 roots, 14 extra nodes, 12 pruned nodes, max_depth=5\u001b[0m\n",
      "\u001b[34m[149]#011train-error:0.084133#011validation-error:0.1442\u001b[0m\n",
      "\u001b[34m[10:03:58] src/tree/updater_prune.cc:74: tree pruning end, 1 roots, 12 extra nodes, 10 pruned nodes, max_depth=5\u001b[0m\n",
      "\u001b[34m[150]#011train-error:0.0846#011validation-error:0.1443\u001b[0m\n",
      "\u001b[34m[10:03:59] src/tree/updater_prune.cc:74: tree pruning end, 1 roots, 10 extra nodes, 10 pruned nodes, max_depth=5\u001b[0m\n",
      "\u001b[34m[151]#011train-error:0.0844#011validation-error:0.1439\u001b[0m\n",
      "\u001b[34m[10:04:00] src/tree/updater_prune.cc:74: tree pruning end, 1 roots, 22 extra nodes, 6 pruned nodes, max_depth=5\u001b[0m\n",
      "\u001b[34m[152]#011train-error:0.083533#011validation-error:0.1432\u001b[0m\n",
      "\u001b[34m[10:04:01] src/tree/updater_prune.cc:74: tree pruning end, 1 roots, 14 extra nodes, 4 pruned nodes, max_depth=5\u001b[0m\n",
      "\u001b[34m[153]#011train-error:0.083467#011validation-error:0.1432\u001b[0m\n",
      "\u001b[34m[10:04:03] src/tree/updater_prune.cc:74: tree pruning end, 1 roots, 18 extra nodes, 6 pruned nodes, max_depth=5\u001b[0m\n",
      "\u001b[34m[154]#011train-error:0.0828#011validation-error:0.1436\u001b[0m\n",
      "\u001b[34m[10:04:04] src/tree/updater_prune.cc:74: tree pruning end, 1 roots, 18 extra nodes, 14 pruned nodes, max_depth=5\u001b[0m\n",
      "\u001b[34m[155]#011train-error:0.082267#011validation-error:0.143\u001b[0m\n",
      "\u001b[34m[10:04:05] src/tree/updater_prune.cc:74: tree pruning end, 1 roots, 14 extra nodes, 8 pruned nodes, max_depth=5\u001b[0m\n",
      "\u001b[34m[156]#011train-error:0.081867#011validation-error:0.1433\u001b[0m\n",
      "\u001b[34m[10:04:06] src/tree/updater_prune.cc:74: tree pruning end, 1 roots, 26 extra nodes, 14 pruned nodes, max_depth=5\u001b[0m\n",
      "\u001b[34m[157]#011train-error:0.0816#011validation-error:0.1432\u001b[0m\n",
      "\u001b[34m[10:04:08] src/tree/updater_prune.cc:74: tree pruning end, 1 roots, 10 extra nodes, 6 pruned nodes, max_depth=5\u001b[0m\n",
      "\u001b[34m[158]#011train-error:0.081467#011validation-error:0.1433\u001b[0m\n",
      "\u001b[34m[10:04:09] src/tree/updater_prune.cc:74: tree pruning end, 1 roots, 22 extra nodes, 12 pruned nodes, max_depth=5\u001b[0m\n",
      "\u001b[34m[159]#011train-error:0.081067#011validation-error:0.1441\u001b[0m\n",
      "\u001b[34m[10:04:10] src/tree/updater_prune.cc:74: tree pruning end, 1 roots, 16 extra nodes, 14 pruned nodes, max_depth=5\u001b[0m\n",
      "\u001b[34m[160]#011train-error:0.080933#011validation-error:0.1442\u001b[0m\n",
      "\u001b[34m[10:04:11] src/tree/updater_prune.cc:74: tree pruning end, 1 roots, 32 extra nodes, 14 pruned nodes, max_depth=5\u001b[0m\n",
      "\u001b[34m[161]#011train-error:0.080067#011validation-error:0.1441\u001b[0m\n",
      "\u001b[34m[10:04:13] src/tree/updater_prune.cc:74: tree pruning end, 1 roots, 16 extra nodes, 10 pruned nodes, max_depth=5\u001b[0m\n",
      "\u001b[34m[162]#011train-error:0.079467#011validation-error:0.1446\u001b[0m\n",
      "\u001b[34m[10:04:14] src/tree/updater_prune.cc:74: tree pruning end, 1 roots, 12 extra nodes, 4 pruned nodes, max_depth=5\u001b[0m\n",
      "\u001b[34m[163]#011train-error:0.079133#011validation-error:0.1439\u001b[0m\n",
      "\u001b[34m[10:04:15] src/tree/updater_prune.cc:74: tree pruning end, 1 roots, 14 extra nodes, 6 pruned nodes, max_depth=5\u001b[0m\n",
      "\u001b[34m[164]#011train-error:0.078267#011validation-error:0.1433\u001b[0m\n",
      "\u001b[34m[10:04:16] src/tree/updater_prune.cc:74: tree pruning end, 1 roots, 20 extra nodes, 14 pruned nodes, max_depth=5\u001b[0m\n",
      "\u001b[34m[165]#011train-error:0.078133#011validation-error:0.1436\u001b[0m\n",
      "\u001b[34mStopping. Best iteration:\u001b[0m\n",
      "\u001b[34m[155]#011train-error:0.082267#011validation-error:0.143\n",
      "\u001b[0m\n",
      "\n",
      "2020-04-30 10:04:26 Uploading - Uploading generated training model\n",
      "2020-04-30 10:04:26 Completed - Training job completed\n",
      "Training seconds: 271\n",
      "Billable seconds: 271\n"
     ]
    }
   ],
   "source": [
    "xgb.fit({'train': s3_input_train, 'validation': s3_input_validation})"
   ]
  },
  {
   "cell_type": "markdown",
   "metadata": {},
   "source": [
    "## Step 5: Testing the model\n",
    "\n",
    "Now that we've fit our XGBoost model, it's time to see how well it performs. To do this we will use SageMakers Batch Transform functionality. Batch Transform is a convenient way to perform inference on a large dataset in a way that is not realtime. That is, we don't necessarily need to use our model's results immediately and instead we can perform inference on a large number of samples. An example of this in industry might be performing an end of month report. This method of inference can also be useful to us as it means that we can perform inference on our entire test set. \n",
    "\n",
    "To perform a Batch Transformation we need to first create a transformer objects from our trained estimator object."
   ]
  },
  {
   "cell_type": "code",
   "execution_count": 23,
   "metadata": {},
   "outputs": [],
   "source": [
    "xgb_transformer = xgb.transformer(instance_count = 1, instance_type = 'ml.m4.xlarge')"
   ]
  },
  {
   "cell_type": "markdown",
   "metadata": {},
   "source": [
    "Next we actually perform the transform job. When doing so we need to make sure to specify the type of data we are sending so that it is serialized correctly in the background. In our case we are providing our model with csv data so we specify `text/csv`. Also, if the test data that we have provided is too large to process all at once then we need to specify how the data file should be split up. Since each line is a single entry in our data set we tell SageMaker that it can split the input on each line."
   ]
  },
  {
   "cell_type": "code",
   "execution_count": 24,
   "metadata": {},
   "outputs": [],
   "source": [
    "xgb_transformer.transform(test_location, content_type='text/csv', split_type='Line')"
   ]
  },
  {
   "cell_type": "markdown",
   "metadata": {},
   "source": [
    "Currently the transform job is running but it is doing so in the background. Since we wish to wait until the transform job is done and we would like a bit of feedback we can run the `wait()` method."
   ]
  },
  {
   "cell_type": "code",
   "execution_count": 25,
   "metadata": {},
   "outputs": [
    {
     "name": "stdout",
     "output_type": "stream",
     "text": [
      "......................\u001b[34mArguments: serve\u001b[0m\n",
      "\u001b[34m[2020-04-30 10:08:15 +0000] [1] [INFO] Starting gunicorn 19.7.1\u001b[0m\n",
      "\u001b[34m[2020-04-30 10:08:15 +0000] [1] [INFO] Listening at: http://0.0.0.0:8080 (1)\u001b[0m\n",
      "\u001b[34m[2020-04-30 10:08:15 +0000] [1] [INFO] Using worker: gevent\u001b[0m\n",
      "\u001b[34m[2020-04-30 10:08:15 +0000] [38] [INFO] Booting worker with pid: 38\u001b[0m\n",
      "\u001b[34m[2020-04-30 10:08:16 +0000] [39] [INFO] Booting worker with pid: 39\u001b[0m\n",
      "\u001b[34m[2020-04-30 10:08:16 +0000] [40] [INFO] Booting worker with pid: 40\u001b[0m\n",
      "\u001b[34m[2020-04-30:10:08:16:INFO] Model loaded successfully for worker : 38\u001b[0m\n",
      "\u001b[34m[2020-04-30:10:08:16:INFO] Model loaded successfully for worker : 39\u001b[0m\n",
      "\u001b[34m[2020-04-30 10:08:16 +0000] [41] [INFO] Booting worker with pid: 41\u001b[0m\n",
      "\u001b[34m[2020-04-30:10:08:16:INFO] Model loaded successfully for worker : 40\u001b[0m\n",
      "\u001b[34m[2020-04-30:10:08:16:INFO] Model loaded successfully for worker : 41\u001b[0m\n",
      "\u001b[34m[2020-04-30:10:08:38:INFO] Sniff delimiter as ','\u001b[0m\n",
      "\u001b[34m[2020-04-30:10:08:38:INFO] Determined delimiter of CSV input is ','\u001b[0m\n",
      "\u001b[34m[2020-04-30:10:08:38:INFO] Sniff delimiter as ','\u001b[0m\n",
      "\u001b[34m[2020-04-30:10:08:38:INFO] Determined delimiter of CSV input is ','\u001b[0m\n",
      "\u001b[35m[2020-04-30:10:08:38:INFO] Sniff delimiter as ','\u001b[0m\n",
      "\u001b[35m[2020-04-30:10:08:38:INFO] Determined delimiter of CSV input is ','\u001b[0m\n",
      "\u001b[35m[2020-04-30:10:08:38:INFO] Sniff delimiter as ','\u001b[0m\n",
      "\u001b[35m[2020-04-30:10:08:38:INFO] Determined delimiter of CSV input is ','\u001b[0m\n",
      "\u001b[32m2020-04-30T10:08:36.110:[sagemaker logs]: MaxConcurrentTransforms=4, MaxPayloadInMB=6, BatchStrategy=MULTI_RECORD\u001b[0m\n",
      "\u001b[34m[2020-04-30:10:08:39:INFO] Sniff delimiter as ','\u001b[0m\n",
      "\u001b[34m[2020-04-30:10:08:39:INFO] Determined delimiter of CSV input is ','\u001b[0m\n",
      "\u001b[34m[2020-04-30:10:08:39:INFO] Sniff delimiter as ','\u001b[0m\n",
      "\u001b[34m[2020-04-30:10:08:39:INFO] Determined delimiter of CSV input is ','\u001b[0m\n",
      "\u001b[35m[2020-04-30:10:08:39:INFO] Sniff delimiter as ','\u001b[0m\n",
      "\u001b[35m[2020-04-30:10:08:39:INFO] Determined delimiter of CSV input is ','\u001b[0m\n",
      "\u001b[35m[2020-04-30:10:08:39:INFO] Sniff delimiter as ','\u001b[0m\n",
      "\u001b[35m[2020-04-30:10:08:39:INFO] Determined delimiter of CSV input is ','\u001b[0m\n",
      "\u001b[34m[2020-04-30:10:08:41:INFO] Sniff delimiter as ','\u001b[0m\n",
      "\u001b[34m[2020-04-30:10:08:41:INFO] Determined delimiter of CSV input is ','\u001b[0m\n",
      "\u001b[34m[2020-04-30:10:08:41:INFO] Sniff delimiter as ','\u001b[0m\n",
      "\u001b[34m[2020-04-30:10:08:41:INFO] Determined delimiter of CSV input is ','\u001b[0m\n",
      "\u001b[34m[2020-04-30:10:08:41:INFO] Sniff delimiter as ','\u001b[0m\n",
      "\u001b[34m[2020-04-30:10:08:41:INFO] Determined delimiter of CSV input is ','\u001b[0m\n",
      "\u001b[34m[2020-04-30:10:08:41:INFO] Sniff delimiter as ','\u001b[0m\n",
      "\u001b[34m[2020-04-30:10:08:41:INFO] Determined delimiter of CSV input is ','\u001b[0m\n",
      "\u001b[35m[2020-04-30:10:08:41:INFO] Sniff delimiter as ','\u001b[0m\n",
      "\u001b[35m[2020-04-30:10:08:41:INFO] Determined delimiter of CSV input is ','\u001b[0m\n",
      "\u001b[35m[2020-04-30:10:08:41:INFO] Sniff delimiter as ','\u001b[0m\n",
      "\u001b[35m[2020-04-30:10:08:41:INFO] Determined delimiter of CSV input is ','\u001b[0m\n",
      "\u001b[35m[2020-04-30:10:08:41:INFO] Sniff delimiter as ','\u001b[0m\n",
      "\u001b[35m[2020-04-30:10:08:41:INFO] Determined delimiter of CSV input is ','\u001b[0m\n",
      "\u001b[35m[2020-04-30:10:08:41:INFO] Sniff delimiter as ','\u001b[0m\n",
      "\u001b[35m[2020-04-30:10:08:41:INFO] Determined delimiter of CSV input is ','\u001b[0m\n",
      "\u001b[34m[2020-04-30:10:08:46:INFO] Sniff delimiter as ','\u001b[0m\n",
      "\u001b[34m[2020-04-30:10:08:46:INFO] Determined delimiter of CSV input is ','\u001b[0m\n",
      "\u001b[35m[2020-04-30:10:08:46:INFO] Sniff delimiter as ','\u001b[0m\n",
      "\u001b[35m[2020-04-30:10:08:46:INFO] Determined delimiter of CSV input is ','\u001b[0m\n",
      "\u001b[34m[2020-04-30:10:08:46:INFO] Sniff delimiter as ','\u001b[0m\n",
      "\u001b[35m[2020-04-30:10:08:46:INFO] Sniff delimiter as ','\u001b[0m\n",
      "\u001b[34m[2020-04-30:10:08:46:INFO] Determined delimiter of CSV input is ','\u001b[0m\n",
      "\u001b[34m[2020-04-30:10:08:46:INFO] Sniff delimiter as ','\u001b[0m\n",
      "\u001b[34m[2020-04-30:10:08:46:INFO] Determined delimiter of CSV input is ','\u001b[0m\n",
      "\u001b[34m[2020-04-30:10:08:46:INFO] Sniff delimiter as ','\u001b[0m\n",
      "\u001b[34m[2020-04-30:10:08:46:INFO] Determined delimiter of CSV input is ','\u001b[0m\n",
      "\u001b[35m[2020-04-30:10:08:46:INFO] Determined delimiter of CSV input is ','\u001b[0m\n",
      "\u001b[35m[2020-04-30:10:08:46:INFO] Sniff delimiter as ','\u001b[0m\n",
      "\u001b[35m[2020-04-30:10:08:46:INFO] Determined delimiter of CSV input is ','\u001b[0m\n",
      "\u001b[35m[2020-04-30:10:08:46:INFO] Sniff delimiter as ','\u001b[0m\n",
      "\u001b[35m[2020-04-30:10:08:46:INFO] Determined delimiter of CSV input is ','\u001b[0m\n",
      "\u001b[34m[2020-04-30:10:08:48:INFO] Sniff delimiter as ','\u001b[0m\n",
      "\u001b[34m[2020-04-30:10:08:48:INFO] Determined delimiter of CSV input is ','\u001b[0m\n",
      "\u001b[34m[2020-04-30:10:08:48:INFO] Sniff delimiter as ','\u001b[0m\n",
      "\u001b[34m[2020-04-30:10:08:48:INFO] Determined delimiter of CSV input is ','\u001b[0m\n",
      "\u001b[34m[2020-04-30:10:08:48:INFO] Sniff delimiter as ','\u001b[0m\n",
      "\u001b[34m[2020-04-30:10:08:48:INFO] Determined delimiter of CSV input is ','\u001b[0m\n",
      "\u001b[34m[2020-04-30:10:08:49:INFO] Sniff delimiter as ','\u001b[0m\n",
      "\u001b[34m[2020-04-30:10:08:49:INFO] Determined delimiter of CSV input is ','\u001b[0m\n",
      "\u001b[35m[2020-04-30:10:08:48:INFO] Sniff delimiter as ','\u001b[0m\n",
      "\u001b[35m[2020-04-30:10:08:48:INFO] Determined delimiter of CSV input is ','\u001b[0m\n",
      "\u001b[35m[2020-04-30:10:08:48:INFO] Sniff delimiter as ','\u001b[0m\n",
      "\u001b[35m[2020-04-30:10:08:48:INFO] Determined delimiter of CSV input is ','\u001b[0m\n",
      "\u001b[35m[2020-04-30:10:08:48:INFO] Sniff delimiter as ','\u001b[0m\n",
      "\u001b[35m[2020-04-30:10:08:48:INFO] Determined delimiter of CSV input is ','\u001b[0m\n",
      "\u001b[35m[2020-04-30:10:08:49:INFO] Sniff delimiter as ','\u001b[0m\n",
      "\u001b[35m[2020-04-30:10:08:49:INFO] Determined delimiter of CSV input is ','\u001b[0m\n",
      "\u001b[34m[2020-04-30:10:08:50:INFO] Sniff delimiter as ','\u001b[0m\n",
      "\u001b[34m[2020-04-30:10:08:50:INFO] Determined delimiter of CSV input is ','\u001b[0m\n",
      "\u001b[35m[2020-04-30:10:08:50:INFO] Sniff delimiter as ','\u001b[0m\n",
      "\u001b[35m[2020-04-30:10:08:50:INFO] Determined delimiter of CSV input is ','\u001b[0m\n",
      "\u001b[34m[2020-04-30:10:08:51:INFO] Sniff delimiter as ','\u001b[0m\n",
      "\u001b[34m[2020-04-30:10:08:51:INFO] Determined delimiter of CSV input is ','\u001b[0m\n",
      "\u001b[34m[2020-04-30:10:08:51:INFO] Sniff delimiter as ','\u001b[0m\n",
      "\u001b[34m[2020-04-30:10:08:51:INFO] Determined delimiter of CSV input is ','\u001b[0m\n",
      "\u001b[34m[2020-04-30:10:08:51:INFO] Sniff delimiter as ','\u001b[0m\n",
      "\u001b[34m[2020-04-30:10:08:51:INFO] Determined delimiter of CSV input is ','\u001b[0m\n",
      "\u001b[35m[2020-04-30:10:08:51:INFO] Sniff delimiter as ','\u001b[0m\n",
      "\u001b[35m[2020-04-30:10:08:51:INFO] Determined delimiter of CSV input is ','\u001b[0m\n",
      "\u001b[35m[2020-04-30:10:08:51:INFO] Sniff delimiter as ','\u001b[0m\n",
      "\u001b[35m[2020-04-30:10:08:51:INFO] Determined delimiter of CSV input is ','\u001b[0m\n",
      "\u001b[35m[2020-04-30:10:08:51:INFO] Sniff delimiter as ','\u001b[0m\n",
      "\u001b[35m[2020-04-30:10:08:51:INFO] Determined delimiter of CSV input is ','\u001b[0m\n",
      "\u001b[34m[2020-04-30:10:08:53:INFO] Sniff delimiter as ','\u001b[0m\n",
      "\u001b[34m[2020-04-30:10:08:53:INFO] Determined delimiter of CSV input is ','\u001b[0m\n",
      "\u001b[35m[2020-04-30:10:08:53:INFO] Sniff delimiter as ','\u001b[0m\n",
      "\u001b[35m[2020-04-30:10:08:53:INFO] Determined delimiter of CSV input is ','\u001b[0m\n",
      "\u001b[34m[2020-04-30:10:08:55:INFO] Sniff delimiter as ','\u001b[0m\n",
      "\u001b[34m[2020-04-30:10:08:55:INFO] Determined delimiter of CSV input is ','\u001b[0m\n",
      "\u001b[35m[2020-04-30:10:08:55:INFO] Sniff delimiter as ','\u001b[0m\n",
      "\u001b[35m[2020-04-30:10:08:55:INFO] Determined delimiter of CSV input is ','\u001b[0m\n",
      "\u001b[34m[2020-04-30:10:08:56:INFO] Sniff delimiter as ','\u001b[0m\n",
      "\u001b[34m[2020-04-30:10:08:56:INFO] Determined delimiter of CSV input is ','\u001b[0m\n",
      "\u001b[35m[2020-04-30:10:08:56:INFO] Sniff delimiter as ','\u001b[0m\n",
      "\u001b[35m[2020-04-30:10:08:56:INFO] Determined delimiter of CSV input is ','\u001b[0m\n",
      "\u001b[34m[2020-04-30:10:08:56:INFO] Sniff delimiter as ','\u001b[0m\n",
      "\u001b[34m[2020-04-30:10:08:56:INFO] Determined delimiter of CSV input is ','\u001b[0m\n",
      "\u001b[34m[2020-04-30:10:08:56:INFO] Sniff delimiter as ','\u001b[0m\n",
      "\u001b[34m[2020-04-30:10:08:56:INFO] Determined delimiter of CSV input is ','\u001b[0m\n",
      "\u001b[35m[2020-04-30:10:08:56:INFO] Sniff delimiter as ','\u001b[0m\n",
      "\u001b[35m[2020-04-30:10:08:56:INFO] Determined delimiter of CSV input is ','\u001b[0m\n",
      "\u001b[35m[2020-04-30:10:08:56:INFO] Sniff delimiter as ','\u001b[0m\n",
      "\u001b[35m[2020-04-30:10:08:56:INFO] Determined delimiter of CSV input is ','\u001b[0m\n",
      "\u001b[34m[2020-04-30:10:08:58:INFO] Sniff delimiter as ','\u001b[0m\n",
      "\u001b[34m[2020-04-30:10:08:58:INFO] Determined delimiter of CSV input is ','\u001b[0m\n",
      "\u001b[34m[2020-04-30:10:08:58:INFO] Sniff delimiter as ','\u001b[0m\n",
      "\u001b[34m[2020-04-30:10:08:58:INFO] Determined delimiter of CSV input is ','\u001b[0m\n",
      "\u001b[34m[2020-04-30:10:08:58:INFO] Sniff delimiter as ','\u001b[0m\n",
      "\u001b[34m[2020-04-30:10:08:58:INFO] Determined delimiter of CSV input is ','\u001b[0m\n",
      "\u001b[34m[2020-04-30:10:08:58:INFO] Sniff delimiter as ','\u001b[0m\n",
      "\u001b[34m[2020-04-30:10:08:58:INFO] Determined delimiter of CSV input is ','\u001b[0m\n",
      "\u001b[35m[2020-04-30:10:08:58:INFO] Sniff delimiter as ','\u001b[0m\n",
      "\u001b[35m[2020-04-30:10:08:58:INFO] Determined delimiter of CSV input is ','\u001b[0m\n",
      "\u001b[35m[2020-04-30:10:08:58:INFO] Sniff delimiter as ','\u001b[0m\n",
      "\u001b[35m[2020-04-30:10:08:58:INFO] Determined delimiter of CSV input is ','\u001b[0m\n",
      "\u001b[35m[2020-04-30:10:08:58:INFO] Sniff delimiter as ','\u001b[0m\n",
      "\u001b[35m[2020-04-30:10:08:58:INFO] Determined delimiter of CSV input is ','\u001b[0m\n",
      "\u001b[35m[2020-04-30:10:08:58:INFO] Sniff delimiter as ','\u001b[0m\n",
      "\u001b[35m[2020-04-30:10:08:58:INFO] Determined delimiter of CSV input is ','\u001b[0m\n",
      "\u001b[34m[2020-04-30:10:09:00:INFO] Sniff delimiter as ','\u001b[0m\n",
      "\u001b[34m[2020-04-30:10:09:00:INFO] Determined delimiter of CSV input is ','\u001b[0m\n",
      "\u001b[34m[2020-04-30:10:09:00:INFO] Sniff delimiter as ','\u001b[0m\n",
      "\u001b[34m[2020-04-30:10:09:00:INFO] Determined delimiter of CSV input is ','\u001b[0m\n",
      "\u001b[35m[2020-04-30:10:09:00:INFO] Sniff delimiter as ','\u001b[0m\n",
      "\u001b[35m[2020-04-30:10:09:00:INFO] Determined delimiter of CSV input is ','\u001b[0m\n",
      "\u001b[35m[2020-04-30:10:09:00:INFO] Sniff delimiter as ','\u001b[0m\n",
      "\u001b[35m[2020-04-30:10:09:00:INFO] Determined delimiter of CSV input is ','\u001b[0m\n",
      "\u001b[34m[2020-04-30:10:09:01:INFO] Sniff delimiter as ','\u001b[0m\n",
      "\u001b[34m[2020-04-30:10:09:01:INFO] Determined delimiter of CSV input is ','\u001b[0m\n",
      "\u001b[34m[2020-04-30:10:09:01:INFO] Sniff delimiter as ','\u001b[0m\n",
      "\u001b[34m[2020-04-30:10:09:01:INFO] Determined delimiter of CSV input is ','\u001b[0m\n",
      "\u001b[35m[2020-04-30:10:09:01:INFO] Sniff delimiter as ','\u001b[0m\n",
      "\u001b[35m[2020-04-30:10:09:01:INFO] Determined delimiter of CSV input is ','\u001b[0m\n",
      "\u001b[35m[2020-04-30:10:09:01:INFO] Sniff delimiter as ','\u001b[0m\n",
      "\u001b[35m[2020-04-30:10:09:01:INFO] Determined delimiter of CSV input is ','\u001b[0m\n"
     ]
    },
    {
     "name": "stdout",
     "output_type": "stream",
     "text": [
      "\n"
     ]
    }
   ],
   "source": [
    "xgb_transformer.wait()"
   ]
  },
  {
   "cell_type": "markdown",
   "metadata": {},
   "source": [
    "Now the transform job has executed and the result, the estimated sentiment of each review, has been saved on S3. Since we would rather work on this file locally we can perform a bit of notebook magic to copy the file to the `data_dir`."
   ]
  },
  {
   "cell_type": "code",
   "execution_count": 26,
   "metadata": {},
   "outputs": [
    {
     "name": "stdout",
     "output_type": "stream",
     "text": [
      "Completed 256.0 KiB/369.8 KiB (3.1 MiB/s) with 1 file(s) remaining\r",
      "Completed 369.8 KiB/369.8 KiB (4.4 MiB/s) with 1 file(s) remaining\r",
      "download: s3://sagemaker-us-east-1-947078573071/xgboost-2020-04-30-10-04-55-407/test.csv.out to ../data/sentiment_web_app/test.csv.out\r\n"
     ]
    }
   ],
   "source": [
    "!aws s3 cp --recursive $xgb_transformer.output_path $data_dir"
   ]
  },
  {
   "cell_type": "markdown",
   "metadata": {},
   "source": [
    "The last step is now to read in the output from our model, convert the output to something a little more usable, in this case we want the sentiment to be either `1` (positive) or `0` (negative), and then compare to the ground truth labels."
   ]
  },
  {
   "cell_type": "code",
   "execution_count": 27,
   "metadata": {},
   "outputs": [],
   "source": [
    "predictions = pd.read_csv(os.path.join(data_dir, 'test.csv.out'), header=None)\n",
    "predictions = [round(num) for num in predictions.squeeze().values]"
   ]
  },
  {
   "cell_type": "code",
   "execution_count": 28,
   "metadata": {},
   "outputs": [
    {
     "data": {
      "text/plain": [
       "0.86064"
      ]
     },
     "execution_count": 28,
     "metadata": {},
     "output_type": "execute_result"
    }
   ],
   "source": [
    "from sklearn.metrics import accuracy_score\n",
    "accuracy_score(test_y, predictions)"
   ]
  },
  {
   "cell_type": "markdown",
   "metadata": {},
   "source": [
    "## Step 6: Deploying the model\n",
    "\n",
    "Once we construct and fit our model, SageMaker stores the resulting model artifacts and we can use those to deploy an endpoint (inference code). To see this, look in the SageMaker console and you should see that a model has been created along with a link to the S3 location where the model artifacts have been stored.\n",
    "\n",
    "Deploying an endpoint is a lot like training the model with a few important differences. The first is that a deployed model doesn't change the model artifacts, so as you send it various testing instances the model won't change. Another difference is that since we aren't performing a fixed computation, as we were in the training step or while performing a batch transform, the compute instance that gets started stays running until we tell it to stop. This is important to note as if we forget and leave it running we will be charged the entire time.\n",
    "\n",
    "In other words **If you are no longer using a deployed endpoint, shut it down!**"
   ]
  },
  {
   "cell_type": "code",
   "execution_count": 37,
   "metadata": {},
   "outputs": [
    {
     "name": "stderr",
     "output_type": "stream",
     "text": [
      "WARNING:sagemaker:Using already existing model: xgboost-2020-04-30-09-57-39-874\n"
     ]
    },
    {
     "name": "stdout",
     "output_type": "stream",
     "text": [
      "--------------!"
     ]
    }
   ],
   "source": [
    "xgb_predictor = xgb.deploy(initial_instance_count = 1, instance_type = 'ml.m4.xlarge')"
   ]
  },
  {
   "cell_type": "markdown",
   "metadata": {},
   "source": [
    "### Testing the model (again)\n",
    "\n",
    "Now that we have deployed our endpoint, we can send the testing data to it and get back the inference results. We already did this earlier using the batch transform functionality of SageMaker, however, we will test our model again using the newly deployed endpoint so that we can make sure that it works properly and to get a bit of a feel for how the endpoint works.\n",
    "\n",
    "When using the created endpoint it is important to know that we are limited in the amount of information we can send in each call so we need to break the testing data up into chunks and then send each chunk. Also, we need to serialize our data before we send it to the endpoint to ensure that our data is transmitted properly. Fortunately, SageMaker can do the serialization part for us provided we tell it the format of our data."
   ]
  },
  {
   "cell_type": "code",
   "execution_count": 38,
   "metadata": {},
   "outputs": [],
   "source": [
    "from sagemaker.predictor import csv_serializer\n",
    "\n",
    "# We need to tell the endpoint what format the data we are sending is in so that SageMaker can perform the serialization.\n",
    "xgb_predictor.content_type = 'text/csv'\n",
    "xgb_predictor.serializer = csv_serializer"
   ]
  },
  {
   "cell_type": "code",
   "execution_count": 39,
   "metadata": {},
   "outputs": [],
   "source": [
    "# We split the data into chunks and send each chunk seperately, accumulating the results.\n",
    "\n",
    "def predict(data, rows=512):\n",
    "    split_array = np.array_split(data, int(data.shape[0] / float(rows) + 1))\n",
    "    predictions = ''\n",
    "    for array in split_array:\n",
    "        predictions = ','.join([predictions, xgb_predictor.predict(array).decode('utf-8')])\n",
    "    \n",
    "    return np.fromstring(predictions[1:], sep=',')"
   ]
  },
  {
   "cell_type": "code",
   "execution_count": 40,
   "metadata": {},
   "outputs": [],
   "source": [
    "test_X = pd.read_csv(os.path.join(data_dir, 'test.csv'), header=None).values\n",
    "\n",
    "predictions = predict(test_X)\n",
    "predictions = [round(num) for num in predictions]"
   ]
  },
  {
   "cell_type": "markdown",
   "metadata": {},
   "source": [
    "Lastly, we check to see what the accuracy of our model is."
   ]
  },
  {
   "cell_type": "code",
   "execution_count": 41,
   "metadata": {},
   "outputs": [
    {
     "data": {
      "text/plain": [
       "0.86064"
      ]
     },
     "execution_count": 41,
     "metadata": {},
     "output_type": "execute_result"
    }
   ],
   "source": [
    "from sklearn.metrics import accuracy_score\n",
    "accuracy_score(test_y, predictions)"
   ]
  },
  {
   "cell_type": "markdown",
   "metadata": {},
   "source": [
    "And the results here should agree with the model testing that we did earlier using the batch transform job.\n",
    "\n",
    "### Cleaning up\n",
    "\n",
    "Now that we've determined that deploying our model works as expected, we are going to shut it down. Remember that the longer the endpoint is left running, the greater the cost and since we have a bit more work to do before we are able to use our endpoint with our simple web app, we should shut everything down."
   ]
  },
  {
   "cell_type": "code",
   "execution_count": null,
   "metadata": {},
   "outputs": [],
   "source": [
    "xgb_predictor.delete_endpoint()"
   ]
  },
  {
   "cell_type": "markdown",
   "metadata": {},
   "source": [
    "## Step 7: Putting our model to work\n",
    "\n",
    "As we've mentioned a few times now, our goal is to have our model deployed and then access it using a very simple web app. The intent is for this web app to take some user submitted data (a review), send it off to our endpoint (the model) and then display the result.\n",
    "\n",
    "However, there is a small catch. Currently the only way we can access the endpoint to send it data is using the SageMaker API. We can, if we wish, expose the actual URL that our model's endpoint is receiving data from, however, if we just send it data ourselves we will not get anything in return. This is because the endpoint created by SageMaker requires the entity accessing it have the correct permissions. So, we would need to somehow authenticate our web app with AWS.\n",
    "\n",
    "Having a website that authenticates to AWS seems a bit beyond the scope of this lesson so we will opt for an alternative approach. Namely, we will create a new endpoint which does not require authentication and which acts as a proxy for the SageMaker endpoint.\n",
    "\n",
    "As an additional constraint, we will try to avoid doing any data processing in the web app itself. Remember that when we constructed and tested our model we started with a movie review, then we simplified it by removing any html formatting and punctuation, then we constructed a bag of words embedding and the resulting vector is what we sent to our model. All of this needs to be done to our user input as well.\n",
    "\n",
    "Fortunately we can do all of this data processing in the backend, using Amazon's Lambda service.\n",
    "\n",
    "<img src=\"Web App Diagram.svg\">\n",
    "\n",
    "The diagram above gives an overview of how the various services will work together. On the far right is the model which we trained above and which will be deployed using SageMaker. On the far left is our web app that collects a user's movie review, sends it off and expects a positive or negative sentiment in return.\n",
    "\n",
    "In the middle is where some of the magic happens. We will construct a Lambda function, which you can think of as a straightforward Python function that can be executed whenever a specified event occurs. This Python function will do the data processing we need to perform on a user submitted review. In addition, we will give this function permission to send and recieve data from a SageMaker endpoint.\n",
    "\n",
    "Lastly, the method we will use to execute the Lambda function is a new endpoint that we will create using API Gateway. This endpoint will be a url that listens for data to be sent to it. Once it gets some data it will pass that data on to the Lambda function and then return whatever the Lambda function returns. Essentially it will act as an interface that lets our web app communicate with the Lambda function.\n",
    "\n",
    "### Processing a single review\n",
    "\n",
    "For now, suppose we are given a movie review by our user in the form of a string, like so:"
   ]
  },
  {
   "cell_type": "code",
   "execution_count": 42,
   "metadata": {},
   "outputs": [],
   "source": [
    "test_review = \"Nothing but a disgusting materialistic pageant of glistening abed remote control greed zombies, totally devoid of any heart or heat. A romantic comedy that has zero romantic chemestry and zero laughs!\""
   ]
  },
  {
   "cell_type": "markdown",
   "metadata": {},
   "source": [
    "How do we go from this string to the bag of words feature vector that is expected by our model?\n",
    "\n",
    "If we recall at the beginning of this notebook, the first step is to remove any unnecessary characters using the `review_to_words` method. Remember that we intentionally did this in a very simplistic way. This is because we are going to have to copy this method to our (eventual) Lambda function (we will go into more detail later) and this means it needs to be rather simplistic."
   ]
  },
  {
   "cell_type": "code",
   "execution_count": 43,
   "metadata": {},
   "outputs": [
    {
     "name": "stdout",
     "output_type": "stream",
     "text": [
      "nothing but a disgusting materialistic pageant of glistening abed remote control greed zombies totally devoid of any heart or heat a romantic comedy that has zero romantic chemestry and zero laughs\n"
     ]
    }
   ],
   "source": [
    "test_words = review_to_words(test_review)\n",
    "print(test_words)"
   ]
  },
  {
   "cell_type": "markdown",
   "metadata": {},
   "source": [
    "Next, we need to construct a bag of words embedding of the `test_words` string. To do this, remember that a bag of words embedding uses a `vocabulary` consisting of the most frequently appearing words in a set of documents. Then, for each word in the vocabulary we record the number of times that word appears in `test_words`. We constructed the `vocabulary` earlier using the training set for our problem so encoding `test_words` is relatively straightforward."
   ]
  },
  {
   "cell_type": "code",
   "execution_count": 46,
   "metadata": {},
   "outputs": [],
   "source": [
    "def bow_encoding(words, vocabulary):\n",
    "    bow = [0] * len(vocabulary) # Start by setting the count for each word in the vocabulary to zero.\n",
    "    for word in words.split():  # For each word in the string\n",
    "        if word in vocabulary:  # If the word is one that occurs in the vocabulary, increase its count.\n",
    "            bow[vocabulary[word]] += 1\n",
    "    return bow"
   ]
  },
  {
   "cell_type": "code",
   "execution_count": 47,
   "metadata": {},
   "outputs": [
    {
     "name": "stdout",
     "output_type": "stream",
     "text": [
      "[0, 0, 0, 0, 0, 0, 0, 0, 0, 0, 0, 0, 0, 0, 0, 0, 0, 0, 0, 0, 0, 0, 0, 0, 0, 0, 0, 0, 0, 0, 0, 0, 0, 0, 0, 0, 0, 0, 0, 0, 0, 0, 0, 0, 0, 0, 0, 0, 0, 0, 0, 0, 0, 0, 0, 0, 0, 0, 0, 0, 0, 0, 0, 0, 0, 0, 0, 0, 0, 0, 0, 0, 0, 0, 0, 0, 0, 0, 0, 0, 0, 0, 0, 0, 0, 0, 0, 0, 0, 0, 0, 0, 0, 0, 0, 0, 0, 0, 0, 0, 0, 0, 0, 0, 0, 0, 0, 0, 0, 0, 0, 0, 0, 0, 0, 0, 0, 0, 0, 0, 0, 0, 0, 0, 0, 0, 0, 0, 0, 0, 0, 0, 0, 0, 0, 0, 0, 0, 0, 0, 0, 0, 0, 0, 0, 0, 0, 0, 0, 0, 0, 0, 0, 0, 0, 0, 0, 0, 0, 0, 0, 0, 0, 0, 0, 0, 0, 0, 0, 0, 0, 0, 0, 0, 0, 0, 0, 0, 0, 0, 0, 0, 0, 0, 0, 0, 0, 0, 0, 0, 0, 0, 0, 0, 0, 0, 0, 0, 0, 0, 0, 0, 0, 0, 0, 0, 0, 0, 0, 0, 0, 0, 0, 0, 0, 0, 0, 0, 0, 0, 0, 0, 0, 0, 0, 0, 1, 0, 0, 0, 0, 0, 0, 0, 0, 0, 0, 0, 0, 0, 0, 0, 0, 0, 0, 0, 0, 0, 0, 0, 0, 0, 0, 0, 0, 0, 1, 0, 0, 0, 0, 0, 0, 0, 0, 0, 0, 0, 0, 0, 0, 0, 0, 0, 0, 0, 0, 0, 0, 0, 0, 0, 0, 0, 0, 0, 0, 0, 0, 0, 0, 0, 0, 0, 0, 0, 0, 0, 0, 0, 0, 0, 0, 0, 0, 0, 0, 0, 0, 0, 0, 0, 0, 0, 0, 0, 0, 0, 0, 0, 0, 0, 0, 0, 0, 0, 0, 0, 0, 0, 0, 0, 0, 0, 0, 0, 0, 0, 0, 0, 0, 0, 0, 0, 0, 0, 0, 0, 0, 0, 0, 0, 0, 0, 0, 0, 0, 0, 0, 0, 0, 0, 0, 0, 0, 0, 0, 0, 0, 0, 0, 0, 0, 0, 0, 0, 0, 0, 0, 0, 0, 0, 0, 0, 0, 0, 0, 0, 0, 0, 0, 0, 0, 0, 0, 0, 0, 0, 0, 0, 0, 0, 0, 0, 0, 0, 0, 0, 0, 0, 0, 0, 0, 0, 0, 0, 0, 0, 0, 0, 0, 0, 0, 0, 0, 0, 0, 0, 0, 0, 0, 0, 0, 0, 0, 0, 0, 0, 0, 0, 0, 0, 0, 0, 0, 0, 0, 0, 0, 0, 0, 0, 0, 0, 0, 0, 0, 0, 0, 0, 0, 0, 0, 0, 0, 0, 0, 0, 0, 0, 0, 0, 0, 0, 0, 0, 0, 0, 0, 0, 0, 0, 0, 0, 0, 0, 0, 0, 0, 0, 0, 0, 0, 0, 0, 0, 0, 0, 0, 0, 0, 0, 0, 0, 0, 0, 0, 0, 0, 0, 0, 0, 0, 0, 0, 0, 0, 0, 0, 0, 0, 0, 0, 0, 0, 0, 0, 0, 0, 0, 0, 0, 0, 0, 0, 0, 0, 0, 0, 0, 0, 0, 0, 0, 0, 0, 0, 0, 0, 0, 0, 0, 0, 0, 0, 0, 0, 0, 0, 0, 0, 0, 0, 0, 0, 0, 0, 0, 0, 0, 0, 0, 0, 0, 0, 0, 0, 0, 0, 0, 0, 0, 0, 0, 0, 0, 0, 0, 0, 0, 0, 0, 0, 0, 0, 0, 0, 0, 0, 0, 0, 0, 0, 0, 0, 0, 0, 0, 0, 0, 0, 0, 0, 0, 0, 0, 0, 0, 0, 0, 0, 0, 0, 0, 0, 0, 0, 0, 0, 0, 0, 0, 0, 0, 0, 0, 1, 0, 0, 0, 0, 0, 0, 0, 0, 0, 0, 0, 0, 0, 0, 0, 0, 0, 0, 0, 0, 0, 0, 0, 0, 0, 0, 0, 0, 0, 0, 0, 0, 0, 0, 0, 0, 0, 0, 0, 0, 0, 0, 0, 0, 0, 0, 0, 0, 0, 0, 0, 0, 0, 0, 0, 0, 0, 0, 0, 0, 0, 0, 0, 0, 0, 0, 0, 0, 0, 0, 0, 0, 0, 0, 0, 0, 0, 0, 0, 0, 0, 0, 0, 0, 0, 0, 0, 0, 0, 0, 0, 0, 0, 0, 0, 0, 0, 0, 0, 0, 0, 0, 0, 0, 0, 0, 0, 0, 0, 0, 0, 0, 0, 0, 0, 0, 0, 0, 0, 0, 0, 0, 0, 0, 0, 0, 0, 0, 0, 0, 0, 0, 0, 0, 0, 0, 0, 0, 0, 0, 0, 0, 0, 0, 0, 0, 0, 0, 0, 0, 0, 0, 0, 0, 0, 0, 0, 0, 0, 0, 0, 0, 0, 0, 0, 0, 0, 0, 0, 0, 0, 0, 0, 0, 0, 0, 0, 0, 0, 0, 0, 0, 0, 0, 0, 0, 0, 0, 0, 0, 0, 0, 0, 0, 0, 0, 0, 0, 0, 0, 0, 0, 0, 0, 0, 0, 0, 0, 0, 0, 0, 0, 0, 0, 0, 0, 0, 0, 0, 0, 0, 0, 0, 0, 0, 0, 0, 0, 0, 0, 0, 0, 0, 0, 0, 0, 0, 0, 0, 0, 0, 0, 0, 0, 0, 0, 0, 0, 0, 0, 0, 0, 0, 1, 0, 0, 0, 0, 0, 0, 0, 0, 0, 0, 0, 0, 0, 0, 0, 0, 0, 0, 0, 0, 0, 0, 0, 0, 0, 0, 0, 0, 0, 0, 0, 0, 0, 0, 0, 0, 0, 0, 0, 0, 0, 0, 0, 0, 0, 0, 0, 0, 0, 0, 0, 0, 0, 0, 0, 0, 0, 0, 0, 0, 0, 0, 0, 0, 0, 0, 0, 0, 0, 0, 0, 0, 0, 0, 0, 0, 0, 0, 0, 0, 0, 0, 0, 0, 0, 0, 1, 0, 0, 0, 0, 0, 0, 0, 0, 0, 0, 0, 0, 0, 0, 0, 0, 0, 0, 0, 0, 0, 0, 0, 0, 0, 0, 0, 0, 0, 0, 0, 0, 0, 0, 0, 0, 0, 0, 0, 0, 0, 0, 0, 0, 0, 0, 0, 0, 0, 0, 0, 0, 0, 0, 0, 0, 0, 0, 0, 0, 0, 0, 0, 0, 0, 0, 0, 0, 0, 0, 0, 0, 0, 0, 0, 0, 0, 0, 0, 0, 0, 0, 0, 0, 0, 0, 0, 0, 0, 0, 0, 0, 0, 0, 0, 0, 0, 0, 0, 0, 0, 0, 0, 0, 0, 0, 0, 0, 0, 0, 0, 0, 0, 0, 0, 0, 0, 0, 0, 0, 0, 0, 0, 0, 0, 0, 0, 0, 0, 0, 0, 0, 0, 0, 0, 0, 0, 0, 0, 0, 0, 0, 0, 0, 0, 0, 0, 0, 0, 0, 0, 0, 0, 0, 0, 0, 0, 0, 0, 0, 0, 0, 0, 0, 0, 0, 0, 0, 0, 0, 0, 0, 0, 0, 0, 0, 0, 0, 0, 0, 0, 0, 0, 0, 0, 0, 0, 0, 0, 0, 0, 0, 0, 0, 0, 0, 0, 0, 0, 0, 0, 0, 0, 0, 0, 0, 0, 0, 0, 0, 0, 0, 0, 0, 0, 0, 0, 0, 0, 0, 0, 0, 0, 0, 0, 0, 0, 0, 0, 0, 0, 0, 0, 0, 0, 0, 0, 0, 0, 0, 0, 0, 0, 0, 0, 0, 0, 0, 0, 0, 0, 0, 1, 0, 0, 0, 0, 0, 0, 0, 0, 0, 0, 0, 0, 0, 0, 0, 0, 0, 0, 0, 0, 0, 0, 0, 0, 0, 0, 0, 0, 0, 0, 0, 0, 0, 0, 0, 0, 0, 0, 0, 0, 0, 0, 0, 0, 0, 0, 0, 0, 0, 0, 0, 0, 0, 0, 0, 1, 0, 0, 0, 0, 0, 0, 0, 0, 0, 0, 0, 0, 0, 0, 0, 0, 0, 0, 0, 0, 0, 0, 0, 0, 0, 0, 0, 0, 0, 0, 0, 0, 0, 0, 0, 0, 0, 0, 0, 0, 0, 0, 0, 0, 0, 0, 0, 0, 0, 0, 0, 0, 0, 0, 0, 0, 0, 0, 0, 0, 0, 0, 0, 0, 0, 0, 0, 0, 0, 0, 0, 0, 0, 0, 0, 0, 0, 0, 0, 0, 0, 0, 0, 0, 0, 0, 0, 0, 0, 0, 0, 0, 0, 0, 0, 0, 0, 0, 0, 0, 0, 0, 0, 0, 0, 0, 0, 0, 0, 0, 0, 0, 0, 0, 0, 0, 0, 0, 0, 0, 0, 0, 0, 0, 0, 0, 0, 0, 0, 0, 0, 0, 0, 0, 0, 0, 0, 0, 0, 0, 0, 0, 0, 0, 0, 0, 0, 0, 0, 0, 0, 0, 0, 0, 0, 0, 0, 0, 0, 0, 0, 0, 0, 0, 0, 0, 0, 0, 0, 0, 0, 0, 0, 0, 0, 0, 0, 0, 0, 0, 0, 0, 0, 0, 0, 0, 0, 0, 0, 0, 0, 0, 0, 0, 0, 0, 0, 0, 0, 0, 0, 0, 0, 0, 0, 0, 0, 0, 0, 0, 0, 0, 0, 0, 0, 0, 0, 0, 0, 0, 0, 0, 0, 0, 0, 0, 0, 0, 0, 0, 0, 0, 0, 0, 0, 0, 0, 0, 0, 0, 0, 0, 0, 0, 0, 0, 0, 0, 0, 0, 0, 0, 0, 0, 0, 0, 0, 0, 0, 0, 0, 0, 0, 0, 0, 0, 0, 0, 0, 0, 0, 0, 0, 0, 0, 0, 0, 0, 0, 0, 0, 0, 0, 0, 0, 0, 0, 0, 0, 0, 0, 0, 0, 0, 0, 0, 0, 0, 0, 0, 0, 0, 0, 0, 0, 0, 0, 0, 0, 0, 0, 0, 0, 0, 0, 0, 0, 0, 0, 0, 0, 0, 0, 0, 0, 0, 0, 0, 0, 0, 0, 0, 0, 0, 0, 0, 0, 0, 0, 0, 0, 0, 0, 0, 0, 0, 0, 0, 0, 0, 0, 0, 0, 0, 0, 0, 0, 0, 0, 0, 0, 0, 0, 0, 0, 0, 0, 0, 0, 0, 0, 0, 0, 0, 0, 0, 0, 0, 0, 0, 0, 0, 0, 0, 0, 0, 0, 0, 0, 0, 0, 0, 0, 0, 0, 0, 0, 0, 0, 0, 0, 0, 0, 0, 0, 0, 0, 0, 0, 0, 0, 0, 0, 0, 0, 0, 0, 0, 0, 0, 0, 0, 0, 0, 0, 0, 0, 0, 0, 0, 0, 0, 0, 0, 0, 0, 0, 0, 0, 0, 0, 0, 0, 0, 0, 0, 0, 0, 0, 0, 0, 0, 0, 0, 0, 0, 0, 0, 0, 0, 0, 0, 0, 0, 0, 0, 0, 0, 0, 0, 0, 0, 0, 0, 0, 0, 0, 0, 0, 0, 0, 0, 0, 0, 0, 0, 0, 0, 0, 0, 0, 0, 0, 0, 0, 0, 0, 0, 0, 0, 0, 0, 0, 0, 0, 0, 0, 0, 0, 0, 0, 0, 0, 0, 0, 0, 0, 0, 0, 0, 0, 0, 0, 0, 0, 0, 0, 0, 0, 0, 0, 0, 0, 0, 0, 0, 0, 0, 0, 0, 0, 0, 0, 0, 0, 0, 0, 0, 0, 0, 0, 0, 0, 0, 0, 0, 0, 0, 0, 0, 0, 0, 0, 0, 0, 0, 0, 0, 0, 0, 0, 0, 0, 0, 0, 0, 0, 0, 0, 0, 0, 0, 0, 0, 0, 0, 0, 0, 0, 0, 0, 0, 0, 0, 0, 0, 0, 0, 0, 0, 0, 0, 0, 0, 0, 0, 0, 0, 0, 0, 0, 0, 0, 0, 0, 0, 0, 0, 0, 0, 0, 0, 0, 0, 0, 0, 0, 0, 0, 0, 0, 0, 0, 0, 0, 0, 0, 0, 0, 0, 0, 0, 0, 0, 0, 0, 0, 0, 0, 0, 0, 0, 0, 0, 0, 0, 0, 0, 0, 0, 0, 0, 0, 0, 0, 0, 0, 0, 0, 0, 0, 0, 0, 0, 0, 0, 0, 0, 0, 0, 0, 1, 0, 0, 0, 0, 0, 0, 0, 0, 0, 0, 0, 0, 0, 0, 0, 0, 0, 0, 0, 0, 0, 0, 0, 0, 0, 0, 0, 0, 0, 0, 0, 0, 0, 0, 0, 0, 0, 0, 0, 0, 0, 0, 0, 0, 0, 0, 0, 0, 0, 0, 0, 0, 0, 0, 0, 0, 0, 0, 0, 0, 0, 0, 0, 0, 0, 0, 0, 0, 0, 0, 0, 0, 0, 0, 1, 0, 0, 0, 0, 0, 0, 0, 0, 0, 0, 0, 0, 0, 0, 0, 0, 0, 0, 0, 0, 1, 0, 0, 1, 0, 0, 0, 0, 0, 0, 0, 0, 0, 0, 0, 0, 0, 0, 0, 0, 0, 0, 0, 0, 0, 0, 0, 0, 0, 0, 0, 0, 0, 0, 0, 0, 0, 0, 0, 0, 0, 0, 0, 0, 0, 0, 0, 0, 0, 0, 0, 0, 0, 0, 0, 0, 0, 0, 0, 0, 0, 0, 0, 0, 0, 0, 0, 0, 0, 0, 0, 0, 0, 0, 0, 0, 0, 0, 0, 0, 0, 0, 0, 0, 0, 0, 0, 0, 0, 0, 0, 0, 0, 0, 0, 0, 0, 0, 0, 0, 0, 0, 0, 0, 0, 0, 0, 0, 0, 0, 0, 0, 0, 0, 0, 0, 0, 0, 0, 0, 0, 0, 0, 0, 0, 0, 0, 0, 0, 0, 0, 0, 0, 0, 0, 0, 0, 0, 0, 0, 0, 0, 0, 0, 0, 0, 0, 0, 0, 0, 0, 0, 0, 0, 0, 0, 0, 0, 0, 0, 0, 0, 0, 0, 0, 0, 0, 0, 0, 0, 0, 0, 0, 0, 0, 0, 0, 0, 0, 0, 0, 0, 0, 0, 0, 0, 0, 0, 0, 0, 0, 0, 0, 0, 0, 0, 0, 0, 0, 0, 0, 0, 0, 0, 0, 0, 0, 0, 0, 0, 0, 0, 0, 0, 0, 0, 0, 0, 0, 0, 0, 0, 0, 0, 0, 0, 0, 0, 0, 0, 0, 0, 0, 0, 0, 0, 0, 0, 0, 0, 0, 0, 0, 0, 0, 0, 0, 0, 0, 0, 0, 0, 0, 0, 0, 0, 0, 0, 0, 0, 0, 0, 0, 0, 0, 0, 0, 0, 0, 0, 0, 0, 0, 0, 0, 0, 0, 0, 0, 0, 0, 0, 0, 0, 0, 0, 0, 0, 0, 0, 0, 0, 0, 0, 0, 0, 0, 0, 0, 0, 0, 0, 0, 0, 0, 0, 0, 0, 0, 0, 0, 0, 0, 0, 0, 0, 0, 0, 0, 0, 0, 0, 0, 0, 0, 0, 0, 0, 0, 0, 0, 0, 0, 0, 0, 0, 0, 0, 0, 0, 0, 0, 0, 0, 0, 0, 0, 0, 0, 0, 0, 0, 0, 0, 0, 0, 0, 0, 0, 0, 0, 0, 0, 0, 0, 0, 0, 0, 0, 0, 0, 0, 0, 0, 0, 0, 0, 0, 0, 0, 0, 0, 0, 0, 0, 0, 0, 0, 0, 0, 0, 0, 0, 0, 0, 0, 0, 0, 0, 0, 0, 0, 0, 0, 0, 0, 0, 0, 0, 0, 0, 0, 0, 0, 0, 0, 0, 0, 0, 0, 0, 0, 0, 0, 0, 0, 0, 0, 0, 0, 0, 0, 0, 0, 0, 0, 0, 0, 0, 0, 0, 0, 0, 0, 0, 0, 0, 0, 0, 0, 0, 0, 0, 0, 0, 0, 0, 0, 0, 0, 0, 0, 0, 0, 0, 0, 0, 0, 0, 0, 1, 0, 0, 0, 0, 0, 0, 0, 0, 0, 0, 0, 0, 0, 0, 0, 0, 0, 0, 0, 0, 0, 0, 0, 0, 0, 0, 0, 0, 0, 0, 0, 0, 0, 0, 0, 0, 0, 0, 0, 0, 0, 0, 0, 0, 0, 0, 0, 0, 0, 0, 0, 0, 0, 0, 0, 0, 0, 0, 0, 0, 0, 0, 0, 0, 0, 0, 0, 0, 0, 0, 0, 0, 0, 0, 0, 0, 0, 0, 0, 0, 0, 0, 0, 0, 0, 0, 0, 0, 0, 0, 0, 0, 0, 0, 0, 0, 0, 0, 0, 0, 0, 0, 0, 0, 0, 0, 0, 0, 0, 0, 0, 0, 0, 0, 0, 0, 0, 0, 0, 0, 0, 0, 0, 0, 0, 0, 0, 0, 0, 0, 0, 0, 0, 0, 0, 0, 0, 0, 0, 0, 0, 0, 0, 0, 0, 0, 0, 0, 0, 0, 0, 0, 0, 0, 0, 0, 0, 0, 0, 0, 0, 0, 0, 0, 0, 0, 0, 0, 0, 0, 0, 0, 0, 0, 0, 0, 0, 0, 0, 0, 0, 0, 0, 0, 0, 0, 0, 0, 0, 0, 0, 0, 0, 0, 0, 0, 0, 0, 0, 0, 0, 0, 0, 0, 0, 0, 0, 0, 0, 0, 0, 0, 0, 0, 0, 0, 0, 0, 0, 0, 0, 0, 0, 0, 0, 0, 0, 0, 0, 0, 0, 0, 0, 0, 0, 0, 0, 0, 0, 0, 0, 0, 0, 0, 0, 0, 0, 0, 0, 0, 0, 0, 0, 0, 0, 0, 0, 0, 0, 0, 0, 0, 0, 0, 0, 0, 0, 0, 0, 0, 0, 0, 0, 0, 0, 0, 0, 0, 0, 0, 0, 0, 0, 0, 0, 0, 0, 0, 0, 0, 0, 0, 0, 0, 0, 0, 0, 0, 0, 0, 0, 0, 0, 0, 0, 0, 0, 0, 0, 0, 0, 0, 0, 0, 0, 0, 0, 0, 0, 0, 0, 0, 0, 0, 0, 0, 0, 0, 0, 0, 0, 0, 0, 0, 0, 0, 0, 0, 0, 0, 0, 0, 0, 0, 0, 0, 0, 0, 0, 0, 0, 0, 0, 0, 0, 0, 0, 0, 0, 0, 0, 0, 0, 0, 0, 0, 0, 0, 0, 0, 0, 0, 0, 0, 0, 0, 0, 0, 0, 0, 0, 0, 0, 0, 0, 0, 0, 0, 0, 0, 0, 0, 0, 0, 0, 0, 0, 0, 0, 0, 0, 0, 0, 0, 0, 0, 0, 0, 0, 0, 0, 0, 0, 0, 0, 0, 0, 0, 0, 0, 0, 0, 0, 0, 0, 0, 0, 0, 0, 0, 0, 0, 0, 0, 0, 0, 0, 0, 0, 0, 0, 0, 0, 0, 0, 0, 0, 0, 0, 0, 0, 0, 0, 0, 0, 0, 0, 0, 0, 0, 0, 0, 0, 0, 0, 0, 0, 0, 0, 0, 0, 0, 0, 0, 0, 0, 0, 0, 0, 0, 0, 0, 0, 0, 0, 0, 0, 0, 0, 0, 0, 0, 0, 0, 0, 0, 0, 0, 0, 0, 0, 0, 0, 0, 0, 0, 0, 0, 0, 0, 0, 0, 1, 0, 0, 0, 0, 0, 0, 0, 0, 0, 0, 0, 0, 0, 0, 0, 0, 0, 0, 0, 0, 0, 0, 0, 0, 0, 0, 0, 0, 0, 0, 0, 0, 0, 0, 0, 2, 0, 0, 0, 0, 0, 0, 0, 0, 0, 0, 0, 0, 0, 0, 0, 0, 0, 0, 0, 0, 0, 0, 0, 0, 0, 0, 0, 0, 0, 0, 0, 0, 0, 0, 0, 0, 0, 0, 0, 0, 1, 0, 0, 0, 0, 0, 0, 0, 0, 0, 0, 0, 0, 0, 0, 0, 0, 0, 0, 0, 0, 0, 0, 0, 0, 0, 0, 0, 0, 0, 0, 0, 0, 0, 0, 0, 0, 0, 0, 0, 0, 0, 0, 0, 0, 0, 0, 0, 0, 0, 0, 0, 0, 0, 0, 0, 0, 0, 0, 0, 0, 0, 0, 0, 0, 0, 0, 0, 0, 0, 0, 0, 0, 0, 0, 0, 0, 0, 0, 0, 0, 0, 0, 0, 0, 0, 0, 0, 0, 0, 0, 0, 0, 0, 0, 0, 0, 0, 0, 0, 0, 0, 0, 0, 0, 0, 0, 0, 0, 0, 0, 0, 0, 0, 0, 0, 0, 0, 0, 0, 0, 0, 0, 0, 0, 0, 0, 0, 0, 0, 0, 0, 0, 0, 0, 0, 0, 0, 0, 0, 0, 0, 0, 0, 0, 0, 0, 0, 0, 0, 0, 0, 0, 0, 0, 0, 0, 0, 0, 0, 0, 0, 0, 0, 0, 0, 0, 0, 0, 0, 0, 0, 0, 0, 0, 0, 0, 0, 0, 0, 0, 0, 0, 0, 0, 0, 0, 0, 0, 0, 0, 0, 0, 0, 0, 0, 0, 0, 0, 0, 0, 0, 0, 0, 0, 0, 0, 0, 0, 0, 0, 0, 0, 0, 0, 0, 0, 0, 0, 0, 0, 0, 0, 0, 0, 0, 0, 0, 0, 0, 0, 0, 0, 0, 0, 0, 0, 0, 0, 0, 0, 0, 0, 0, 0, 0, 0, 0, 0, 0, 0, 0, 0, 0, 0, 0, 0, 0, 0, 0, 0, 0, 0, 0, 0, 0, 0, 0, 0, 0, 0, 0, 0, 0, 0, 0, 0, 0, 0, 0, 0, 0, 0, 0, 0, 0, 0, 0, 0, 0, 0, 0, 0, 0, 0, 0, 0, 0, 0, 0, 0, 0, 0, 0, 0, 0, 0, 0, 0, 0, 0, 0, 0, 0, 0, 0, 0, 0, 0, 0, 0, 0, 0, 0, 0, 0, 0, 0, 0, 0, 0, 0, 0, 0, 0, 0, 0, 0, 0, 0, 0, 0, 0, 0, 0, 0, 0, 0, 0, 0, 0, 0, 0, 0, 0, 0, 0, 0, 0, 0, 0, 0, 0, 0, 0, 0, 0, 0, 0, 0, 0, 0, 0, 0, 0, 0, 0, 0, 0, 0, 0, 0, 0, 0, 0, 0, 0, 0, 0, 0, 0, 0, 0, 0, 0, 0, 0, 0, 0, 0, 0, 0, 0, 0, 0, 0, 0, 0, 0, 0, 0, 0, 0, 0, 0, 0, 0, 0, 0, 0, 0, 0, 0, 0, 0, 0, 0, 0, 0, 0, 0, 0, 0, 0, 0, 0, 0, 0, 0, 0, 0, 0, 0, 0, 0, 0, 0, 0, 0, 0, 0, 0, 0, 0, 0, 0, 0, 0, 0, 0, 0, 0, 0, 0, 0, 0, 0, 0, 0, 0, 0, 0, 0, 0, 0, 0, 0, 0, 0, 0, 0, 0, 0, 0, 0, 0, 0, 0, 0, 0, 0, 0, 0, 0, 0, 0, 0, 0, 1, 0, 0, 0, 0, 0, 0, 0, 0, 0, 0, 0, 0, 0, 0, 0, 0, 0, 0, 0, 0, 0, 0, 0, 0, 0, 0, 0, 0, 0, 0, 0, 0, 0, 0, 0, 0, 0, 0, 0, 0, 0, 0, 0, 0, 0, 0, 0, 0, 0, 0, 0, 0, 0, 0, 0, 0, 0, 0, 0, 0, 0, 0, 0, 0, 0, 0, 0, 0, 0, 0, 0, 0, 0, 0, 0, 0, 0, 0, 0, 0, 0, 0, 0, 0, 0, 0, 0, 0, 0, 0, 0, 0, 0, 0, 0, 0, 0, 0, 0, 0, 0, 0, 0, 0, 0, 0, 0, 0, 0, 0, 2, 0, 0, 0, 0, 0, 0, 0, 0, 0, 0, 0, 0, 0, 0, 0, 0, 0, 0, 0, 0, 0, 0, 0, 0, 0, 0, 0, 0, 0, 0, 0, 0, 0, 0, 0, 0, 0, 0, 0, 0, 0, 0, 0, 0, 0, 0, 0, 0, 0, 0, 0, 0, 0, 0, 0, 0, 0, 0, 0, 0, 0, 0, 0, 0, 0, 0, 0, 0, 0, 0, 0, 0, 0, 0, 0, 0, 0, 0, 0, 0, 0, 0, 0, 0, 0, 0, 0, 0, 0, 0, 0, 0, 0, 0, 0, 0, 0, 0, 0, 0, 0, 0, 0, 0, 0, 0, 0, 0, 0, 0, 0, 0, 0, 0, 0, 0, 0, 0, 0, 0, 0, 0, 0, 0, 0, 0, 0, 0, 0, 0, 0, 0, 0, 0, 0, 0, 0, 0, 0, 0, 0, 0, 0, 0, 0, 0, 0, 0, 0, 0, 0, 0, 0, 0, 0, 0, 0, 0, 0, 0, 0, 0, 0, 0, 0, 0, 0, 0, 0, 0, 0, 0, 0, 0, 0, 0, 0, 0, 0, 0, 0, 0, 0, 0, 0, 0, 0, 0, 0, 0, 0, 0, 0, 0, 0, 0, 0, 0, 0, 0, 0, 0, 0, 0, 0, 0, 0, 0, 0, 0, 0, 0, 0, 0, 0, 0, 0, 0, 0, 0, 0, 0, 0, 0, 0, 0, 0, 0, 0, 0, 0, 0, 0, 0, 0, 0, 0, 0, 0, 0, 0, 0, 0, 0, 0, 0, 0, 0, 0, 0, 0, 0, 0, 0, 0, 0, 0, 0, 0, 0, 0, 0, 0, 0, 0, 0, 0, 0, 0, 0, 0, 0, 0, 0, 0, 0, 0, 0, 0, 0, 0, 0, 0, 0, 0, 0, 0, 0, 0, 0, 0, 0, 0, 0, 0, 0, 0, 0, 0, 0, 0, 0, 0, 0, 0, 0, 0, 0, 0, 0, 0, 0, 0, 0, 0, 0, 0, 0, 0, 0, 0, 0, 0, 0, 0, 0, 0, 0, 0, 0, 0, 0, 0, 0, 0, 0, 0, 0, 0, 0, 0, 0, 0, 0, 0, 0, 0, 0, 0, 0, 0, 0, 0, 0, 0, 0, 0, 0, 0, 0, 0, 0, 0, 0, 0, 0, 0, 0, 0, 0, 0, 0, 0, 0, 0, 0, 0, 0, 0, 0, 0, 0, 0, 0, 0, 0, 0, 0, 0, 0, 0, 0, 0, 0, 0, 0, 0, 0, 0, 0, 0, 0, 0, 0, 0, 0, 0, 0, 0, 0, 0, 0, 0, 0, 0, 0, 0, 0, 0, 0, 0, 0, 0, 0, 0, 0, 0, 0, 0, 0, 0, 0, 0, 0, 0, 0, 0, 0, 0, 0, 0, 0, 0, 0, 0, 0, 0, 0, 0, 0, 0, 0, 0, 0, 0, 0, 0, 0, 0, 0, 0, 0, 0, 0, 0, 0, 0, 0, 0, 0, 0, 0, 0, 0, 0, 0, 0, 0, 0, 0, 0, 0, 0, 0, 0, 0, 0, 0, 0, 0, 0, 0, 0, 0, 0, 0, 0, 0, 0, 0, 0, 0, 0, 0, 0, 0, 0, 0, 0, 0, 0, 0, 0, 0, 0, 0, 0, 0, 0, 0, 0, 0, 0, 0, 0, 0, 0, 0, 0, 0, 0, 0, 0, 0, 0, 0, 0, 0, 0, 0, 0, 0, 0, 0, 0, 0, 0, 0, 0, 0, 0, 0, 0, 0, 0, 0, 0, 0, 0, 0, 0, 0, 0, 0, 0, 0, 0, 0, 0, 0, 0, 0, 0, 0, 0, 0, 0, 0, 0, 0, 0, 0, 0, 0, 0, 0, 0, 0, 0, 0, 0, 0, 0, 0, 0, 0, 0, 0, 0, 0, 0, 0, 0, 0, 0, 0, 0, 0, 0, 0, 0, 0, 0, 0, 0, 0, 0, 0, 0, 0, 0, 0, 0, 0, 0, 0, 0, 0, 0, 0, 0, 0, 0, 0, 0, 0, 0, 0, 0, 0, 0, 0, 0, 0, 0, 0, 0, 0, 0, 0, 0, 0, 0, 0, 0, 0, 0, 0, 0, 0, 0, 0, 0, 0, 0, 0, 0, 0, 0, 0, 0, 0, 0, 0, 0, 0, 0, 0, 0, 0, 0, 0, 0, 0, 0, 0, 0, 0, 0, 0, 1, 0, 0, 0, 0, 0, 0, 0, 0, 0, 0, 0, 0, 0, 0, 0, 0, 0, 0, 0, 0, 0, 0, 0, 0, 0, 0, 0, 0, 0, 0, 0, 0, 0, 0, 0, 0, 0, 0, 0, 0, 0, 0, 0, 0, 0, 0, 0, 0, 0, 0, 0, 0, 0, 0, 0, 0, 0, 0, 0, 0, 0, 0, 0, 0, 0, 0, 0, 0, 0, 0, 0, 0, 0, 0, 0, 0, 0, 0, 0, 0, 0, 0, 0, 0, 0, 0, 0, 0, 0, 0, 0, 0, 0, 0, 0, 0, 0, 0, 0, 0, 0, 0, 0, 0, 0, 0, 0, 1, 0, 0, 0, 0, 0, 0, 0, 0, 0, 0, 0, 0, 0, 0, 0, 0, 0, 0, 0, 0, 0, 0, 0, 0, 0, 0, 0, 0, 0, 0, 0, 0, 0, 0, 0, 0, 0, 0, 0, 0, 0, 0, 0, 0, 0, 0, 0, 0, 0, 0, 0, 0, 0, 0, 0, 0, 0, 0, 0, 0, 0, 0, 0, 0, 0, 0, 0, 0, 0, 0, 0, 0, 0, 0, 0, 0, 0, 0, 0, 0, 0, 0, 0, 0, 0, 0, 0, 0, 0, 0, 0, 0, 0, 0, 0, 0, 0, 0, 0, 0, 0, 0, 0, 0, 0, 0, 0, 0, 0, 0, 0, 0, 0, 0, 0, 0, 0, 0, 0, 0, 0, 0, 0, 0, 0, 0, 0, 0, 0, 0, 0, 0, 0, 0, 0, 0, 0, 0, 0, 0, 0, 0, 0, 0, 0, 0, 0, 0, 0, 0, 0, 0, 0, 0, 0, 0, 0, 0, 0, 0, 0, 0, 0, 0, 0, 0, 0, 0, 0, 0, 0, 0, 0, 0, 0, 0, 0, 0, 0, 0, 0, 0, 0, 0, 0, 0, 0, 0, 0, 0, 0, 0, 0, 0, 0, 0, 0, 0, 0, 0, 0, 0, 0, 0, 0, 0, 0, 0, 0, 0, 0, 0, 0, 0, 0, 0, 0, 0, 0, 0, 0, 0, 0, 0, 0, 0, 0, 0, 0, 0, 0, 0, 0, 0, 0, 0, 0, 0, 0, 0, 0, 0, 0, 0, 0, 0, 0, 0, 0, 0, 0, 0, 0, 0, 0, 0, 0, 0, 0, 0, 0, 0, 0, 0, 0, 0, 0, 0, 0, 0, 0, 0, 0, 0, 0, 0, 0, 0, 0, 0, 0, 0, 0, 0, 0, 0, 0, 0, 0, 0, 0, 0, 0, 0, 0, 0, 0, 0, 0, 0, 0, 0, 0, 0, 0, 0, 0, 0, 0, 0, 0, 0, 0, 0, 0, 0, 0, 0, 0, 0, 0, 0, 0, 0, 0, 0, 0, 0, 0, 0, 0, 0, 0, 0, 0, 0, 0, 0, 0, 0, 0, 0, 0, 0, 0, 0, 0, 0, 0, 0, 0, 0, 0, 0, 0, 0, 0, 0, 0, 0, 0, 0, 0, 0, 0, 0, 0, 0, 0, 0, 0, 0, 0, 0, 0, 0, 0, 0, 0, 0, 0, 0, 0, 0, 0, 0, 0, 0, 0, 0, 0, 0, 0, 0, 0, 0, 0, 0, 0, 0, 0, 0, 0, 0, 0, 0, 0, 0, 0, 0, 0, 0, 0, 0, 0, 0, 0, 0, 0, 0, 0, 0, 0, 0, 0, 0, 0, 0, 0, 0, 0, 0, 0, 0, 0, 0, 0, 0, 0, 0, 0, 0, 0, 0, 0, 0, 0, 0, 0, 0, 0, 0, 0, 0, 0, 0, 0, 0, 0, 0, 0, 0, 0, 2, 0, 1, 0]\n"
     ]
    }
   ],
   "source": [
    "test_bow = bow_encoding(test_words, vocabulary)\n",
    "print(test_bow)"
   ]
  },
  {
   "cell_type": "code",
   "execution_count": 48,
   "metadata": {},
   "outputs": [
    {
     "data": {
      "text/plain": [
       "5000"
      ]
     },
     "execution_count": 48,
     "metadata": {},
     "output_type": "execute_result"
    }
   ],
   "source": [
    "len(test_bow)"
   ]
  },
  {
   "cell_type": "markdown",
   "metadata": {},
   "source": [
    "So now we know how to construct a bag of words encoding of a user provided review, how to we send it to our endpoint? First, we need to start the endpoint back up."
   ]
  },
  {
   "cell_type": "code",
   "execution_count": 49,
   "metadata": {
    "scrolled": true
   },
   "outputs": [
    {
     "name": "stderr",
     "output_type": "stream",
     "text": [
      "WARNING:sagemaker:Using already existing model: xgboost-2020-04-30-09-57-39-874\n"
     ]
    },
    {
     "ename": "ClientError",
     "evalue": "An error occurred (ValidationException) when calling the CreateEndpoint operation: Cannot create already existing endpoint \"arn:aws:sagemaker:us-east-1:947078573071:endpoint/xgboost-2020-04-30-09-57-39-874\".",
     "output_type": "error",
     "traceback": [
      "\u001b[0;31m---------------------------------------------------------------------------\u001b[0m",
      "\u001b[0;31mClientError\u001b[0m                               Traceback (most recent call last)",
      "\u001b[0;32m<ipython-input-49-ccb632c8fb45>\u001b[0m in \u001b[0;36m<module>\u001b[0;34m()\u001b[0m\n\u001b[0;32m----> 1\u001b[0;31m \u001b[0mxgb_predictor\u001b[0m \u001b[0;34m=\u001b[0m \u001b[0mxgb\u001b[0m\u001b[0;34m.\u001b[0m\u001b[0mdeploy\u001b[0m\u001b[0;34m(\u001b[0m\u001b[0minitial_instance_count\u001b[0m \u001b[0;34m=\u001b[0m \u001b[0;36m1\u001b[0m\u001b[0;34m,\u001b[0m \u001b[0minstance_type\u001b[0m \u001b[0;34m=\u001b[0m \u001b[0;34m'ml.m4.xlarge'\u001b[0m\u001b[0;34m)\u001b[0m\u001b[0;34m\u001b[0m\u001b[0m\n\u001b[0m",
      "\u001b[0;32m~/anaconda3/envs/python3/lib/python3.6/site-packages/sagemaker/estimator.py\u001b[0m in \u001b[0;36mdeploy\u001b[0;34m(self, initial_instance_count, instance_type, accelerator_type, endpoint_name, use_compiled_model, update_endpoint, wait, model_name, kms_key, data_capture_config, tags, **kwargs)\u001b[0m\n\u001b[1;32m    698\u001b[0m             \u001b[0mwait\u001b[0m\u001b[0;34m=\u001b[0m\u001b[0mwait\u001b[0m\u001b[0;34m,\u001b[0m\u001b[0;34m\u001b[0m\u001b[0m\n\u001b[1;32m    699\u001b[0m             \u001b[0mkms_key\u001b[0m\u001b[0;34m=\u001b[0m\u001b[0mkms_key\u001b[0m\u001b[0;34m,\u001b[0m\u001b[0;34m\u001b[0m\u001b[0m\n\u001b[0;32m--> 700\u001b[0;31m             \u001b[0mdata_capture_config\u001b[0m\u001b[0;34m=\u001b[0m\u001b[0mdata_capture_config\u001b[0m\u001b[0;34m,\u001b[0m\u001b[0;34m\u001b[0m\u001b[0m\n\u001b[0m\u001b[1;32m    701\u001b[0m         )\n\u001b[1;32m    702\u001b[0m \u001b[0;34m\u001b[0m\u001b[0m\n",
      "\u001b[0;32m~/anaconda3/envs/python3/lib/python3.6/site-packages/sagemaker/model.py\u001b[0m in \u001b[0;36mdeploy\u001b[0;34m(self, initial_instance_count, instance_type, accelerator_type, endpoint_name, update_endpoint, tags, kms_key, wait, data_capture_config)\u001b[0m\n\u001b[1;32m    513\u001b[0m                 \u001b[0mkms_key\u001b[0m\u001b[0;34m=\u001b[0m\u001b[0mkms_key\u001b[0m\u001b[0;34m,\u001b[0m\u001b[0;34m\u001b[0m\u001b[0m\n\u001b[1;32m    514\u001b[0m                 \u001b[0mwait\u001b[0m\u001b[0;34m=\u001b[0m\u001b[0mwait\u001b[0m\u001b[0;34m,\u001b[0m\u001b[0;34m\u001b[0m\u001b[0m\n\u001b[0;32m--> 515\u001b[0;31m                 \u001b[0mdata_capture_config_dict\u001b[0m\u001b[0;34m=\u001b[0m\u001b[0mdata_capture_config_dict\u001b[0m\u001b[0;34m,\u001b[0m\u001b[0;34m\u001b[0m\u001b[0m\n\u001b[0m\u001b[1;32m    516\u001b[0m             )\n\u001b[1;32m    517\u001b[0m \u001b[0;34m\u001b[0m\u001b[0m\n",
      "\u001b[0;32m~/anaconda3/envs/python3/lib/python3.6/site-packages/sagemaker/session.py\u001b[0m in \u001b[0;36mendpoint_from_production_variants\u001b[0;34m(self, name, production_variants, tags, kms_key, wait, data_capture_config_dict)\u001b[0m\n\u001b[1;32m   2870\u001b[0m \u001b[0;34m\u001b[0m\u001b[0m\n\u001b[1;32m   2871\u001b[0m             \u001b[0mself\u001b[0m\u001b[0;34m.\u001b[0m\u001b[0msagemaker_client\u001b[0m\u001b[0;34m.\u001b[0m\u001b[0mcreate_endpoint_config\u001b[0m\u001b[0;34m(\u001b[0m\u001b[0;34m**\u001b[0m\u001b[0mconfig_options\u001b[0m\u001b[0;34m)\u001b[0m\u001b[0;34m\u001b[0m\u001b[0m\n\u001b[0;32m-> 2872\u001b[0;31m         \u001b[0;32mreturn\u001b[0m \u001b[0mself\u001b[0m\u001b[0;34m.\u001b[0m\u001b[0mcreate_endpoint\u001b[0m\u001b[0;34m(\u001b[0m\u001b[0mendpoint_name\u001b[0m\u001b[0;34m=\u001b[0m\u001b[0mname\u001b[0m\u001b[0;34m,\u001b[0m \u001b[0mconfig_name\u001b[0m\u001b[0;34m=\u001b[0m\u001b[0mname\u001b[0m\u001b[0;34m,\u001b[0m \u001b[0mtags\u001b[0m\u001b[0;34m=\u001b[0m\u001b[0mtags\u001b[0m\u001b[0;34m,\u001b[0m \u001b[0mwait\u001b[0m\u001b[0;34m=\u001b[0m\u001b[0mwait\u001b[0m\u001b[0;34m)\u001b[0m\u001b[0;34m\u001b[0m\u001b[0m\n\u001b[0m\u001b[1;32m   2873\u001b[0m \u001b[0;34m\u001b[0m\u001b[0m\n\u001b[1;32m   2874\u001b[0m     \u001b[0;32mdef\u001b[0m \u001b[0mexpand_role\u001b[0m\u001b[0;34m(\u001b[0m\u001b[0mself\u001b[0m\u001b[0;34m,\u001b[0m \u001b[0mrole\u001b[0m\u001b[0;34m)\u001b[0m\u001b[0;34m:\u001b[0m\u001b[0;34m\u001b[0m\u001b[0m\n",
      "\u001b[0;32m~/anaconda3/envs/python3/lib/python3.6/site-packages/sagemaker/session.py\u001b[0m in \u001b[0;36mcreate_endpoint\u001b[0;34m(self, endpoint_name, config_name, tags, wait)\u001b[0m\n\u001b[1;32m   2399\u001b[0m \u001b[0;34m\u001b[0m\u001b[0m\n\u001b[1;32m   2400\u001b[0m         self.sagemaker_client.create_endpoint(\n\u001b[0;32m-> 2401\u001b[0;31m             \u001b[0mEndpointName\u001b[0m\u001b[0;34m=\u001b[0m\u001b[0mendpoint_name\u001b[0m\u001b[0;34m,\u001b[0m \u001b[0mEndpointConfigName\u001b[0m\u001b[0;34m=\u001b[0m\u001b[0mconfig_name\u001b[0m\u001b[0;34m,\u001b[0m \u001b[0mTags\u001b[0m\u001b[0;34m=\u001b[0m\u001b[0mtags\u001b[0m\u001b[0;34m\u001b[0m\u001b[0m\n\u001b[0m\u001b[1;32m   2402\u001b[0m         )\n\u001b[1;32m   2403\u001b[0m         \u001b[0;32mif\u001b[0m \u001b[0mwait\u001b[0m\u001b[0;34m:\u001b[0m\u001b[0;34m\u001b[0m\u001b[0m\n",
      "\u001b[0;32m~/anaconda3/envs/python3/lib/python3.6/site-packages/botocore/client.py\u001b[0m in \u001b[0;36m_api_call\u001b[0;34m(self, *args, **kwargs)\u001b[0m\n\u001b[1;32m    314\u001b[0m                     \"%s() only accepts keyword arguments.\" % py_operation_name)\n\u001b[1;32m    315\u001b[0m             \u001b[0;31m# The \"self\" in this scope is referring to the BaseClient.\u001b[0m\u001b[0;34m\u001b[0m\u001b[0;34m\u001b[0m\u001b[0m\n\u001b[0;32m--> 316\u001b[0;31m             \u001b[0;32mreturn\u001b[0m \u001b[0mself\u001b[0m\u001b[0;34m.\u001b[0m\u001b[0m_make_api_call\u001b[0m\u001b[0;34m(\u001b[0m\u001b[0moperation_name\u001b[0m\u001b[0;34m,\u001b[0m \u001b[0mkwargs\u001b[0m\u001b[0;34m)\u001b[0m\u001b[0;34m\u001b[0m\u001b[0m\n\u001b[0m\u001b[1;32m    317\u001b[0m \u001b[0;34m\u001b[0m\u001b[0m\n\u001b[1;32m    318\u001b[0m         \u001b[0m_api_call\u001b[0m\u001b[0;34m.\u001b[0m\u001b[0m__name__\u001b[0m \u001b[0;34m=\u001b[0m \u001b[0mstr\u001b[0m\u001b[0;34m(\u001b[0m\u001b[0mpy_operation_name\u001b[0m\u001b[0;34m)\u001b[0m\u001b[0;34m\u001b[0m\u001b[0m\n",
      "\u001b[0;32m~/anaconda3/envs/python3/lib/python3.6/site-packages/botocore/client.py\u001b[0m in \u001b[0;36m_make_api_call\u001b[0;34m(self, operation_name, api_params)\u001b[0m\n\u001b[1;32m    624\u001b[0m             \u001b[0merror_code\u001b[0m \u001b[0;34m=\u001b[0m \u001b[0mparsed_response\u001b[0m\u001b[0;34m.\u001b[0m\u001b[0mget\u001b[0m\u001b[0;34m(\u001b[0m\u001b[0;34m\"Error\"\u001b[0m\u001b[0;34m,\u001b[0m \u001b[0;34m{\u001b[0m\u001b[0;34m}\u001b[0m\u001b[0;34m)\u001b[0m\u001b[0;34m.\u001b[0m\u001b[0mget\u001b[0m\u001b[0;34m(\u001b[0m\u001b[0;34m\"Code\"\u001b[0m\u001b[0;34m)\u001b[0m\u001b[0;34m\u001b[0m\u001b[0m\n\u001b[1;32m    625\u001b[0m             \u001b[0merror_class\u001b[0m \u001b[0;34m=\u001b[0m \u001b[0mself\u001b[0m\u001b[0;34m.\u001b[0m\u001b[0mexceptions\u001b[0m\u001b[0;34m.\u001b[0m\u001b[0mfrom_code\u001b[0m\u001b[0;34m(\u001b[0m\u001b[0merror_code\u001b[0m\u001b[0;34m)\u001b[0m\u001b[0;34m\u001b[0m\u001b[0m\n\u001b[0;32m--> 626\u001b[0;31m             \u001b[0;32mraise\u001b[0m \u001b[0merror_class\u001b[0m\u001b[0;34m(\u001b[0m\u001b[0mparsed_response\u001b[0m\u001b[0;34m,\u001b[0m \u001b[0moperation_name\u001b[0m\u001b[0;34m)\u001b[0m\u001b[0;34m\u001b[0m\u001b[0m\n\u001b[0m\u001b[1;32m    627\u001b[0m         \u001b[0;32melse\u001b[0m\u001b[0;34m:\u001b[0m\u001b[0;34m\u001b[0m\u001b[0m\n\u001b[1;32m    628\u001b[0m             \u001b[0;32mreturn\u001b[0m \u001b[0mparsed_response\u001b[0m\u001b[0;34m\u001b[0m\u001b[0m\n",
      "\u001b[0;31mClientError\u001b[0m: An error occurred (ValidationException) when calling the CreateEndpoint operation: Cannot create already existing endpoint \"arn:aws:sagemaker:us-east-1:947078573071:endpoint/xgboost-2020-04-30-09-57-39-874\"."
     ]
    }
   ],
   "source": [
    "xgb_predictor = xgb.deploy(initial_instance_count = 1, instance_type = 'ml.m4.xlarge')"
   ]
  },
  {
   "cell_type": "markdown",
   "metadata": {},
   "source": [
    "At this point we could just do the same thing that we did earlier when we tested our deployed model and send `test_bow` to our endpoint using the `xgb_predictor` object. However, when we eventually construct our Lambda function we won't have access to this object, so how do we call a SageMaker endpoint?\n",
    "\n",
    "It turns out that Python functions that are used in Lambda have access to another Amazon library called `boto3`. This library provides an API for working with Amazon services, including SageMaker. To start with, we need to get a handle to the SageMaker runtime."
   ]
  },
  {
   "cell_type": "code",
   "execution_count": 50,
   "metadata": {},
   "outputs": [],
   "source": [
    "import boto3\n",
    "\n",
    "runtime = boto3.Session().client('sagemaker-runtime')"
   ]
  },
  {
   "cell_type": "markdown",
   "metadata": {},
   "source": [
    "And now that we have access to the SageMaker runtime, we can ask it to make use of (invoke) an endpoint that has already been created. However, we need to provide SageMaker with the name of the deployed endpoint. To find this out we can print it out using the `xgb_predictor` object."
   ]
  },
  {
   "cell_type": "code",
   "execution_count": 51,
   "metadata": {},
   "outputs": [
    {
     "data": {
      "text/plain": [
       "'xgboost-2020-04-30-09-57-39-874'"
      ]
     },
     "execution_count": 51,
     "metadata": {},
     "output_type": "execute_result"
    }
   ],
   "source": [
    "xgb_predictor.endpoint"
   ]
  },
  {
   "cell_type": "markdown",
   "metadata": {},
   "source": [
    "Using the SageMaker runtime and the name of our endpoint, we can invoke the endpoint and send it the `test_bow` data."
   ]
  },
  {
   "cell_type": "code",
   "execution_count": 52,
   "metadata": {},
   "outputs": [
    {
     "ename": "ParamValidationError",
     "evalue": "Parameter validation failed:\nInvalid type for parameter Body, value: [0, 0, 0, 0, 0, 0, 0, 0, 0, 0, 0, 0, 0, 0, 0, 0, 0, 0, 0, 0, 0, 0, 0, 0, 0, 0, 0, 0, 0, 0, 0, 0, 0, 0, 0, 0, 0, 0, 0, 0, 0, 0, 0, 0, 0, 0, 0, 0, 0, 0, 0, 0, 0, 0, 0, 0, 0, 0, 0, 0, 0, 0, 0, 0, 0, 0, 0, 0, 0, 0, 0, 0, 0, 0, 0, 0, 0, 0, 0, 0, 0, 0, 0, 0, 0, 0, 0, 0, 0, 0, 0, 0, 0, 0, 0, 0, 0, 0, 0, 0, 0, 0, 0, 0, 0, 0, 0, 0, 0, 0, 0, 0, 0, 0, 0, 0, 0, 0, 0, 0, 0, 0, 0, 0, 0, 0, 0, 0, 0, 0, 0, 0, 0, 0, 0, 0, 0, 0, 0, 0, 0, 0, 0, 0, 0, 0, 0, 0, 0, 0, 0, 0, 0, 0, 0, 0, 0, 0, 0, 0, 0, 0, 0, 0, 0, 0, 0, 0, 0, 0, 0, 0, 0, 0, 0, 0, 0, 0, 0, 0, 0, 0, 0, 0, 0, 0, 0, 0, 0, 0, 0, 0, 0, 0, 0, 0, 0, 0, 0, 0, 0, 0, 0, 0, 0, 0, 0, 0, 0, 0, 0, 0, 0, 0, 0, 0, 0, 0, 0, 0, 0, 0, 0, 0, 0, 0, 1, 0, 0, 0, 0, 0, 0, 0, 0, 0, 0, 0, 0, 0, 0, 0, 0, 0, 0, 0, 0, 0, 0, 0, 0, 0, 0, 0, 0, 0, 1, 0, 0, 0, 0, 0, 0, 0, 0, 0, 0, 0, 0, 0, 0, 0, 0, 0, 0, 0, 0, 0, 0, 0, 0, 0, 0, 0, 0, 0, 0, 0, 0, 0, 0, 0, 0, 0, 0, 0, 0, 0, 0, 0, 0, 0, 0, 0, 0, 0, 0, 0, 0, 0, 0, 0, 0, 0, 0, 0, 0, 0, 0, 0, 0, 0, 0, 0, 0, 0, 0, 0, 0, 0, 0, 0, 0, 0, 0, 0, 0, 0, 0, 0, 0, 0, 0, 0, 0, 0, 0, 0, 0, 0, 0, 0, 0, 0, 0, 0, 0, 0, 0, 0, 0, 0, 0, 0, 0, 0, 0, 0, 0, 0, 0, 0, 0, 0, 0, 0, 0, 0, 0, 0, 0, 0, 0, 0, 0, 0, 0, 0, 0, 0, 0, 0, 0, 0, 0, 0, 0, 0, 0, 0, 0, 0, 0, 0, 0, 0, 0, 0, 0, 0, 0, 0, 0, 0, 0, 0, 0, 0, 0, 0, 0, 0, 0, 0, 0, 0, 0, 0, 0, 0, 0, 0, 0, 0, 0, 0, 0, 0, 0, 0, 0, 0, 0, 0, 0, 0, 0, 0, 0, 0, 0, 0, 0, 0, 0, 0, 0, 0, 0, 0, 0, 0, 0, 0, 0, 0, 0, 0, 0, 0, 0, 0, 0, 0, 0, 0, 0, 0, 0, 0, 0, 0, 0, 0, 0, 0, 0, 0, 0, 0, 0, 0, 0, 0, 0, 0, 0, 0, 0, 0, 0, 0, 0, 0, 0, 0, 0, 0, 0, 0, 0, 0, 0, 0, 0, 0, 0, 0, 0, 0, 0, 0, 0, 0, 0, 0, 0, 0, 0, 0, 0, 0, 0, 0, 0, 0, 0, 0, 0, 0, 0, 0, 0, 0, 0, 0, 0, 0, 0, 0, 0, 0, 0, 0, 0, 0, 0, 0, 0, 0, 0, 0, 0, 0, 0, 0, 0, 0, 0, 0, 0, 0, 0, 0, 0, 0, 0, 0, 0, 0, 0, 0, 0, 0, 0, 0, 0, 0, 0, 0, 0, 0, 0, 0, 0, 0, 0, 0, 0, 0, 0, 0, 0, 0, 0, 0, 0, 0, 0, 0, 0, 0, 0, 0, 0, 0, 0, 0, 0, 0, 0, 0, 0, 0, 0, 0, 0, 0, 0, 0, 0, 0, 0, 0, 0, 0, 1, 0, 0, 0, 0, 0, 0, 0, 0, 0, 0, 0, 0, 0, 0, 0, 0, 0, 0, 0, 0, 0, 0, 0, 0, 0, 0, 0, 0, 0, 0, 0, 0, 0, 0, 0, 0, 0, 0, 0, 0, 0, 0, 0, 0, 0, 0, 0, 0, 0, 0, 0, 0, 0, 0, 0, 0, 0, 0, 0, 0, 0, 0, 0, 0, 0, 0, 0, 0, 0, 0, 0, 0, 0, 0, 0, 0, 0, 0, 0, 0, 0, 0, 0, 0, 0, 0, 0, 0, 0, 0, 0, 0, 0, 0, 0, 0, 0, 0, 0, 0, 0, 0, 0, 0, 0, 0, 0, 0, 0, 0, 0, 0, 0, 0, 0, 0, 0, 0, 0, 0, 0, 0, 0, 0, 0, 0, 0, 0, 0, 0, 0, 0, 0, 0, 0, 0, 0, 0, 0, 0, 0, 0, 0, 0, 0, 0, 0, 0, 0, 0, 0, 0, 0, 0, 0, 0, 0, 0, 0, 0, 0, 0, 0, 0, 0, 0, 0, 0, 0, 0, 0, 0, 0, 0, 0, 0, 0, 0, 0, 0, 0, 0, 0, 0, 0, 0, 0, 0, 0, 0, 0, 0, 0, 0, 0, 0, 0, 0, 0, 0, 0, 0, 0, 0, 0, 0, 0, 0, 0, 0, 0, 0, 0, 0, 0, 0, 0, 0, 0, 0, 0, 0, 0, 0, 0, 0, 0, 0, 0, 0, 0, 0, 0, 0, 0, 0, 0, 0, 0, 0, 0, 0, 0, 0, 0, 0, 0, 0, 0, 0, 0, 0, 0, 1, 0, 0, 0, 0, 0, 0, 0, 0, 0, 0, 0, 0, 0, 0, 0, 0, 0, 0, 0, 0, 0, 0, 0, 0, 0, 0, 0, 0, 0, 0, 0, 0, 0, 0, 0, 0, 0, 0, 0, 0, 0, 0, 0, 0, 0, 0, 0, 0, 0, 0, 0, 0, 0, 0, 0, 0, 0, 0, 0, 0, 0, 0, 0, 0, 0, 0, 0, 0, 0, 0, 0, 0, 0, 0, 0, 0, 0, 0, 0, 0, 0, 0, 0, 0, 0, 0, 1, 0, 0, 0, 0, 0, 0, 0, 0, 0, 0, 0, 0, 0, 0, 0, 0, 0, 0, 0, 0, 0, 0, 0, 0, 0, 0, 0, 0, 0, 0, 0, 0, 0, 0, 0, 0, 0, 0, 0, 0, 0, 0, 0, 0, 0, 0, 0, 0, 0, 0, 0, 0, 0, 0, 0, 0, 0, 0, 0, 0, 0, 0, 0, 0, 0, 0, 0, 0, 0, 0, 0, 0, 0, 0, 0, 0, 0, 0, 0, 0, 0, 0, 0, 0, 0, 0, 0, 0, 0, 0, 0, 0, 0, 0, 0, 0, 0, 0, 0, 0, 0, 0, 0, 0, 0, 0, 0, 0, 0, 0, 0, 0, 0, 0, 0, 0, 0, 0, 0, 0, 0, 0, 0, 0, 0, 0, 0, 0, 0, 0, 0, 0, 0, 0, 0, 0, 0, 0, 0, 0, 0, 0, 0, 0, 0, 0, 0, 0, 0, 0, 0, 0, 0, 0, 0, 0, 0, 0, 0, 0, 0, 0, 0, 0, 0, 0, 0, 0, 0, 0, 0, 0, 0, 0, 0, 0, 0, 0, 0, 0, 0, 0, 0, 0, 0, 0, 0, 0, 0, 0, 0, 0, 0, 0, 0, 0, 0, 0, 0, 0, 0, 0, 0, 0, 0, 0, 0, 0, 0, 0, 0, 0, 0, 0, 0, 0, 0, 0, 0, 0, 0, 0, 0, 0, 0, 0, 0, 0, 0, 0, 0, 0, 0, 0, 0, 0, 0, 0, 0, 0, 0, 0, 0, 0, 0, 0, 0, 0, 0, 0, 0, 0, 1, 0, 0, 0, 0, 0, 0, 0, 0, 0, 0, 0, 0, 0, 0, 0, 0, 0, 0, 0, 0, 0, 0, 0, 0, 0, 0, 0, 0, 0, 0, 0, 0, 0, 0, 0, 0, 0, 0, 0, 0, 0, 0, 0, 0, 0, 0, 0, 0, 0, 0, 0, 0, 0, 0, 0, 1, 0, 0, 0, 0, 0, 0, 0, 0, 0, 0, 0, 0, 0, 0, 0, 0, 0, 0, 0, 0, 0, 0, 0, 0, 0, 0, 0, 0, 0, 0, 0, 0, 0, 0, 0, 0, 0, 0, 0, 0, 0, 0, 0, 0, 0, 0, 0, 0, 0, 0, 0, 0, 0, 0, 0, 0, 0, 0, 0, 0, 0, 0, 0, 0, 0, 0, 0, 0, 0, 0, 0, 0, 0, 0, 0, 0, 0, 0, 0, 0, 0, 0, 0, 0, 0, 0, 0, 0, 0, 0, 0, 0, 0, 0, 0, 0, 0, 0, 0, 0, 0, 0, 0, 0, 0, 0, 0, 0, 0, 0, 0, 0, 0, 0, 0, 0, 0, 0, 0, 0, 0, 0, 0, 0, 0, 0, 0, 0, 0, 0, 0, 0, 0, 0, 0, 0, 0, 0, 0, 0, 0, 0, 0, 0, 0, 0, 0, 0, 0, 0, 0, 0, 0, 0, 0, 0, 0, 0, 0, 0, 0, 0, 0, 0, 0, 0, 0, 0, 0, 0, 0, 0, 0, 0, 0, 0, 0, 0, 0, 0, 0, 0, 0, 0, 0, 0, 0, 0, 0, 0, 0, 0, 0, 0, 0, 0, 0, 0, 0, 0, 0, 0, 0, 0, 0, 0, 0, 0, 0, 0, 0, 0, 0, 0, 0, 0, 0, 0, 0, 0, 0, 0, 0, 0, 0, 0, 0, 0, 0, 0, 0, 0, 0, 0, 0, 0, 0, 0, 0, 0, 0, 0, 0, 0, 0, 0, 0, 0, 0, 0, 0, 0, 0, 0, 0, 0, 0, 0, 0, 0, 0, 0, 0, 0, 0, 0, 0, 0, 0, 0, 0, 0, 0, 0, 0, 0, 0, 0, 0, 0, 0, 0, 0, 0, 0, 0, 0, 0, 0, 0, 0, 0, 0, 0, 0, 0, 0, 0, 0, 0, 0, 0, 0, 0, 0, 0, 0, 0, 0, 0, 0, 0, 0, 0, 0, 0, 0, 0, 0, 0, 0, 0, 0, 0, 0, 0, 0, 0, 0, 0, 0, 0, 0, 0, 0, 0, 0, 0, 0, 0, 0, 0, 0, 0, 0, 0, 0, 0, 0, 0, 0, 0, 0, 0, 0, 0, 0, 0, 0, 0, 0, 0, 0, 0, 0, 0, 0, 0, 0, 0, 0, 0, 0, 0, 0, 0, 0, 0, 0, 0, 0, 0, 0, 0, 0, 0, 0, 0, 0, 0, 0, 0, 0, 0, 0, 0, 0, 0, 0, 0, 0, 0, 0, 0, 0, 0, 0, 0, 0, 0, 0, 0, 0, 0, 0, 0, 0, 0, 0, 0, 0, 0, 0, 0, 0, 0, 0, 0, 0, 0, 0, 0, 0, 0, 0, 0, 0, 0, 0, 0, 0, 0, 0, 0, 0, 0, 0, 0, 0, 0, 0, 0, 0, 0, 0, 0, 0, 0, 0, 0, 0, 0, 0, 0, 0, 0, 0, 0, 0, 0, 0, 0, 0, 0, 0, 0, 0, 0, 0, 0, 0, 0, 0, 0, 0, 0, 0, 0, 0, 0, 0, 0, 0, 0, 0, 0, 0, 0, 0, 0, 0, 0, 0, 0, 0, 0, 0, 0, 0, 0, 0, 0, 0, 0, 0, 0, 0, 0, 0, 0, 0, 0, 0, 0, 0, 0, 0, 0, 0, 0, 0, 0, 0, 0, 0, 0, 0, 0, 0, 0, 0, 0, 0, 0, 0, 0, 0, 0, 0, 0, 0, 0, 0, 0, 0, 0, 0, 0, 0, 0, 0, 0, 0, 0, 0, 0, 0, 0, 0, 0, 0, 0, 0, 0, 0, 0, 0, 0, 0, 0, 0, 0, 0, 0, 0, 0, 0, 0, 0, 0, 0, 0, 0, 0, 0, 0, 0, 0, 0, 0, 0, 0, 0, 0, 0, 0, 0, 0, 0, 0, 0, 0, 0, 0, 0, 0, 0, 0, 0, 0, 0, 0, 0, 0, 0, 0, 0, 0, 0, 0, 0, 0, 0, 0, 0, 0, 0, 0, 0, 0, 0, 0, 0, 0, 0, 0, 0, 0, 0, 0, 0, 0, 0, 0, 0, 0, 0, 0, 0, 0, 0, 0, 0, 0, 0, 0, 0, 0, 0, 0, 0, 0, 0, 0, 0, 0, 0, 0, 0, 0, 0, 1, 0, 0, 0, 0, 0, 0, 0, 0, 0, 0, 0, 0, 0, 0, 0, 0, 0, 0, 0, 0, 0, 0, 0, 0, 0, 0, 0, 0, 0, 0, 0, 0, 0, 0, 0, 0, 0, 0, 0, 0, 0, 0, 0, 0, 0, 0, 0, 0, 0, 0, 0, 0, 0, 0, 0, 0, 0, 0, 0, 0, 0, 0, 0, 0, 0, 0, 0, 0, 0, 0, 0, 0, 0, 0, 1, 0, 0, 0, 0, 0, 0, 0, 0, 0, 0, 0, 0, 0, 0, 0, 0, 0, 0, 0, 0, 1, 0, 0, 1, 0, 0, 0, 0, 0, 0, 0, 0, 0, 0, 0, 0, 0, 0, 0, 0, 0, 0, 0, 0, 0, 0, 0, 0, 0, 0, 0, 0, 0, 0, 0, 0, 0, 0, 0, 0, 0, 0, 0, 0, 0, 0, 0, 0, 0, 0, 0, 0, 0, 0, 0, 0, 0, 0, 0, 0, 0, 0, 0, 0, 0, 0, 0, 0, 0, 0, 0, 0, 0, 0, 0, 0, 0, 0, 0, 0, 0, 0, 0, 0, 0, 0, 0, 0, 0, 0, 0, 0, 0, 0, 0, 0, 0, 0, 0, 0, 0, 0, 0, 0, 0, 0, 0, 0, 0, 0, 0, 0, 0, 0, 0, 0, 0, 0, 0, 0, 0, 0, 0, 0, 0, 0, 0, 0, 0, 0, 0, 0, 0, 0, 0, 0, 0, 0, 0, 0, 0, 0, 0, 0, 0, 0, 0, 0, 0, 0, 0, 0, 0, 0, 0, 0, 0, 0, 0, 0, 0, 0, 0, 0, 0, 0, 0, 0, 0, 0, 0, 0, 0, 0, 0, 0, 0, 0, 0, 0, 0, 0, 0, 0, 0, 0, 0, 0, 0, 0, 0, 0, 0, 0, 0, 0, 0, 0, 0, 0, 0, 0, 0, 0, 0, 0, 0, 0, 0, 0, 0, 0, 0, 0, 0, 0, 0, 0, 0, 0, 0, 0, 0, 0, 0, 0, 0, 0, 0, 0, 0, 0, 0, 0, 0, 0, 0, 0, 0, 0, 0, 0, 0, 0, 0, 0, 0, 0, 0, 0, 0, 0, 0, 0, 0, 0, 0, 0, 0, 0, 0, 0, 0, 0, 0, 0, 0, 0, 0, 0, 0, 0, 0, 0, 0, 0, 0, 0, 0, 0, 0, 0, 0, 0, 0, 0, 0, 0, 0, 0, 0, 0, 0, 0, 0, 0, 0, 0, 0, 0, 0, 0, 0, 0, 0, 0, 0, 0, 0, 0, 0, 0, 0, 0, 0, 0, 0, 0, 0, 0, 0, 0, 0, 0, 0, 0, 0, 0, 0, 0, 0, 0, 0, 0, 0, 0, 0, 0, 0, 0, 0, 0, 0, 0, 0, 0, 0, 0, 0, 0, 0, 0, 0, 0, 0, 0, 0, 0, 0, 0, 0, 0, 0, 0, 0, 0, 0, 0, 0, 0, 0, 0, 0, 0, 0, 0, 0, 0, 0, 0, 0, 0, 0, 0, 0, 0, 0, 0, 0, 0, 0, 0, 0, 0, 0, 0, 0, 0, 0, 0, 0, 0, 0, 0, 0, 0, 0, 0, 0, 0, 0, 0, 0, 0, 0, 0, 0, 0, 0, 0, 0, 0, 0, 0, 0, 0, 0, 0, 0, 0, 0, 0, 0, 0, 0, 0, 0, 0, 0, 0, 0, 0, 0, 0, 0, 0, 0, 0, 0, 0, 0, 0, 0, 0, 0, 0, 0, 0, 0, 0, 0, 0, 0, 0, 0, 0, 0, 0, 0, 0, 1, 0, 0, 0, 0, 0, 0, 0, 0, 0, 0, 0, 0, 0, 0, 0, 0, 0, 0, 0, 0, 0, 0, 0, 0, 0, 0, 0, 0, 0, 0, 0, 0, 0, 0, 0, 0, 0, 0, 0, 0, 0, 0, 0, 0, 0, 0, 0, 0, 0, 0, 0, 0, 0, 0, 0, 0, 0, 0, 0, 0, 0, 0, 0, 0, 0, 0, 0, 0, 0, 0, 0, 0, 0, 0, 0, 0, 0, 0, 0, 0, 0, 0, 0, 0, 0, 0, 0, 0, 0, 0, 0, 0, 0, 0, 0, 0, 0, 0, 0, 0, 0, 0, 0, 0, 0, 0, 0, 0, 0, 0, 0, 0, 0, 0, 0, 0, 0, 0, 0, 0, 0, 0, 0, 0, 0, 0, 0, 0, 0, 0, 0, 0, 0, 0, 0, 0, 0, 0, 0, 0, 0, 0, 0, 0, 0, 0, 0, 0, 0, 0, 0, 0, 0, 0, 0, 0, 0, 0, 0, 0, 0, 0, 0, 0, 0, 0, 0, 0, 0, 0, 0, 0, 0, 0, 0, 0, 0, 0, 0, 0, 0, 0, 0, 0, 0, 0, 0, 0, 0, 0, 0, 0, 0, 0, 0, 0, 0, 0, 0, 0, 0, 0, 0, 0, 0, 0, 0, 0, 0, 0, 0, 0, 0, 0, 0, 0, 0, 0, 0, 0, 0, 0, 0, 0, 0, 0, 0, 0, 0, 0, 0, 0, 0, 0, 0, 0, 0, 0, 0, 0, 0, 0, 0, 0, 0, 0, 0, 0, 0, 0, 0, 0, 0, 0, 0, 0, 0, 0, 0, 0, 0, 0, 0, 0, 0, 0, 0, 0, 0, 0, 0, 0, 0, 0, 0, 0, 0, 0, 0, 0, 0, 0, 0, 0, 0, 0, 0, 0, 0, 0, 0, 0, 0, 0, 0, 0, 0, 0, 0, 0, 0, 0, 0, 0, 0, 0, 0, 0, 0, 0, 0, 0, 0, 0, 0, 0, 0, 0, 0, 0, 0, 0, 0, 0, 0, 0, 0, 0, 0, 0, 0, 0, 0, 0, 0, 0, 0, 0, 0, 0, 0, 0, 0, 0, 0, 0, 0, 0, 0, 0, 0, 0, 0, 0, 0, 0, 0, 0, 0, 0, 0, 0, 0, 0, 0, 0, 0, 0, 0, 0, 0, 0, 0, 0, 0, 0, 0, 0, 0, 0, 0, 0, 0, 0, 0, 0, 0, 0, 0, 0, 0, 0, 0, 0, 0, 0, 0, 0, 0, 0, 0, 0, 0, 0, 0, 0, 0, 0, 0, 0, 0, 0, 0, 0, 0, 0, 0, 0, 0, 0, 0, 0, 0, 0, 0, 0, 0, 0, 0, 0, 0, 0, 0, 0, 0, 0, 0, 0, 0, 0, 0, 0, 0, 0, 0, 0, 0, 0, 0, 0, 0, 0, 0, 0, 0, 0, 0, 0, 0, 0, 0, 0, 0, 0, 0, 0, 0, 0, 0, 0, 0, 0, 0, 0, 0, 0, 0, 0, 0, 0, 0, 0, 0, 0, 0, 0, 0, 0, 0, 0, 0, 0, 0, 0, 0, 0, 0, 0, 0, 0, 0, 0, 0, 0, 0, 0, 0, 0, 0, 0, 0, 0, 1, 0, 0, 0, 0, 0, 0, 0, 0, 0, 0, 0, 0, 0, 0, 0, 0, 0, 0, 0, 0, 0, 0, 0, 0, 0, 0, 0, 0, 0, 0, 0, 0, 0, 0, 0, 2, 0, 0, 0, 0, 0, 0, 0, 0, 0, 0, 0, 0, 0, 0, 0, 0, 0, 0, 0, 0, 0, 0, 0, 0, 0, 0, 0, 0, 0, 0, 0, 0, 0, 0, 0, 0, 0, 0, 0, 0, 1, 0, 0, 0, 0, 0, 0, 0, 0, 0, 0, 0, 0, 0, 0, 0, 0, 0, 0, 0, 0, 0, 0, 0, 0, 0, 0, 0, 0, 0, 0, 0, 0, 0, 0, 0, 0, 0, 0, 0, 0, 0, 0, 0, 0, 0, 0, 0, 0, 0, 0, 0, 0, 0, 0, 0, 0, 0, 0, 0, 0, 0, 0, 0, 0, 0, 0, 0, 0, 0, 0, 0, 0, 0, 0, 0, 0, 0, 0, 0, 0, 0, 0, 0, 0, 0, 0, 0, 0, 0, 0, 0, 0, 0, 0, 0, 0, 0, 0, 0, 0, 0, 0, 0, 0, 0, 0, 0, 0, 0, 0, 0, 0, 0, 0, 0, 0, 0, 0, 0, 0, 0, 0, 0, 0, 0, 0, 0, 0, 0, 0, 0, 0, 0, 0, 0, 0, 0, 0, 0, 0, 0, 0, 0, 0, 0, 0, 0, 0, 0, 0, 0, 0, 0, 0, 0, 0, 0, 0, 0, 0, 0, 0, 0, 0, 0, 0, 0, 0, 0, 0, 0, 0, 0, 0, 0, 0, 0, 0, 0, 0, 0, 0, 0, 0, 0, 0, 0, 0, 0, 0, 0, 0, 0, 0, 0, 0, 0, 0, 0, 0, 0, 0, 0, 0, 0, 0, 0, 0, 0, 0, 0, 0, 0, 0, 0, 0, 0, 0, 0, 0, 0, 0, 0, 0, 0, 0, 0, 0, 0, 0, 0, 0, 0, 0, 0, 0, 0, 0, 0, 0, 0, 0, 0, 0, 0, 0, 0, 0, 0, 0, 0, 0, 0, 0, 0, 0, 0, 0, 0, 0, 0, 0, 0, 0, 0, 0, 0, 0, 0, 0, 0, 0, 0, 0, 0, 0, 0, 0, 0, 0, 0, 0, 0, 0, 0, 0, 0, 0, 0, 0, 0, 0, 0, 0, 0, 0, 0, 0, 0, 0, 0, 0, 0, 0, 0, 0, 0, 0, 0, 0, 0, 0, 0, 0, 0, 0, 0, 0, 0, 0, 0, 0, 0, 0, 0, 0, 0, 0, 0, 0, 0, 0, 0, 0, 0, 0, 0, 0, 0, 0, 0, 0, 0, 0, 0, 0, 0, 0, 0, 0, 0, 0, 0, 0, 0, 0, 0, 0, 0, 0, 0, 0, 0, 0, 0, 0, 0, 0, 0, 0, 0, 0, 0, 0, 0, 0, 0, 0, 0, 0, 0, 0, 0, 0, 0, 0, 0, 0, 0, 0, 0, 0, 0, 0, 0, 0, 0, 0, 0, 0, 0, 0, 0, 0, 0, 0, 0, 0, 0, 0, 0, 0, 0, 0, 0, 0, 0, 0, 0, 0, 0, 0, 0, 0, 0, 0, 0, 0, 0, 0, 0, 0, 0, 0, 0, 0, 0, 0, 0, 0, 0, 0, 0, 0, 0, 0, 0, 0, 0, 0, 0, 0, 0, 0, 0, 0, 0, 0, 0, 0, 0, 0, 0, 0, 0, 0, 0, 0, 0, 0, 0, 0, 0, 0, 0, 0, 0, 0, 0, 0, 0, 0, 0, 0, 0, 0, 0, 0, 0, 0, 0, 0, 0, 0, 0, 0, 0, 1, 0, 0, 0, 0, 0, 0, 0, 0, 0, 0, 0, 0, 0, 0, 0, 0, 0, 0, 0, 0, 0, 0, 0, 0, 0, 0, 0, 0, 0, 0, 0, 0, 0, 0, 0, 0, 0, 0, 0, 0, 0, 0, 0, 0, 0, 0, 0, 0, 0, 0, 0, 0, 0, 0, 0, 0, 0, 0, 0, 0, 0, 0, 0, 0, 0, 0, 0, 0, 0, 0, 0, 0, 0, 0, 0, 0, 0, 0, 0, 0, 0, 0, 0, 0, 0, 0, 0, 0, 0, 0, 0, 0, 0, 0, 0, 0, 0, 0, 0, 0, 0, 0, 0, 0, 0, 0, 0, 0, 0, 0, 2, 0, 0, 0, 0, 0, 0, 0, 0, 0, 0, 0, 0, 0, 0, 0, 0, 0, 0, 0, 0, 0, 0, 0, 0, 0, 0, 0, 0, 0, 0, 0, 0, 0, 0, 0, 0, 0, 0, 0, 0, 0, 0, 0, 0, 0, 0, 0, 0, 0, 0, 0, 0, 0, 0, 0, 0, 0, 0, 0, 0, 0, 0, 0, 0, 0, 0, 0, 0, 0, 0, 0, 0, 0, 0, 0, 0, 0, 0, 0, 0, 0, 0, 0, 0, 0, 0, 0, 0, 0, 0, 0, 0, 0, 0, 0, 0, 0, 0, 0, 0, 0, 0, 0, 0, 0, 0, 0, 0, 0, 0, 0, 0, 0, 0, 0, 0, 0, 0, 0, 0, 0, 0, 0, 0, 0, 0, 0, 0, 0, 0, 0, 0, 0, 0, 0, 0, 0, 0, 0, 0, 0, 0, 0, 0, 0, 0, 0, 0, 0, 0, 0, 0, 0, 0, 0, 0, 0, 0, 0, 0, 0, 0, 0, 0, 0, 0, 0, 0, 0, 0, 0, 0, 0, 0, 0, 0, 0, 0, 0, 0, 0, 0, 0, 0, 0, 0, 0, 0, 0, 0, 0, 0, 0, 0, 0, 0, 0, 0, 0, 0, 0, 0, 0, 0, 0, 0, 0, 0, 0, 0, 0, 0, 0, 0, 0, 0, 0, 0, 0, 0, 0, 0, 0, 0, 0, 0, 0, 0, 0, 0, 0, 0, 0, 0, 0, 0, 0, 0, 0, 0, 0, 0, 0, 0, 0, 0, 0, 0, 0, 0, 0, 0, 0, 0, 0, 0, 0, 0, 0, 0, 0, 0, 0, 0, 0, 0, 0, 0, 0, 0, 0, 0, 0, 0, 0, 0, 0, 0, 0, 0, 0, 0, 0, 0, 0, 0, 0, 0, 0, 0, 0, 0, 0, 0, 0, 0, 0, 0, 0, 0, 0, 0, 0, 0, 0, 0, 0, 0, 0, 0, 0, 0, 0, 0, 0, 0, 0, 0, 0, 0, 0, 0, 0, 0, 0, 0, 0, 0, 0, 0, 0, 0, 0, 0, 0, 0, 0, 0, 0, 0, 0, 0, 0, 0, 0, 0, 0, 0, 0, 0, 0, 0, 0, 0, 0, 0, 0, 0, 0, 0, 0, 0, 0, 0, 0, 0, 0, 0, 0, 0, 0, 0, 0, 0, 0, 0, 0, 0, 0, 0, 0, 0, 0, 0, 0, 0, 0, 0, 0, 0, 0, 0, 0, 0, 0, 0, 0, 0, 0, 0, 0, 0, 0, 0, 0, 0, 0, 0, 0, 0, 0, 0, 0, 0, 0, 0, 0, 0, 0, 0, 0, 0, 0, 0, 0, 0, 0, 0, 0, 0, 0, 0, 0, 0, 0, 0, 0, 0, 0, 0, 0, 0, 0, 0, 0, 0, 0, 0, 0, 0, 0, 0, 0, 0, 0, 0, 0, 0, 0, 0, 0, 0, 0, 0, 0, 0, 0, 0, 0, 0, 0, 0, 0, 0, 0, 0, 0, 0, 0, 0, 0, 0, 0, 0, 0, 0, 0, 0, 0, 0, 0, 0, 0, 0, 0, 0, 0, 0, 0, 0, 0, 0, 0, 0, 0, 0, 0, 0, 0, 0, 0, 0, 0, 0, 0, 0, 0, 0, 0, 0, 0, 0, 0, 0, 0, 0, 0, 0, 0, 0, 0, 0, 0, 0, 0, 0, 0, 0, 0, 0, 0, 0, 0, 0, 0, 0, 0, 0, 0, 0, 0, 0, 0, 0, 0, 0, 0, 0, 0, 0, 0, 0, 0, 0, 0, 0, 0, 0, 0, 0, 0, 0, 0, 0, 0, 0, 0, 0, 0, 0, 0, 0, 0, 0, 0, 0, 0, 0, 0, 0, 0, 0, 0, 0, 0, 0, 0, 0, 0, 0, 0, 0, 0, 0, 0, 0, 0, 0, 0, 0, 0, 0, 0, 0, 0, 0, 0, 0, 0, 0, 0, 0, 0, 0, 0, 0, 0, 0, 0, 0, 0, 0, 0, 0, 0, 0, 0, 0, 0, 0, 0, 0, 0, 0, 0, 0, 0, 0, 0, 0, 0, 0, 0, 0, 0, 0, 0, 0, 0, 0, 0, 0, 0, 0, 0, 0, 0, 0, 0, 0, 0, 0, 0, 0, 0, 0, 0, 0, 0, 0, 0, 0, 0, 0, 0, 0, 0, 0, 0, 0, 1, 0, 0, 0, 0, 0, 0, 0, 0, 0, 0, 0, 0, 0, 0, 0, 0, 0, 0, 0, 0, 0, 0, 0, 0, 0, 0, 0, 0, 0, 0, 0, 0, 0, 0, 0, 0, 0, 0, 0, 0, 0, 0, 0, 0, 0, 0, 0, 0, 0, 0, 0, 0, 0, 0, 0, 0, 0, 0, 0, 0, 0, 0, 0, 0, 0, 0, 0, 0, 0, 0, 0, 0, 0, 0, 0, 0, 0, 0, 0, 0, 0, 0, 0, 0, 0, 0, 0, 0, 0, 0, 0, 0, 0, 0, 0, 0, 0, 0, 0, 0, 0, 0, 0, 0, 0, 0, 0, 1, 0, 0, 0, 0, 0, 0, 0, 0, 0, 0, 0, 0, 0, 0, 0, 0, 0, 0, 0, 0, 0, 0, 0, 0, 0, 0, 0, 0, 0, 0, 0, 0, 0, 0, 0, 0, 0, 0, 0, 0, 0, 0, 0, 0, 0, 0, 0, 0, 0, 0, 0, 0, 0, 0, 0, 0, 0, 0, 0, 0, 0, 0, 0, 0, 0, 0, 0, 0, 0, 0, 0, 0, 0, 0, 0, 0, 0, 0, 0, 0, 0, 0, 0, 0, 0, 0, 0, 0, 0, 0, 0, 0, 0, 0, 0, 0, 0, 0, 0, 0, 0, 0, 0, 0, 0, 0, 0, 0, 0, 0, 0, 0, 0, 0, 0, 0, 0, 0, 0, 0, 0, 0, 0, 0, 0, 0, 0, 0, 0, 0, 0, 0, 0, 0, 0, 0, 0, 0, 0, 0, 0, 0, 0, 0, 0, 0, 0, 0, 0, 0, 0, 0, 0, 0, 0, 0, 0, 0, 0, 0, 0, 0, 0, 0, 0, 0, 0, 0, 0, 0, 0, 0, 0, 0, 0, 0, 0, 0, 0, 0, 0, 0, 0, 0, 0, 0, 0, 0, 0, 0, 0, 0, 0, 0, 0, 0, 0, 0, 0, 0, 0, 0, 0, 0, 0, 0, 0, 0, 0, 0, 0, 0, 0, 0, 0, 0, 0, 0, 0, 0, 0, 0, 0, 0, 0, 0, 0, 0, 0, 0, 0, 0, 0, 0, 0, 0, 0, 0, 0, 0, 0, 0, 0, 0, 0, 0, 0, 0, 0, 0, 0, 0, 0, 0, 0, 0, 0, 0, 0, 0, 0, 0, 0, 0, 0, 0, 0, 0, 0, 0, 0, 0, 0, 0, 0, 0, 0, 0, 0, 0, 0, 0, 0, 0, 0, 0, 0, 0, 0, 0, 0, 0, 0, 0, 0, 0, 0, 0, 0, 0, 0, 0, 0, 0, 0, 0, 0, 0, 0, 0, 0, 0, 0, 0, 0, 0, 0, 0, 0, 0, 0, 0, 0, 0, 0, 0, 0, 0, 0, 0, 0, 0, 0, 0, 0, 0, 0, 0, 0, 0, 0, 0, 0, 0, 0, 0, 0, 0, 0, 0, 0, 0, 0, 0, 0, 0, 0, 0, 0, 0, 0, 0, 0, 0, 0, 0, 0, 0, 0, 0, 0, 0, 0, 0, 0, 0, 0, 0, 0, 0, 0, 0, 0, 0, 0, 0, 0, 0, 0, 0, 0, 0, 0, 0, 0, 0, 0, 0, 0, 0, 0, 0, 0, 0, 0, 0, 0, 0, 0, 0, 0, 0, 0, 0, 0, 0, 0, 0, 0, 0, 0, 0, 0, 0, 0, 0, 0, 0, 0, 0, 0, 0, 0, 0, 0, 0, 0, 0, 0, 0, 0, 0, 0, 0, 0, 0, 0, 0, 0, 0, 0, 0, 0, 0, 0, 0, 0, 0, 0, 0, 0, 0, 0, 2, 0, 1, 0], type: <class 'list'>, valid types: <class 'bytes'>, <class 'bytearray'>, file-like object",
     "output_type": "error",
     "traceback": [
      "\u001b[0;31m---------------------------------------------------------------------------\u001b[0m",
      "\u001b[0;31mParamValidationError\u001b[0m                      Traceback (most recent call last)",
      "\u001b[0;32m<ipython-input-52-c9ab54ae3a48>\u001b[0m in \u001b[0;36m<module>\u001b[0;34m()\u001b[0m\n\u001b[1;32m      1\u001b[0m response = runtime.invoke_endpoint(EndpointName = xgb_predictor.endpoint, # The name of the endpoint we created\n\u001b[1;32m      2\u001b[0m                                        \u001b[0mContentType\u001b[0m \u001b[0;34m=\u001b[0m \u001b[0;34m'text/csv'\u001b[0m\u001b[0;34m,\u001b[0m                     \u001b[0;31m# The data format that is expected\u001b[0m\u001b[0;34m\u001b[0m\u001b[0m\n\u001b[0;32m----> 3\u001b[0;31m                                        Body = test_bow)\n\u001b[0m",
      "\u001b[0;32m~/anaconda3/envs/python3/lib/python3.6/site-packages/botocore/client.py\u001b[0m in \u001b[0;36m_api_call\u001b[0;34m(self, *args, **kwargs)\u001b[0m\n\u001b[1;32m    314\u001b[0m                     \"%s() only accepts keyword arguments.\" % py_operation_name)\n\u001b[1;32m    315\u001b[0m             \u001b[0;31m# The \"self\" in this scope is referring to the BaseClient.\u001b[0m\u001b[0;34m\u001b[0m\u001b[0;34m\u001b[0m\u001b[0m\n\u001b[0;32m--> 316\u001b[0;31m             \u001b[0;32mreturn\u001b[0m \u001b[0mself\u001b[0m\u001b[0;34m.\u001b[0m\u001b[0m_make_api_call\u001b[0m\u001b[0;34m(\u001b[0m\u001b[0moperation_name\u001b[0m\u001b[0;34m,\u001b[0m \u001b[0mkwargs\u001b[0m\u001b[0;34m)\u001b[0m\u001b[0;34m\u001b[0m\u001b[0m\n\u001b[0m\u001b[1;32m    317\u001b[0m \u001b[0;34m\u001b[0m\u001b[0m\n\u001b[1;32m    318\u001b[0m         \u001b[0m_api_call\u001b[0m\u001b[0;34m.\u001b[0m\u001b[0m__name__\u001b[0m \u001b[0;34m=\u001b[0m \u001b[0mstr\u001b[0m\u001b[0;34m(\u001b[0m\u001b[0mpy_operation_name\u001b[0m\u001b[0;34m)\u001b[0m\u001b[0;34m\u001b[0m\u001b[0m\n",
      "\u001b[0;32m~/anaconda3/envs/python3/lib/python3.6/site-packages/botocore/client.py\u001b[0m in \u001b[0;36m_make_api_call\u001b[0;34m(self, operation_name, api_params)\u001b[0m\n\u001b[1;32m    597\u001b[0m         }\n\u001b[1;32m    598\u001b[0m         request_dict = self._convert_to_request_dict(\n\u001b[0;32m--> 599\u001b[0;31m             api_params, operation_model, context=request_context)\n\u001b[0m\u001b[1;32m    600\u001b[0m \u001b[0;34m\u001b[0m\u001b[0m\n\u001b[1;32m    601\u001b[0m         \u001b[0mservice_id\u001b[0m \u001b[0;34m=\u001b[0m \u001b[0mself\u001b[0m\u001b[0;34m.\u001b[0m\u001b[0m_service_model\u001b[0m\u001b[0;34m.\u001b[0m\u001b[0mservice_id\u001b[0m\u001b[0;34m.\u001b[0m\u001b[0mhyphenize\u001b[0m\u001b[0;34m(\u001b[0m\u001b[0;34m)\u001b[0m\u001b[0;34m\u001b[0m\u001b[0m\n",
      "\u001b[0;32m~/anaconda3/envs/python3/lib/python3.6/site-packages/botocore/client.py\u001b[0m in \u001b[0;36m_convert_to_request_dict\u001b[0;34m(self, api_params, operation_model, context)\u001b[0m\n\u001b[1;32m    645\u001b[0m             api_params, operation_model, context)\n\u001b[1;32m    646\u001b[0m         request_dict = self._serializer.serialize_to_request(\n\u001b[0;32m--> 647\u001b[0;31m             api_params, operation_model)\n\u001b[0m\u001b[1;32m    648\u001b[0m         \u001b[0;32mif\u001b[0m \u001b[0;32mnot\u001b[0m \u001b[0mself\u001b[0m\u001b[0;34m.\u001b[0m\u001b[0m_client_config\u001b[0m\u001b[0;34m.\u001b[0m\u001b[0minject_host_prefix\u001b[0m\u001b[0;34m:\u001b[0m\u001b[0;34m\u001b[0m\u001b[0m\n\u001b[1;32m    649\u001b[0m             \u001b[0mrequest_dict\u001b[0m\u001b[0;34m.\u001b[0m\u001b[0mpop\u001b[0m\u001b[0;34m(\u001b[0m\u001b[0;34m'host_prefix'\u001b[0m\u001b[0;34m,\u001b[0m \u001b[0;32mNone\u001b[0m\u001b[0;34m)\u001b[0m\u001b[0;34m\u001b[0m\u001b[0m\n",
      "\u001b[0;32m~/anaconda3/envs/python3/lib/python3.6/site-packages/botocore/validate.py\u001b[0m in \u001b[0;36mserialize_to_request\u001b[0;34m(self, parameters, operation_model)\u001b[0m\n\u001b[1;32m    295\u001b[0m                                                     operation_model.input_shape)\n\u001b[1;32m    296\u001b[0m             \u001b[0;32mif\u001b[0m \u001b[0mreport\u001b[0m\u001b[0;34m.\u001b[0m\u001b[0mhas_errors\u001b[0m\u001b[0;34m(\u001b[0m\u001b[0;34m)\u001b[0m\u001b[0;34m:\u001b[0m\u001b[0;34m\u001b[0m\u001b[0m\n\u001b[0;32m--> 297\u001b[0;31m                 \u001b[0;32mraise\u001b[0m \u001b[0mParamValidationError\u001b[0m\u001b[0;34m(\u001b[0m\u001b[0mreport\u001b[0m\u001b[0;34m=\u001b[0m\u001b[0mreport\u001b[0m\u001b[0;34m.\u001b[0m\u001b[0mgenerate_report\u001b[0m\u001b[0;34m(\u001b[0m\u001b[0;34m)\u001b[0m\u001b[0;34m)\u001b[0m\u001b[0;34m\u001b[0m\u001b[0m\n\u001b[0m\u001b[1;32m    298\u001b[0m         return self._serializer.serialize_to_request(parameters,\n\u001b[1;32m    299\u001b[0m                                                      operation_model)\n",
      "\u001b[0;31mParamValidationError\u001b[0m: Parameter validation failed:\nInvalid type for parameter Body, value: [0, 0, 0, 0, 0, 0, 0, 0, 0, 0, 0, 0, 0, 0, 0, 0, 0, 0, 0, 0, 0, 0, 0, 0, 0, 0, 0, 0, 0, 0, 0, 0, 0, 0, 0, 0, 0, 0, 0, 0, 0, 0, 0, 0, 0, 0, 0, 0, 0, 0, 0, 0, 0, 0, 0, 0, 0, 0, 0, 0, 0, 0, 0, 0, 0, 0, 0, 0, 0, 0, 0, 0, 0, 0, 0, 0, 0, 0, 0, 0, 0, 0, 0, 0, 0, 0, 0, 0, 0, 0, 0, 0, 0, 0, 0, 0, 0, 0, 0, 0, 0, 0, 0, 0, 0, 0, 0, 0, 0, 0, 0, 0, 0, 0, 0, 0, 0, 0, 0, 0, 0, 0, 0, 0, 0, 0, 0, 0, 0, 0, 0, 0, 0, 0, 0, 0, 0, 0, 0, 0, 0, 0, 0, 0, 0, 0, 0, 0, 0, 0, 0, 0, 0, 0, 0, 0, 0, 0, 0, 0, 0, 0, 0, 0, 0, 0, 0, 0, 0, 0, 0, 0, 0, 0, 0, 0, 0, 0, 0, 0, 0, 0, 0, 0, 0, 0, 0, 0, 0, 0, 0, 0, 0, 0, 0, 0, 0, 0, 0, 0, 0, 0, 0, 0, 0, 0, 0, 0, 0, 0, 0, 0, 0, 0, 0, 0, 0, 0, 0, 0, 0, 0, 0, 0, 0, 0, 1, 0, 0, 0, 0, 0, 0, 0, 0, 0, 0, 0, 0, 0, 0, 0, 0, 0, 0, 0, 0, 0, 0, 0, 0, 0, 0, 0, 0, 0, 1, 0, 0, 0, 0, 0, 0, 0, 0, 0, 0, 0, 0, 0, 0, 0, 0, 0, 0, 0, 0, 0, 0, 0, 0, 0, 0, 0, 0, 0, 0, 0, 0, 0, 0, 0, 0, 0, 0, 0, 0, 0, 0, 0, 0, 0, 0, 0, 0, 0, 0, 0, 0, 0, 0, 0, 0, 0, 0, 0, 0, 0, 0, 0, 0, 0, 0, 0, 0, 0, 0, 0, 0, 0, 0, 0, 0, 0, 0, 0, 0, 0, 0, 0, 0, 0, 0, 0, 0, 0, 0, 0, 0, 0, 0, 0, 0, 0, 0, 0, 0, 0, 0, 0, 0, 0, 0, 0, 0, 0, 0, 0, 0, 0, 0, 0, 0, 0, 0, 0, 0, 0, 0, 0, 0, 0, 0, 0, 0, 0, 0, 0, 0, 0, 0, 0, 0, 0, 0, 0, 0, 0, 0, 0, 0, 0, 0, 0, 0, 0, 0, 0, 0, 0, 0, 0, 0, 0, 0, 0, 0, 0, 0, 0, 0, 0, 0, 0, 0, 0, 0, 0, 0, 0, 0, 0, 0, 0, 0, 0, 0, 0, 0, 0, 0, 0, 0, 0, 0, 0, 0, 0, 0, 0, 0, 0, 0, 0, 0, 0, 0, 0, 0, 0, 0, 0, 0, 0, 0, 0, 0, 0, 0, 0, 0, 0, 0, 0, 0, 0, 0, 0, 0, 0, 0, 0, 0, 0, 0, 0, 0, 0, 0, 0, 0, 0, 0, 0, 0, 0, 0, 0, 0, 0, 0, 0, 0, 0, 0, 0, 0, 0, 0, 0, 0, 0, 0, 0, 0, 0, 0, 0, 0, 0, 0, 0, 0, 0, 0, 0, 0, 0, 0, 0, 0, 0, 0, 0, 0, 0, 0, 0, 0, 0, 0, 0, 0, 0, 0, 0, 0, 0, 0, 0, 0, 0, 0, 0, 0, 0, 0, 0, 0, 0, 0, 0, 0, 0, 0, 0, 0, 0, 0, 0, 0, 0, 0, 0, 0, 0, 0, 0, 0, 0, 0, 0, 0, 0, 0, 0, 0, 0, 0, 0, 0, 0, 0, 0, 0, 0, 0, 0, 0, 0, 0, 0, 0, 0, 0, 0, 0, 0, 0, 0, 0, 0, 0, 0, 0, 0, 0, 0, 0, 0, 0, 0, 0, 0, 0, 0, 0, 0, 0, 0, 0, 0, 0, 0, 0, 0, 1, 0, 0, 0, 0, 0, 0, 0, 0, 0, 0, 0, 0, 0, 0, 0, 0, 0, 0, 0, 0, 0, 0, 0, 0, 0, 0, 0, 0, 0, 0, 0, 0, 0, 0, 0, 0, 0, 0, 0, 0, 0, 0, 0, 0, 0, 0, 0, 0, 0, 0, 0, 0, 0, 0, 0, 0, 0, 0, 0, 0, 0, 0, 0, 0, 0, 0, 0, 0, 0, 0, 0, 0, 0, 0, 0, 0, 0, 0, 0, 0, 0, 0, 0, 0, 0, 0, 0, 0, 0, 0, 0, 0, 0, 0, 0, 0, 0, 0, 0, 0, 0, 0, 0, 0, 0, 0, 0, 0, 0, 0, 0, 0, 0, 0, 0, 0, 0, 0, 0, 0, 0, 0, 0, 0, 0, 0, 0, 0, 0, 0, 0, 0, 0, 0, 0, 0, 0, 0, 0, 0, 0, 0, 0, 0, 0, 0, 0, 0, 0, 0, 0, 0, 0, 0, 0, 0, 0, 0, 0, 0, 0, 0, 0, 0, 0, 0, 0, 0, 0, 0, 0, 0, 0, 0, 0, 0, 0, 0, 0, 0, 0, 0, 0, 0, 0, 0, 0, 0, 0, 0, 0, 0, 0, 0, 0, 0, 0, 0, 0, 0, 0, 0, 0, 0, 0, 0, 0, 0, 0, 0, 0, 0, 0, 0, 0, 0, 0, 0, 0, 0, 0, 0, 0, 0, 0, 0, 0, 0, 0, 0, 0, 0, 0, 0, 0, 0, 0, 0, 0, 0, 0, 0, 0, 0, 0, 0, 0, 0, 0, 0, 0, 0, 0, 1, 0, 0, 0, 0, 0, 0, 0, 0, 0, 0, 0, 0, 0, 0, 0, 0, 0, 0, 0, 0, 0, 0, 0, 0, 0, 0, 0, 0, 0, 0, 0, 0, 0, 0, 0, 0, 0, 0, 0, 0, 0, 0, 0, 0, 0, 0, 0, 0, 0, 0, 0, 0, 0, 0, 0, 0, 0, 0, 0, 0, 0, 0, 0, 0, 0, 0, 0, 0, 0, 0, 0, 0, 0, 0, 0, 0, 0, 0, 0, 0, 0, 0, 0, 0, 0, 0, 1, 0, 0, 0, 0, 0, 0, 0, 0, 0, 0, 0, 0, 0, 0, 0, 0, 0, 0, 0, 0, 0, 0, 0, 0, 0, 0, 0, 0, 0, 0, 0, 0, 0, 0, 0, 0, 0, 0, 0, 0, 0, 0, 0, 0, 0, 0, 0, 0, 0, 0, 0, 0, 0, 0, 0, 0, 0, 0, 0, 0, 0, 0, 0, 0, 0, 0, 0, 0, 0, 0, 0, 0, 0, 0, 0, 0, 0, 0, 0, 0, 0, 0, 0, 0, 0, 0, 0, 0, 0, 0, 0, 0, 0, 0, 0, 0, 0, 0, 0, 0, 0, 0, 0, 0, 0, 0, 0, 0, 0, 0, 0, 0, 0, 0, 0, 0, 0, 0, 0, 0, 0, 0, 0, 0, 0, 0, 0, 0, 0, 0, 0, 0, 0, 0, 0, 0, 0, 0, 0, 0, 0, 0, 0, 0, 0, 0, 0, 0, 0, 0, 0, 0, 0, 0, 0, 0, 0, 0, 0, 0, 0, 0, 0, 0, 0, 0, 0, 0, 0, 0, 0, 0, 0, 0, 0, 0, 0, 0, 0, 0, 0, 0, 0, 0, 0, 0, 0, 0, 0, 0, 0, 0, 0, 0, 0, 0, 0, 0, 0, 0, 0, 0, 0, 0, 0, 0, 0, 0, 0, 0, 0, 0, 0, 0, 0, 0, 0, 0, 0, 0, 0, 0, 0, 0, 0, 0, 0, 0, 0, 0, 0, 0, 0, 0, 0, 0, 0, 0, 0, 0, 0, 0, 0, 0, 0, 0, 0, 0, 0, 0, 0, 0, 1, 0, 0, 0, 0, 0, 0, 0, 0, 0, 0, 0, 0, 0, 0, 0, 0, 0, 0, 0, 0, 0, 0, 0, 0, 0, 0, 0, 0, 0, 0, 0, 0, 0, 0, 0, 0, 0, 0, 0, 0, 0, 0, 0, 0, 0, 0, 0, 0, 0, 0, 0, 0, 0, 0, 0, 1, 0, 0, 0, 0, 0, 0, 0, 0, 0, 0, 0, 0, 0, 0, 0, 0, 0, 0, 0, 0, 0, 0, 0, 0, 0, 0, 0, 0, 0, 0, 0, 0, 0, 0, 0, 0, 0, 0, 0, 0, 0, 0, 0, 0, 0, 0, 0, 0, 0, 0, 0, 0, 0, 0, 0, 0, 0, 0, 0, 0, 0, 0, 0, 0, 0, 0, 0, 0, 0, 0, 0, 0, 0, 0, 0, 0, 0, 0, 0, 0, 0, 0, 0, 0, 0, 0, 0, 0, 0, 0, 0, 0, 0, 0, 0, 0, 0, 0, 0, 0, 0, 0, 0, 0, 0, 0, 0, 0, 0, 0, 0, 0, 0, 0, 0, 0, 0, 0, 0, 0, 0, 0, 0, 0, 0, 0, 0, 0, 0, 0, 0, 0, 0, 0, 0, 0, 0, 0, 0, 0, 0, 0, 0, 0, 0, 0, 0, 0, 0, 0, 0, 0, 0, 0, 0, 0, 0, 0, 0, 0, 0, 0, 0, 0, 0, 0, 0, 0, 0, 0, 0, 0, 0, 0, 0, 0, 0, 0, 0, 0, 0, 0, 0, 0, 0, 0, 0, 0, 0, 0, 0, 0, 0, 0, 0, 0, 0, 0, 0, 0, 0, 0, 0, 0, 0, 0, 0, 0, 0, 0, 0, 0, 0, 0, 0, 0, 0, 0, 0, 0, 0, 0, 0, 0, 0, 0, 0, 0, 0, 0, 0, 0, 0, 0, 0, 0, 0, 0, 0, 0, 0, 0, 0, 0, 0, 0, 0, 0, 0, 0, 0, 0, 0, 0, 0, 0, 0, 0, 0, 0, 0, 0, 0, 0, 0, 0, 0, 0, 0, 0, 0, 0, 0, 0, 0, 0, 0, 0, 0, 0, 0, 0, 0, 0, 0, 0, 0, 0, 0, 0, 0, 0, 0, 0, 0, 0, 0, 0, 0, 0, 0, 0, 0, 0, 0, 0, 0, 0, 0, 0, 0, 0, 0, 0, 0, 0, 0, 0, 0, 0, 0, 0, 0, 0, 0, 0, 0, 0, 0, 0, 0, 0, 0, 0, 0, 0, 0, 0, 0, 0, 0, 0, 0, 0, 0, 0, 0, 0, 0, 0, 0, 0, 0, 0, 0, 0, 0, 0, 0, 0, 0, 0, 0, 0, 0, 0, 0, 0, 0, 0, 0, 0, 0, 0, 0, 0, 0, 0, 0, 0, 0, 0, 0, 0, 0, 0, 0, 0, 0, 0, 0, 0, 0, 0, 0, 0, 0, 0, 0, 0, 0, 0, 0, 0, 0, 0, 0, 0, 0, 0, 0, 0, 0, 0, 0, 0, 0, 0, 0, 0, 0, 0, 0, 0, 0, 0, 0, 0, 0, 0, 0, 0, 0, 0, 0, 0, 0, 0, 0, 0, 0, 0, 0, 0, 0, 0, 0, 0, 0, 0, 0, 0, 0, 0, 0, 0, 0, 0, 0, 0, 0, 0, 0, 0, 0, 0, 0, 0, 0, 0, 0, 0, 0, 0, 0, 0, 0, 0, 0, 0, 0, 0, 0, 0, 0, 0, 0, 0, 0, 0, 0, 0, 0, 0, 0, 0, 0, 0, 0, 0, 0, 0, 0, 0, 0, 0, 0, 0, 0, 0, 0, 0, 0, 0, 0, 0, 0, 0, 0, 0, 0, 0, 0, 0, 0, 0, 0, 0, 0, 0, 0, 0, 0, 0, 0, 0, 0, 0, 0, 0, 0, 0, 0, 0, 0, 0, 0, 0, 0, 0, 0, 0, 0, 0, 0, 0, 0, 0, 0, 0, 0, 0, 0, 0, 0, 0, 0, 0, 0, 0, 0, 0, 0, 0, 0, 0, 0, 0, 0, 0, 0, 0, 0, 0, 0, 0, 0, 0, 0, 0, 0, 0, 0, 0, 0, 0, 0, 0, 0, 0, 0, 0, 0, 0, 0, 0, 0, 0, 0, 0, 0, 0, 0, 0, 0, 0, 0, 0, 0, 0, 0, 0, 0, 0, 0, 0, 0, 0, 0, 0, 0, 0, 0, 0, 0, 0, 0, 0, 0, 0, 0, 0, 0, 0, 0, 0, 0, 0, 0, 0, 0, 0, 0, 0, 0, 0, 0, 0, 0, 0, 0, 0, 0, 0, 0, 0, 0, 0, 0, 0, 0, 0, 0, 0, 0, 0, 0, 0, 0, 0, 0, 1, 0, 0, 0, 0, 0, 0, 0, 0, 0, 0, 0, 0, 0, 0, 0, 0, 0, 0, 0, 0, 0, 0, 0, 0, 0, 0, 0, 0, 0, 0, 0, 0, 0, 0, 0, 0, 0, 0, 0, 0, 0, 0, 0, 0, 0, 0, 0, 0, 0, 0, 0, 0, 0, 0, 0, 0, 0, 0, 0, 0, 0, 0, 0, 0, 0, 0, 0, 0, 0, 0, 0, 0, 0, 0, 1, 0, 0, 0, 0, 0, 0, 0, 0, 0, 0, 0, 0, 0, 0, 0, 0, 0, 0, 0, 0, 1, 0, 0, 1, 0, 0, 0, 0, 0, 0, 0, 0, 0, 0, 0, 0, 0, 0, 0, 0, 0, 0, 0, 0, 0, 0, 0, 0, 0, 0, 0, 0, 0, 0, 0, 0, 0, 0, 0, 0, 0, 0, 0, 0, 0, 0, 0, 0, 0, 0, 0, 0, 0, 0, 0, 0, 0, 0, 0, 0, 0, 0, 0, 0, 0, 0, 0, 0, 0, 0, 0, 0, 0, 0, 0, 0, 0, 0, 0, 0, 0, 0, 0, 0, 0, 0, 0, 0, 0, 0, 0, 0, 0, 0, 0, 0, 0, 0, 0, 0, 0, 0, 0, 0, 0, 0, 0, 0, 0, 0, 0, 0, 0, 0, 0, 0, 0, 0, 0, 0, 0, 0, 0, 0, 0, 0, 0, 0, 0, 0, 0, 0, 0, 0, 0, 0, 0, 0, 0, 0, 0, 0, 0, 0, 0, 0, 0, 0, 0, 0, 0, 0, 0, 0, 0, 0, 0, 0, 0, 0, 0, 0, 0, 0, 0, 0, 0, 0, 0, 0, 0, 0, 0, 0, 0, 0, 0, 0, 0, 0, 0, 0, 0, 0, 0, 0, 0, 0, 0, 0, 0, 0, 0, 0, 0, 0, 0, 0, 0, 0, 0, 0, 0, 0, 0, 0, 0, 0, 0, 0, 0, 0, 0, 0, 0, 0, 0, 0, 0, 0, 0, 0, 0, 0, 0, 0, 0, 0, 0, 0, 0, 0, 0, 0, 0, 0, 0, 0, 0, 0, 0, 0, 0, 0, 0, 0, 0, 0, 0, 0, 0, 0, 0, 0, 0, 0, 0, 0, 0, 0, 0, 0, 0, 0, 0, 0, 0, 0, 0, 0, 0, 0, 0, 0, 0, 0, 0, 0, 0, 0, 0, 0, 0, 0, 0, 0, 0, 0, 0, 0, 0, 0, 0, 0, 0, 0, 0, 0, 0, 0, 0, 0, 0, 0, 0, 0, 0, 0, 0, 0, 0, 0, 0, 0, 0, 0, 0, 0, 0, 0, 0, 0, 0, 0, 0, 0, 0, 0, 0, 0, 0, 0, 0, 0, 0, 0, 0, 0, 0, 0, 0, 0, 0, 0, 0, 0, 0, 0, 0, 0, 0, 0, 0, 0, 0, 0, 0, 0, 0, 0, 0, 0, 0, 0, 0, 0, 0, 0, 0, 0, 0, 0, 0, 0, 0, 0, 0, 0, 0, 0, 0, 0, 0, 0, 0, 0, 0, 0, 0, 0, 0, 0, 0, 0, 0, 0, 0, 0, 0, 0, 0, 0, 0, 0, 0, 0, 0, 0, 0, 0, 0, 0, 0, 0, 0, 0, 0, 0, 0, 0, 0, 0, 0, 0, 0, 0, 0, 0, 0, 0, 0, 0, 0, 0, 0, 0, 0, 0, 0, 0, 0, 0, 0, 0, 0, 0, 0, 0, 0, 0, 0, 0, 0, 0, 0, 0, 0, 0, 0, 0, 0, 0, 0, 0, 0, 0, 0, 0, 0, 0, 1, 0, 0, 0, 0, 0, 0, 0, 0, 0, 0, 0, 0, 0, 0, 0, 0, 0, 0, 0, 0, 0, 0, 0, 0, 0, 0, 0, 0, 0, 0, 0, 0, 0, 0, 0, 0, 0, 0, 0, 0, 0, 0, 0, 0, 0, 0, 0, 0, 0, 0, 0, 0, 0, 0, 0, 0, 0, 0, 0, 0, 0, 0, 0, 0, 0, 0, 0, 0, 0, 0, 0, 0, 0, 0, 0, 0, 0, 0, 0, 0, 0, 0, 0, 0, 0, 0, 0, 0, 0, 0, 0, 0, 0, 0, 0, 0, 0, 0, 0, 0, 0, 0, 0, 0, 0, 0, 0, 0, 0, 0, 0, 0, 0, 0, 0, 0, 0, 0, 0, 0, 0, 0, 0, 0, 0, 0, 0, 0, 0, 0, 0, 0, 0, 0, 0, 0, 0, 0, 0, 0, 0, 0, 0, 0, 0, 0, 0, 0, 0, 0, 0, 0, 0, 0, 0, 0, 0, 0, 0, 0, 0, 0, 0, 0, 0, 0, 0, 0, 0, 0, 0, 0, 0, 0, 0, 0, 0, 0, 0, 0, 0, 0, 0, 0, 0, 0, 0, 0, 0, 0, 0, 0, 0, 0, 0, 0, 0, 0, 0, 0, 0, 0, 0, 0, 0, 0, 0, 0, 0, 0, 0, 0, 0, 0, 0, 0, 0, 0, 0, 0, 0, 0, 0, 0, 0, 0, 0, 0, 0, 0, 0, 0, 0, 0, 0, 0, 0, 0, 0, 0, 0, 0, 0, 0, 0, 0, 0, 0, 0, 0, 0, 0, 0, 0, 0, 0, 0, 0, 0, 0, 0, 0, 0, 0, 0, 0, 0, 0, 0, 0, 0, 0, 0, 0, 0, 0, 0, 0, 0, 0, 0, 0, 0, 0, 0, 0, 0, 0, 0, 0, 0, 0, 0, 0, 0, 0, 0, 0, 0, 0, 0, 0, 0, 0, 0, 0, 0, 0, 0, 0, 0, 0, 0, 0, 0, 0, 0, 0, 0, 0, 0, 0, 0, 0, 0, 0, 0, 0, 0, 0, 0, 0, 0, 0, 0, 0, 0, 0, 0, 0, 0, 0, 0, 0, 0, 0, 0, 0, 0, 0, 0, 0, 0, 0, 0, 0, 0, 0, 0, 0, 0, 0, 0, 0, 0, 0, 0, 0, 0, 0, 0, 0, 0, 0, 0, 0, 0, 0, 0, 0, 0, 0, 0, 0, 0, 0, 0, 0, 0, 0, 0, 0, 0, 0, 0, 0, 0, 0, 0, 0, 0, 0, 0, 0, 0, 0, 0, 0, 0, 0, 0, 0, 0, 0, 0, 0, 0, 0, 0, 0, 0, 0, 0, 0, 0, 0, 0, 0, 0, 0, 0, 0, 0, 0, 0, 0, 0, 0, 0, 0, 0, 0, 0, 0, 0, 0, 0, 0, 0, 0, 0, 0, 0, 0, 0, 0, 0, 0, 0, 0, 0, 0, 0, 0, 0, 0, 0, 0, 0, 0, 0, 0, 0, 0, 0, 0, 0, 0, 0, 0, 0, 0, 0, 0, 0, 0, 0, 0, 0, 0, 0, 0, 0, 0, 0, 0, 0, 0, 0, 0, 0, 0, 0, 0, 0, 0, 0, 0, 0, 0, 0, 0, 1, 0, 0, 0, 0, 0, 0, 0, 0, 0, 0, 0, 0, 0, 0, 0, 0, 0, 0, 0, 0, 0, 0, 0, 0, 0, 0, 0, 0, 0, 0, 0, 0, 0, 0, 0, 2, 0, 0, 0, 0, 0, 0, 0, 0, 0, 0, 0, 0, 0, 0, 0, 0, 0, 0, 0, 0, 0, 0, 0, 0, 0, 0, 0, 0, 0, 0, 0, 0, 0, 0, 0, 0, 0, 0, 0, 0, 1, 0, 0, 0, 0, 0, 0, 0, 0, 0, 0, 0, 0, 0, 0, 0, 0, 0, 0, 0, 0, 0, 0, 0, 0, 0, 0, 0, 0, 0, 0, 0, 0, 0, 0, 0, 0, 0, 0, 0, 0, 0, 0, 0, 0, 0, 0, 0, 0, 0, 0, 0, 0, 0, 0, 0, 0, 0, 0, 0, 0, 0, 0, 0, 0, 0, 0, 0, 0, 0, 0, 0, 0, 0, 0, 0, 0, 0, 0, 0, 0, 0, 0, 0, 0, 0, 0, 0, 0, 0, 0, 0, 0, 0, 0, 0, 0, 0, 0, 0, 0, 0, 0, 0, 0, 0, 0, 0, 0, 0, 0, 0, 0, 0, 0, 0, 0, 0, 0, 0, 0, 0, 0, 0, 0, 0, 0, 0, 0, 0, 0, 0, 0, 0, 0, 0, 0, 0, 0, 0, 0, 0, 0, 0, 0, 0, 0, 0, 0, 0, 0, 0, 0, 0, 0, 0, 0, 0, 0, 0, 0, 0, 0, 0, 0, 0, 0, 0, 0, 0, 0, 0, 0, 0, 0, 0, 0, 0, 0, 0, 0, 0, 0, 0, 0, 0, 0, 0, 0, 0, 0, 0, 0, 0, 0, 0, 0, 0, 0, 0, 0, 0, 0, 0, 0, 0, 0, 0, 0, 0, 0, 0, 0, 0, 0, 0, 0, 0, 0, 0, 0, 0, 0, 0, 0, 0, 0, 0, 0, 0, 0, 0, 0, 0, 0, 0, 0, 0, 0, 0, 0, 0, 0, 0, 0, 0, 0, 0, 0, 0, 0, 0, 0, 0, 0, 0, 0, 0, 0, 0, 0, 0, 0, 0, 0, 0, 0, 0, 0, 0, 0, 0, 0, 0, 0, 0, 0, 0, 0, 0, 0, 0, 0, 0, 0, 0, 0, 0, 0, 0, 0, 0, 0, 0, 0, 0, 0, 0, 0, 0, 0, 0, 0, 0, 0, 0, 0, 0, 0, 0, 0, 0, 0, 0, 0, 0, 0, 0, 0, 0, 0, 0, 0, 0, 0, 0, 0, 0, 0, 0, 0, 0, 0, 0, 0, 0, 0, 0, 0, 0, 0, 0, 0, 0, 0, 0, 0, 0, 0, 0, 0, 0, 0, 0, 0, 0, 0, 0, 0, 0, 0, 0, 0, 0, 0, 0, 0, 0, 0, 0, 0, 0, 0, 0, 0, 0, 0, 0, 0, 0, 0, 0, 0, 0, 0, 0, 0, 0, 0, 0, 0, 0, 0, 0, 0, 0, 0, 0, 0, 0, 0, 0, 0, 0, 0, 0, 0, 0, 0, 0, 0, 0, 0, 0, 0, 0, 0, 0, 0, 0, 0, 0, 0, 0, 0, 0, 0, 0, 0, 0, 0, 0, 0, 0, 0, 0, 0, 0, 0, 0, 0, 0, 0, 0, 0, 0, 0, 0, 0, 0, 0, 0, 0, 0, 0, 0, 0, 0, 0, 0, 0, 0, 0, 0, 0, 0, 0, 0, 0, 0, 0, 0, 0, 0, 0, 0, 0, 0, 0, 0, 0, 0, 0, 0, 0, 0, 0, 0, 0, 0, 0, 0, 0, 0, 0, 0, 0, 0, 1, 0, 0, 0, 0, 0, 0, 0, 0, 0, 0, 0, 0, 0, 0, 0, 0, 0, 0, 0, 0, 0, 0, 0, 0, 0, 0, 0, 0, 0, 0, 0, 0, 0, 0, 0, 0, 0, 0, 0, 0, 0, 0, 0, 0, 0, 0, 0, 0, 0, 0, 0, 0, 0, 0, 0, 0, 0, 0, 0, 0, 0, 0, 0, 0, 0, 0, 0, 0, 0, 0, 0, 0, 0, 0, 0, 0, 0, 0, 0, 0, 0, 0, 0, 0, 0, 0, 0, 0, 0, 0, 0, 0, 0, 0, 0, 0, 0, 0, 0, 0, 0, 0, 0, 0, 0, 0, 0, 0, 0, 0, 2, 0, 0, 0, 0, 0, 0, 0, 0, 0, 0, 0, 0, 0, 0, 0, 0, 0, 0, 0, 0, 0, 0, 0, 0, 0, 0, 0, 0, 0, 0, 0, 0, 0, 0, 0, 0, 0, 0, 0, 0, 0, 0, 0, 0, 0, 0, 0, 0, 0, 0, 0, 0, 0, 0, 0, 0, 0, 0, 0, 0, 0, 0, 0, 0, 0, 0, 0, 0, 0, 0, 0, 0, 0, 0, 0, 0, 0, 0, 0, 0, 0, 0, 0, 0, 0, 0, 0, 0, 0, 0, 0, 0, 0, 0, 0, 0, 0, 0, 0, 0, 0, 0, 0, 0, 0, 0, 0, 0, 0, 0, 0, 0, 0, 0, 0, 0, 0, 0, 0, 0, 0, 0, 0, 0, 0, 0, 0, 0, 0, 0, 0, 0, 0, 0, 0, 0, 0, 0, 0, 0, 0, 0, 0, 0, 0, 0, 0, 0, 0, 0, 0, 0, 0, 0, 0, 0, 0, 0, 0, 0, 0, 0, 0, 0, 0, 0, 0, 0, 0, 0, 0, 0, 0, 0, 0, 0, 0, 0, 0, 0, 0, 0, 0, 0, 0, 0, 0, 0, 0, 0, 0, 0, 0, 0, 0, 0, 0, 0, 0, 0, 0, 0, 0, 0, 0, 0, 0, 0, 0, 0, 0, 0, 0, 0, 0, 0, 0, 0, 0, 0, 0, 0, 0, 0, 0, 0, 0, 0, 0, 0, 0, 0, 0, 0, 0, 0, 0, 0, 0, 0, 0, 0, 0, 0, 0, 0, 0, 0, 0, 0, 0, 0, 0, 0, 0, 0, 0, 0, 0, 0, 0, 0, 0, 0, 0, 0, 0, 0, 0, 0, 0, 0, 0, 0, 0, 0, 0, 0, 0, 0, 0, 0, 0, 0, 0, 0, 0, 0, 0, 0, 0, 0, 0, 0, 0, 0, 0, 0, 0, 0, 0, 0, 0, 0, 0, 0, 0, 0, 0, 0, 0, 0, 0, 0, 0, 0, 0, 0, 0, 0, 0, 0, 0, 0, 0, 0, 0, 0, 0, 0, 0, 0, 0, 0, 0, 0, 0, 0, 0, 0, 0, 0, 0, 0, 0, 0, 0, 0, 0, 0, 0, 0, 0, 0, 0, 0, 0, 0, 0, 0, 0, 0, 0, 0, 0, 0, 0, 0, 0, 0, 0, 0, 0, 0, 0, 0, 0, 0, 0, 0, 0, 0, 0, 0, 0, 0, 0, 0, 0, 0, 0, 0, 0, 0, 0, 0, 0, 0, 0, 0, 0, 0, 0, 0, 0, 0, 0, 0, 0, 0, 0, 0, 0, 0, 0, 0, 0, 0, 0, 0, 0, 0, 0, 0, 0, 0, 0, 0, 0, 0, 0, 0, 0, 0, 0, 0, 0, 0, 0, 0, 0, 0, 0, 0, 0, 0, 0, 0, 0, 0, 0, 0, 0, 0, 0, 0, 0, 0, 0, 0, 0, 0, 0, 0, 0, 0, 0, 0, 0, 0, 0, 0, 0, 0, 0, 0, 0, 0, 0, 0, 0, 0, 0, 0, 0, 0, 0, 0, 0, 0, 0, 0, 0, 0, 0, 0, 0, 0, 0, 0, 0, 0, 0, 0, 0, 0, 0, 0, 0, 0, 0, 0, 0, 0, 0, 0, 0, 0, 0, 0, 0, 0, 0, 0, 0, 0, 0, 0, 0, 0, 0, 0, 0, 0, 0, 0, 0, 0, 0, 0, 0, 0, 0, 0, 0, 0, 0, 0, 0, 0, 0, 0, 0, 0, 0, 0, 0, 0, 0, 0, 0, 0, 0, 0, 0, 0, 0, 0, 0, 0, 0, 0, 0, 0, 0, 0, 0, 0, 0, 0, 0, 0, 0, 0, 0, 0, 0, 0, 0, 0, 0, 0, 0, 0, 0, 0, 0, 0, 0, 0, 0, 0, 0, 0, 0, 0, 0, 0, 0, 0, 0, 0, 0, 0, 0, 0, 0, 0, 0, 0, 0, 0, 0, 0, 0, 0, 0, 0, 0, 0, 0, 0, 0, 0, 0, 0, 0, 0, 0, 0, 0, 0, 0, 0, 0, 0, 0, 0, 0, 0, 0, 0, 0, 0, 0, 0, 0, 0, 0, 0, 0, 0, 0, 0, 0, 0, 0, 0, 0, 0, 0, 0, 0, 0, 0, 0, 0, 0, 0, 0, 0, 0, 0, 0, 0, 0, 0, 0, 0, 0, 1, 0, 0, 0, 0, 0, 0, 0, 0, 0, 0, 0, 0, 0, 0, 0, 0, 0, 0, 0, 0, 0, 0, 0, 0, 0, 0, 0, 0, 0, 0, 0, 0, 0, 0, 0, 0, 0, 0, 0, 0, 0, 0, 0, 0, 0, 0, 0, 0, 0, 0, 0, 0, 0, 0, 0, 0, 0, 0, 0, 0, 0, 0, 0, 0, 0, 0, 0, 0, 0, 0, 0, 0, 0, 0, 0, 0, 0, 0, 0, 0, 0, 0, 0, 0, 0, 0, 0, 0, 0, 0, 0, 0, 0, 0, 0, 0, 0, 0, 0, 0, 0, 0, 0, 0, 0, 0, 0, 1, 0, 0, 0, 0, 0, 0, 0, 0, 0, 0, 0, 0, 0, 0, 0, 0, 0, 0, 0, 0, 0, 0, 0, 0, 0, 0, 0, 0, 0, 0, 0, 0, 0, 0, 0, 0, 0, 0, 0, 0, 0, 0, 0, 0, 0, 0, 0, 0, 0, 0, 0, 0, 0, 0, 0, 0, 0, 0, 0, 0, 0, 0, 0, 0, 0, 0, 0, 0, 0, 0, 0, 0, 0, 0, 0, 0, 0, 0, 0, 0, 0, 0, 0, 0, 0, 0, 0, 0, 0, 0, 0, 0, 0, 0, 0, 0, 0, 0, 0, 0, 0, 0, 0, 0, 0, 0, 0, 0, 0, 0, 0, 0, 0, 0, 0, 0, 0, 0, 0, 0, 0, 0, 0, 0, 0, 0, 0, 0, 0, 0, 0, 0, 0, 0, 0, 0, 0, 0, 0, 0, 0, 0, 0, 0, 0, 0, 0, 0, 0, 0, 0, 0, 0, 0, 0, 0, 0, 0, 0, 0, 0, 0, 0, 0, 0, 0, 0, 0, 0, 0, 0, 0, 0, 0, 0, 0, 0, 0, 0, 0, 0, 0, 0, 0, 0, 0, 0, 0, 0, 0, 0, 0, 0, 0, 0, 0, 0, 0, 0, 0, 0, 0, 0, 0, 0, 0, 0, 0, 0, 0, 0, 0, 0, 0, 0, 0, 0, 0, 0, 0, 0, 0, 0, 0, 0, 0, 0, 0, 0, 0, 0, 0, 0, 0, 0, 0, 0, 0, 0, 0, 0, 0, 0, 0, 0, 0, 0, 0, 0, 0, 0, 0, 0, 0, 0, 0, 0, 0, 0, 0, 0, 0, 0, 0, 0, 0, 0, 0, 0, 0, 0, 0, 0, 0, 0, 0, 0, 0, 0, 0, 0, 0, 0, 0, 0, 0, 0, 0, 0, 0, 0, 0, 0, 0, 0, 0, 0, 0, 0, 0, 0, 0, 0, 0, 0, 0, 0, 0, 0, 0, 0, 0, 0, 0, 0, 0, 0, 0, 0, 0, 0, 0, 0, 0, 0, 0, 0, 0, 0, 0, 0, 0, 0, 0, 0, 0, 0, 0, 0, 0, 0, 0, 0, 0, 0, 0, 0, 0, 0, 0, 0, 0, 0, 0, 0, 0, 0, 0, 0, 0, 0, 0, 0, 0, 0, 0, 0, 0, 0, 0, 0, 0, 0, 0, 0, 0, 0, 0, 0, 0, 0, 0, 0, 0, 0, 0, 0, 0, 0, 0, 0, 0, 0, 0, 0, 0, 0, 0, 0, 0, 0, 0, 0, 0, 0, 0, 0, 0, 0, 0, 0, 0, 0, 0, 0, 0, 0, 0, 0, 0, 0, 0, 0, 0, 0, 0, 0, 0, 0, 0, 0, 0, 0, 0, 0, 0, 0, 0, 0, 0, 0, 0, 0, 0, 0, 0, 0, 0, 0, 0, 0, 0, 0, 0, 0, 0, 0, 0, 0, 0, 0, 0, 0, 2, 0, 1, 0], type: <class 'list'>, valid types: <class 'bytes'>, <class 'bytearray'>, file-like object"
     ]
    }
   ],
   "source": [
    "response = runtime.invoke_endpoint(EndpointName = xgb_predictor.endpoint, # The name of the endpoint we created\n",
    "                                       ContentType = 'text/csv',                     # The data format that is expected\n",
    "                                       Body = test_bow)"
   ]
  },
  {
   "cell_type": "markdown",
   "metadata": {},
   "source": [
    "So why did we get an error?\n",
    "\n",
    "Because we tried to send the endpoint a list of integers but it expected us to send data of type `text/csv`. So, we need to convert it."
   ]
  },
  {
   "cell_type": "code",
   "execution_count": 68,
   "metadata": {},
   "outputs": [],
   "source": [
    "response = runtime.invoke_endpoint(EndpointName = xgb_predictor.endpoint, # The name of the endpoint we created\n",
    "                                       ContentType = 'text/csv',                     # The data format that is expected\n",
    "                                       Body = ','.join([str(val) for val in test_bow]).encode('utf-8'))"
   ]
  },
  {
   "cell_type": "code",
   "execution_count": 69,
   "metadata": {},
   "outputs": [
    {
     "name": "stdout",
     "output_type": "stream",
     "text": [
      "{'ResponseMetadata': {'RequestId': '13e70592-9a4f-45dd-972c-e5b52682845c', 'HTTPStatusCode': 200, 'HTTPHeaders': {'x-amzn-requestid': '13e70592-9a4f-45dd-972c-e5b52682845c', 'x-amzn-invoked-production-variant': 'AllTraffic', 'date': 'Thu, 30 Apr 2020 10:37:54 GMT', 'content-type': 'text/csv; charset=utf-8', 'content-length': '14'}, 'RetryAttempts': 0}, 'ContentType': 'text/csv; charset=utf-8', 'InvokedProductionVariant': 'AllTraffic', 'Body': <botocore.response.StreamingBody object at 0x7f71101509e8>}\n"
     ]
    }
   ],
   "source": [
    "print(response)"
   ]
  },
  {
   "cell_type": "markdown",
   "metadata": {},
   "source": [
    "As we can see, the response from our model is a somewhat complicated looking dict that contains a bunch of information. The bit that we are most interested in is `'Body'` object which is a streaming object that we need to `read` in order to make use of."
   ]
  },
  {
   "cell_type": "code",
   "execution_count": 73,
   "metadata": {
    "scrolled": true
   },
   "outputs": [
    {
     "name": "stdout",
     "output_type": "stream",
     "text": [
      "\n"
     ]
    }
   ],
   "source": [
    "response = response['Body'].read().decode('utf-8')\n",
    "print(response)"
   ]
  },
  {
   "cell_type": "markdown",
   "metadata": {},
   "source": [
    "Now that we know how to process the incoming user data we can start setting up the infrastructure to make our simple web app work. To do this we will make use of two different services. Amazon's Lambda and API Gateway services.\n",
    "\n",
    "Lambda is a service which allows someone to write some relatively simple code and have it executed whenever a chosen trigger occurs. For example, you may want to update a database whenever new data is uploaded to a folder stored on S3.\n",
    "\n",
    "API Gateway is a service that allows you to create HTTP endpoints (url addresses) which are connected to other AWS services. One of the benefits to this is that you get to decide what credentials, if any, are required to access these endpoints.\n",
    "\n",
    "In our case we are going to set up an HTTP endpoint through API Gateway which is open to the public. Then, whenever anyone sends data to our public endpoint we will trigger a Lambda function which will send the input (in our case a review) to our model's endpoint and then return the result."
   ]
  },
  {
   "cell_type": "markdown",
   "metadata": {},
   "source": [
    "### Setting up a Lambda function\n",
    "\n",
    "The first thing we are going to do is set up a Lambda function. This Lambda function will be executed whenever our public API has data sent to it. When it is executed it will receive the data, perform any sort of processing that is required, send the data (the review) to the SageMaker endpoint we've created and then return the result.\n",
    "\n",
    "#### Part A: Create an IAM Role for the Lambda function\n",
    "\n",
    "Since we want the Lambda function to call a SageMaker endpoint, we need to make sure that it has permission to do so. To do this, we will construct a role that we can later give the Lambda function.\n",
    "\n",
    "Using the AWS Console, navigate to the **IAM** page and click on **Roles**. Then, click on **Create role**. Make sure that the **AWS service** is the type of trusted entity selected and choose **Lambda** as the service that will use this role, then click **Next: Permissions**.\n",
    "\n",
    "In the search box type `sagemaker` and select the check box next to the **AmazonSageMakerFullAccess** policy. Then, click on **Next: Review**.\n",
    "\n",
    "Lastly, give this role a name. Make sure you use a name that you will remember later on, for example `LambdaSageMakerRole`. Then, click on **Create role**."
   ]
  },
  {
   "cell_type": "markdown",
   "metadata": {},
   "source": [
    "#### Part B: Create a Lambda function\n",
    "\n",
    "Now it is time to actually create the Lambda function. Remember from earlier that in order to process the user provided input and send it to our endpoint we need to gather two pieces of information:\n",
    "\n",
    " - The name of the endpoint, and\n",
    " - the vocabulary object.\n",
    "\n",
    "We will copy these pieces of information to our Lambda function after we create it.\n",
    "\n",
    "To start, using the AWS Console, navigate to the AWS Lambda page and click on **Create a function**. When you get to the next page, make sure that **Author from scratch** is selected. Now, name your Lambda function, using a name that you will remember later on, for example `sentiment_analysis_xgboost_func`. Make sure that the **Python 3.6** runtime is selected and then choose the role that you created in the previous part. Then, click on **Create Function**.\n",
    "\n",
    "On the next page you will see some information about the Lambda function you've just created. If you scroll down you should see an editor in which you can write the code that will be executed when your Lambda function is triggered. Collecting the code we wrote above to process a single review and adding it to the provided example `lambda_handler` we arrive at the following.\n",
    "\n",
    "```python\n",
    "# We need to use the low-level library to interact with SageMaker since the SageMaker API\n",
    "# is not available natively through Lambda.\n",
    "import boto3\n",
    "\n",
    "# And we need the regular expression library to do some of the data processing\n",
    "import re\n",
    "\n",
    "REPLACE_NO_SPACE = re.compile(\"(\\.)|(\\;)|(\\:)|(\\!)|(\\')|(\\?)|(\\,)|(\\\")|(\\()|(\\))|(\\[)|(\\])\")\n",
    "REPLACE_WITH_SPACE = re.compile(\"(<br\\s*/><br\\s*/>)|(\\-)|(\\/)\")\n",
    "\n",
    "def review_to_words(review):\n",
    "    words = REPLACE_NO_SPACE.sub(\"\", review.lower())\n",
    "    words = REPLACE_WITH_SPACE.sub(\" \", words)\n",
    "    return words\n",
    "    \n",
    "def bow_encoding(words, vocabulary):\n",
    "    bow = [0] * len(vocabulary) # Start by setting the count for each word in the vocabulary to zero.\n",
    "    for word in words.split():  # For each word in the string\n",
    "        if word in vocabulary:  # If the word is one that occurs in the vocabulary, increase its count.\n",
    "            bow[vocabulary[word]] += 1\n",
    "    return bow\n",
    "\n",
    "\n",
    "def lambda_handler(event, context):\n",
    "    \n",
    "    vocab = \"*** ACTUAL VOCABULARY GOES HERE ***\"\n",
    "    \n",
    "    words = review_to_words(event['body'])\n",
    "    bow = bow_encoding(words, vocab)\n",
    "\n",
    "    # The SageMaker runtime is what allows us to invoke the endpoint that we've created.\n",
    "    runtime = boto3.Session().client('sagemaker-runtime')\n",
    "\n",
    "    # Now we use the SageMaker runtime to invoke our endpoint, sending the review we were given\n",
    "    response = runtime.invoke_endpoint(EndpointName = '***ENDPOINT NAME HERE***',# The name of the endpoint we created\n",
    "                                       ContentType = 'text/csv',                 # The data format that is expected\n",
    "                                       Body = ','.join([str(val) for val in bow]).encode('utf-8')) # The actual review\n",
    "\n",
    "    # The response is an HTTP response whose body contains the result of our inference\n",
    "    result = response['Body'].read().decode('utf-8')\n",
    "    \n",
    "    # Round the result so that our web app only gets '1' or '0' as a response.\n",
    "    result = round(float(result))\n",
    "\n",
    "    return {\n",
    "        'statusCode' : 200,\n",
    "        'headers' : { 'Content-Type' : 'text/plain', 'Access-Control-Allow-Origin' : '*' },\n",
    "        'body' : str(result)\n",
    "    }\n",
    "```"
   ]
  },
  {
   "cell_type": "markdown",
   "metadata": {},
   "source": [
    "Once you have copy and pasted the code above into the Lambda code editor, replace the `**ENDPOINT NAME HERE**` portion with the name of the endpoint that we deployed earlier. You can determine the name of the endpoint using the code cell below."
   ]
  },
  {
   "cell_type": "code",
   "execution_count": 74,
   "metadata": {},
   "outputs": [
    {
     "data": {
      "text/plain": [
       "'xgboost-2020-04-30-09-57-39-874'"
      ]
     },
     "execution_count": 74,
     "metadata": {},
     "output_type": "execute_result"
    }
   ],
   "source": [
    "xgb_predictor.endpoint"
   ]
  },
  {
   "cell_type": "markdown",
   "metadata": {},
   "source": [
    "In addition, you will need to copy the vocabulary dict to the appropriate place in the code at the beginning of the `lambda_handler` method. The cell below prints out the vocabulary dict in a way that is easy to copy and paste."
   ]
  },
  {
   "cell_type": "code",
   "execution_count": 75,
   "metadata": {},
   "outputs": [
    {
     "name": "stdout",
     "output_type": "stream",
     "text": [
      "{'so': 4046, 'often': 3095, 'band': 391, 'will': 4886, 'get': 1899, 'together': 4511, 'for': 1784, 're': 3535, 'union': 4661, 'concert': 935, 'only': 3110, 'to': 4507, 'find': 1726, 'that': 4424, 'they': 4442, 'just': 2437, 'cant': 671, 'it': 2366, 'not': 3040, 'here': 2086, 'this': 4457, 'is': 2360, 'brilliance': 582, 'from': 1840, 'start': 4156, 'finish': 1732, 'these': 4441, 'three': 4469, 'obviously': 3072, 'got': 1944, 'and': 226, 'planned': 3290, 'what': 4858, 'was': 4805, 'needed': 2988, 'nostalgic': 3039, 'satisfy': 3790, 'someones': 4065, 'ego': 1435, 'obvious': 3071, 'the': 4426, 'before': 440, 'even': 1533, 'step': 4175, 'on': 3105, 'stage': 4139, 'many': 2732, 'faces': 1618, 'in': 2257, 'crowd': 1067, 'werent': 4849, 'born': 544, 'when': 4862, 'guys': 2001, 'first': 1736, 'performed': 3230, 'song': 4071, 'capture': 676, 'old': 3100, 'magic': 2703, 'men': 2805, 'no': 3020, 'by': 642, 'his': 2118, 'own': 3158, 'said': 3774, 'he': 2056, 'had': 2003, 'stretch': 4221, 'himself': 2111, 'because': 432, 'there': 4438, 'were': 4848, 'etc': 1527, 'we': 4823, 'see': 3855, 'him': 2110, 'at': 331, 'best': 469, 'ginger': 1908, 'baker': 385, 'why': 4878, 'today': 4508, 'speak': 4094, 'of': 3083, 'as': 311, 'some': 4061, 'sort': 4077, 'jack': 2373, 'bruce': 602, 'great': 1964, 'really': 3556, 'managed': 2723, 'put': 3480, 'piece': 3272, 'stand': 4143, 'test': 4416, 'time': 4495, 'years': 4979, 'come': 886, 'ones': 3108, '10': 0, 'me': 2778, 'if': 2222, 'you': 4986, 'cannot': 670, 'enjoy': 1484, 'chick': 786, 'flick': 1754, 'stop': 4201, 'right': 3696, 'now': 3054, 'however': 2183, 'films': 1721, 'complex': 923, 'characters': 760, 'provide': 3448, 'extraordinary': 1607, 'acting': 99, 'read': 3543, 'ann': 244, 'grant': 1956, 'lord': 2652, 'dying': 1393, 'her': 2085, 'two': 4620, 'daughters': 1122, 'arrive': 300, 'be': 418, 'begins': 444, 'talking': 4360, 'about': 67, 'people': 3221, 'past': 3207, 'whom': 4875, 'are': 285, 'unaware': 4632, 'question': 3487, 'whether': 4866, 'lost': 2660, 'real': 3547, 'or': 3124, 'imagined': 2239, 'realize': 3552, 'their': 4431, 'mothers': 2912, 'indeed': 2271, 'story': 4207, 'basically': 407, 'between': 475, '2000': 30, 'with': 4911, 'few': 1700, 'life': 2592, 'those': 4460, 'met': 2822, 'love': 2669, 'experienced': 1581, 'greatest': 1966, 'tragedy': 4551, 'one': 3107, 'friends': 1837, 'college': 875, 'being': 448, 'married': 2744, 'other': 3135, 'friend': 1835, 'brother': 598, 'buddy': 609, 'children': 792, 'rich': 3685, 'family': 1645, 'whereas': 4865, 'singer': 3993, 'living': 2629, 'village': 4743, 'who': 4871, 'wants': 4791, 'free': 1827, 'spirit': 4113, 'but': 636, 'still': 4188, 'bound': 553, '1950s': 14, 'soon': 4074, 'after': 143, 'arrives': 302, 'honor': 2150, 'wedding': 4836, 'she': 3923, 'meets': 2795, 'person': 3238, 'become': 433, 'character': 758, 'lives': 2628, 'harris': 2038, 'adult': 125, 'son': 4070, 'former': 1800, 'grew': 1972, 'up': 4683, 'has': 2043, 'gone': 1935, 'small': 4033, 'new': 3003, 'england': 1482, 'town': 4541, 'immediately': 2242, 'becomes': 434, 'which': 4867, 'adds': 119, 'fact': 1621, 'always': 203, 'been': 438, 'continues': 971, 'also': 199, 'homosexual': 2145, 'desire': 1205, 'good': 1937, 'admit': 122, 'sexual': 3908, 'another': 250, 'man': 2721, 'inner': 2292, 'frustration': 1843, 'alcoholic': 177, 'wise': 4903, 'bad': 382, 'boy': 557, 'much': 2934, 'very': 4723, 'proper': 3436, 'parents': 3188, 'needless': 2989, 'say': 3799, 'all': 187, 'expressed': 1601, 'emotions': 1461, 'lead': 2545, 'present': 3374, 'have': 2052, 'distant': 1295, 'mother': 2911, 'suffering': 4277, 'doubts': 1333, 'working': 4944, 'emotional': 1459, 'trying': 4601, 'keep': 2449, 'roll': 3728, 'perfect': 3224, 'wife': 4884, 'having': 2054, 'felt': 1692, 'inferior': 2285, 'maintain': 2710, 'relationship': 3597, 'relationships': 3598, 'into': 2332, 'an': 223, 'intriguing': 2335, 'look': 2646, 'society': 4050, 'its': 2370, 'values': 4710, 'effects': 1431, 'upon': 4684, 'personalities': 3241, 'actions': 101, 'involved': 2346, 'evening': 1534, 'excellent': 1555, 'performances': 3229, 'scenes': 3811, 'along': 195, 'unique': 4662, 'make': 2713, 'film': 1716, 'special': 4097, 'claire': 831, 'danes': 1108, 'plays': 3301, 'does': 1308, 'style': 4249, 'clearly': 840, 'shows': 3960, 'intelligent': 2314, 'woman': 4921, 'times': 4497, 'supposed': 4306, 'do': 1302, 'opposed': 3122, 'performance': 3228, 'easily': 1406, 'forgettable': 1794, 'whose': 4877, 'mind': 2849, 'fantasy': 1652, 'course': 1019, 'pulls': 3464, 'off': 3084, 'richardson': 3688, 'daughter': 1121, 'playing': 3300, 'fictional': 1703, 'treat': 4572, 'watch': 4811, 'spends': 4107, 'deal': 1135, 'depressed': 1187, 'feeling': 1685, 'sorry': 4076, 'herself': 2092, 'while': 4868, 'out': 3141, 'loves': 2674, 'well': 4843, 'sister': 4001, 'part': 3193, 'such': 4268, 'never': 3001, 'seen': 3865, 'give': 1912, 'unbelievable': 4634, 'matter': 2769, 'us': 4690, 'more': 2904, 'expected': 1577, 'role': 3726, 'than': 4420, 'streep': 4215, 'day': 1129, 'gives': 1914, 'director': 1264, 'states': 4163, 'dvd': 1391, 'extras': 1608, 'glenn': 1918, 'close': 853, 'play': 3296, 'relatively': 3600, 'actress': 105, 'could': 1007, 'think': 4452, 'scene': 3809, 'certainly': 738, 'your': 4991, 'treasure': 4571, 'combined': 885, 'featuring': 1681, 'described': 1195, 'above': 68, 'whole': 4873, 'movie': 2926, 'worth': 4953, 'watching': 4815, 'comes': 891, 'room': 3735, 'bed': 436, 'discuss': 1283, 'repeated': 3631, 'later': 2525, 'talk': 4358, 'lived': 2626, 'latter': 2528, 'memorable': 2802, 'least': 2554, 'hugh': 2186, 'young': 4989, 'torn': 4528, 'apart': 264, 'feelings': 1686, 'superior': 4300, 'yes': 4982, 'directing': 1260, 'scenery': 3810, 'definitely': 1162, 'recommend': 3571, 'too': 4522, 'cinema': 816, 'can': 665, 'quite': 3495, 'surprising': 4315, 'audience': 352, 'genres': 1889, 'same': 3778, 'drama': 1346, 'secret': 3849, 'sunshine': 4294, 'youll': 4988, 'comical': 894, 'parts': 3199, 'thriller': 4472, 'romantic': 3733, 'theres': 4440, 'tragic': 4552, 'comedy': 890, 'says': 3801, 'point': 3316, 'ho': 2127, 'mixture': 2878, 'picture': 3269, 'dont': 1324, 'wrong': 4973, 'deals': 1137, 'experience': 1580, 'offers': 3090, 'doesnt': 1309, 'mean': 2779, 'lacks': 2505, 'contrary': 974, 'rare': 3523, 'profound': 3423, 'portrait': 3339, 'pain': 3170, 'whos': 4876, 'quest': 3486, 'quiet': 3492, 'native': 2972, 'late': 2523, 'husband': 2204, 'different': 1248, 'shes': 3930, 'going': 1931, 'through': 4477, 'realistic': 3550, 'psychological': 3458, 'poor': 3328, 'anger': 235, 'faith': 1633, 'reality': 3551, 'steps': 4177, 'looks': 2649, 'like': 2599, 'thing': 4450, 'accept': 80, 'may': 2775, 'wears': 4832, 'mask': 2752, 'represents': 3639, 'let': 2579, 'touch': 4533, 'must': 2950, 'did': 1241, 'move': 2921, 'beginning': 443, 'particularly': 3195, 'concerning': 933, 'joan': 2404, 'truly': 4597, 'help': 2079, 'emotionally': 1460, 'tired': 4501, 'towards': 4540, 'end': 1468, 'nevertheless': 3002, 'ideas': 2215, 'breathtaking': 574, 'where': 4864, 'body': 527, 'discovered': 1280, 'large': 2517, 'shot': 3949, 'instance': 2304, 'amazing': 209, 'kind': 2476, 'makes': 2716, 'equivalent': 1512, 'host': 2173, 'horror': 2168, 'movies': 2927, 'memories': 2803, 'murder': 2939, 'thrillers': 4473, 'most': 2909, 'original': 3129, 'incredible': 2269, 'manage': 2722, 'forgot': 1796, 'scary': 3807, 'cry': 1073, 'melodrama': 2797, 'named': 2961, 'bette': 471, 'gets': 1900, 'pregnant': 3369, 'wealthy': 4827, 'stephen': 4176, 'marry': 2745, 'sense': 3877, 'turns': 4609, 'down': 1335, 'flat': 1748, 'decides': 1150, 'raise': 3507, 'kid': 2464, 'things': 4451, 'go': 1924, 'ok': 3098, 'until': 4680, 'child': 789, 'jenny': 2393, 'teenager': 4390, 'gradually': 1952, 'worse': 4951, 'ive': 2372, 'both': 547, 'silent': 3975, 'version': 4720, 'sound': 4081, 'neither': 2996, 'affected': 137, 'made': 2697, 'dated': 1119, 'remake': 3612, '1990': 24, 'stupid': 4247, 'idea': 2213, 'guess': 1989, 'enough': 1491, 'power': 3359, 'incomprehensible': 2267, 'success': 4265, 'laughable': 2530, 'todays': 4509, 'standards': 4145, 'though': 4461, 'drags': 1345, 'bored': 541, 'silly': 3976, 'actors': 104, 'supporting': 4304, 'roles': 3727, 'dull': 1384, 'thought': 4462, 'would': 4957, 'work': 4940, 'stanwyck': 4149, 'instead': 2307, 'reviews': 3679, 'didnt': 1242, 'feel': 1684, 'followed': 1773, 'any': 256, 'rock': 3720, 'tap': 4364, 'although': 201, 'wanted': 4789, 'sex': 3907, 'drugs': 1374, 'kept': 2456, 'american': 213, 'knew': 2486, 'surprised': 4313, 'brian': 576, 'robinson': 3716, 'classic': 835, 'ill': 2228, 'rent': 3626, 'next': 3007, 'burns': 628, 'my': 2951, 'mexico': 2827, 'follow': 1772, 'english': 1483, 'british': 589, 'language': 2516, 'missed': 2867, 'jokes': 2415, 'explained': 1587, 'cried': 1054, 'eyes': 1613, 'funny': 1852, 'soundtrack': 4085, '30': 42, 'bought': 552, 'bargain': 400, 'bin': 483, 'price': 3389, 'non': 3027, 'saw': 3798, 'night': 3013, 'cable': 644, 'ever': 1538, 'since': 3990, 'show': 3953, 'little': 2624, 'girls': 1911, 'michelle': 2830, 'killed': 2469, 'drunk': 1375, 'driver': 1366, 'father': 1666, 'danny': 1112, 'law': 2538, 'jesse': 2397, 'troubles': 4594, 'lessons': 2578, 'develop': 1222, 'flow': 1762, 'hold': 2129, 'fun': 1848, 'am': 204, 'glad': 1916, 'air': 164, 'television': 4394, 'almost': 193, 'every': 1539, 'rate': 3526, 'recently': 3567, 'found': 1811, 'vhs': 4725, 'looking': 2648, 'number': 3060, 'disappointed': 1273, 'better': 472, 'peter': 3247, 'stars': 4155, 'co': 867, 'wrote': 4974, 'screenplay': 3831, 'nominated': 3025, 'academy': 77, 'award': 366, 'youve': 4995, 'heard': 2062, 'include': 2261, 'bob': 524, 'released': 3603, 'infamous': 2284, 'prison': 3401, 'conservative': 948, 'party': 3200, 'liberal': 2588, 'search': 3841, 'discovers': 1281, 'wave': 4818, 'future': 1856, 'social': 4049, 'way': 4820, 'london': 2641, 'club': 863, 'learns': 2553, 'identity': 2217, 'computer': 927, 'steals': 4172, 'smith': 4038, 'left': 2561, 'south': 4087, 'america': 212, 'wild': 4885, 'talks': 4361, 'headed': 2058, 'around': 297, 'center': 732, 'especially': 1520, 'security': 3854, 'feature': 1678, 'blue': 518, 'light': 2595, 'asks': 319, 'how': 2181, 'defeat': 1157, 'tells': 4397, 'using': 4698, 'techniques': 4384, 'breaks': 571, 'system': 4345, 'written': 4972, 'various': 4715, 'scheme': 3812, 'starts': 4159, 'assistant': 326, 'amount': 219, 'business': 633, 'appears': 278, 'secretary': 3850, 'maggie': 2702, 'manages': 2725, 'avoid': 363, 'happily': 2030, 'tell': 4395, 'spoil': 4121, 'ahead': 159, 'once': 3106, 'indian': 2274, 'changes': 751, 'creates': 1038, 'standard': 4144, 'low': 2676, 'broken': 594, 'take': 4349, 'melting': 2799, 'pot': 3354, 'talent': 4354, 'create': 1036, 'stale': 4141, 'distance': 1294, 'totally': 4532, 'believe': 454, 'called': 652, 'lot': 2661, 'elements': 1443, 'build': 614, 'plot': 3309, 'merely': 2815, 'forever': 1792, 'mess': 2818, 'them': 4432, 'badly': 383, 'need': 2987, 'contest': 967, 'pick': 3265, 'worst': 4952, 'realism': 3549, 'element': 1442, 'missing': 2869, 'ends': 1474, 'providing': 3451, 'bunch': 623, 'less': 2575, 'seemingly': 3863, 'set': 3898, 'events': 1536, 'star': 4150, 'ridiculous': 3693, 'waste': 4808, 'vote': 4766, 'wake': 4774, 'failure': 1629, 'under': 4639, 'suspense': 4330, 'terror': 4412, 'couples': 1017, 'drive': 1363, 'cross': 1066, 'country': 1014, 'california': 650, 'share': 3920, 'cost': 1003, 'gas': 1874, 'pair': 3176, 'losers': 2656, 'lewis': 2586, 'pitt': 3280, 'artists': 309, 'photographer': 3259, 'writer': 4968, 'focus': 1766, 'somewhat': 4068, 'predictable': 3367, 'psycho': 3457, 'killer': 2470, 'premise': 3370, 'circle': 821, 'forbidden': 1785, 'year': 4978, 'richard': 3686, 'burton': 630, 'fifteen': 1706, 'girl': 1909, 'sarah': 3785, 'acceptable': 81, 'given': 1913, 'problem': 3408, 'fails': 1628, 'live': 2625, 'promise': 3430, 'should': 3951, 'watched': 4813, 'learn': 2550, 'something': 4066, 'sexuality': 3909, 'boring': 543, 'dialogue': 1234, 'pointless': 3318, 'art': 304, 'seemed': 3862, 'away': 369, 'closing': 859, 'artificial': 306, 'impact': 2244, 'script': 3834, 'imagine': 2238, 'problems': 3409, 'further': 1853, 'largely': 2518, 'amateurish': 207, 'cast': 710, 'second': 3846, 'superficial': 4298, 'beauty': 430, 'forced': 1787, 'happy': 2032, 'required': 3641, 'sad': 3767, 'asked': 317, 'liked': 2600, 'nothing': 3047, 'probably': 3407, 'closest': 857, 'came': 656, 'fault': 1668, 'lacked': 2503, 'charm': 767, 'charisma': 762, 'complexity': 924, 'women': 4923, 'age': 148, 'alone': 194, 'rest': 3657, 'unconvincing': 4638, 'waited': 4771, 'michael': 2829, 'jealous': 2388, 'ex': 1549, 'boyfriend': 558, 'paul': 3214, 'fair': 1630, 'direction': 1261, 'everyone': 1542, 'true': 4596, 'goes': 1930, 'beyond': 476, 'james': 2378, 'sue': 4274, 'train': 4556, 'went': 4847, 'jon': 2416, 'voight': 4764, 'eric': 1514, 'roberts': 3714, 'directors': 1266, 'use': 4692, 'music': 2946, 'reveal': 3670, 'spite': 4117, 'score': 3822, 'combination': 883, 'carl': 692, 'succeeds': 4264, 'doing': 1312, 'conclusion': 936, 'teenage': 4389, 'execution': 1566, 'terrible': 4407, 'ways': 4822, 'shame': 3918, 'controversial': 978, 'type': 4621, 'understandable': 4644, 'reasons': 3560, 'prefer': 3368, 'receive': 3563, 'treatment': 4574, 'committed': 905, 'foot': 1781, 'filming': 1718, 'silver': 3977, 'falling': 1639, 'surely': 4309, 'questions': 3489, 'usual': 4699, 'mix': 2876, 'pretentious': 3383, 'know': 2489, 'lots': 2662, 'quickly': 3491, 'took': 4523, 'sake': 3775, 'wasted': 4809, 'hate': 2046, 'anyone': 259, 'corner': 996, 'please': 3304, 'plus': 3311, 'side': 3965, 'visually': 4758, 'attractive': 351, 'enjoyed': 1486, 'usually': 4700, 'unbearable': 4633, 'jane': 2380, 'emma': 1457, 'extremely': 1610, 'enjoyable': 1485, 'production': 3419, 'paltrow': 3178, 'cinematography': 820, 'able': 66, 'bring': 585, 'effectively': 1430, 'simply': 3986, 'era': 1513, 'empire': 1464, 'line': 2610, 'kate': 2446, 'hand': 2015, 'mr': 2929, 'heroes': 2089, 'actually': 109, 'sees': 3866, 'mark': 2739, 'strong': 4229, 'splendid': 4119, 'handsome': 2021, 'appropriate': 283, 'delightful': 1168, 'im': 2232, 'disagree': 1269, 'previous': 3387, 'comment': 898, 'vicious': 4728, 'western': 4853, 'across': 96, 'central': 735, 'theme': 4433, 'west': 4852, 'kicked': 2461, 'aside': 315, 'march': 2734, 'tradition': 4549, 'andrew': 228, 'final': 1722, 'minutes': 2859, 'heston': 2094, 'chris': 806, 'someone': 4064, 'explain': 1586, 'fire': 1734, 'rape': 3521, 'womans': 4922, 'reaction': 3541, 'afterwards': 145, 'ring': 3698, 'plenty': 3307, 'nasty': 2968, 'half': 2007, 'escaped': 1518, 'revenge': 3675, 'fellow': 1691, 'theyre': 4445, 'forward': 1808, 'typically': 4624, 'case': 707, 'modern': 2882, 'sheriff': 3929, 'progress': 3425, 'back': 378, 'provoking': 3452, 'big': 478, 'appeal': 271, 'writers': 4969, 'looked': 2647, 'science': 3816, 'spooky': 4128, 'incredibly': 2270, 'season': 3843, 'aired': 165, 'already': 197, 'provided': 3449, 'perfectly': 3226, 'episodes': 1508, 'sharp': 3922, 'rise': 3702, 'far': 1653, 'fetched': 1698, 'implausible': 2245, 'downright': 1337, 'figured': 1712, 'hey': 2095, 'benefit': 465, 'doubt': 1332, 'maybe': 2776, 'bringing': 586, 'theyve': 4446, 'following': 1774, 'offered': 3088, 'interesting': 2325, 'angle': 236, 'vampire': 4711, 'done': 1322, 'episode': 1507, 'strange': 4211, 'alien': 183, 'control': 977, 'cult': 1077, 'christians': 809, 'oh': 3096, 'coming': 896, 'christ': 807, 'last': 2521, 'couple': 1016, 'seriously': 3892, 'attempt': 340, 'anything': 260, 'thats': 4425, 'happening': 2028, 'early': 1400, 'then': 4436, 'expect': 1575, 'bit': 488, 'depth': 1190, 'background': 380, 'opposite': 3123, 'mystery': 2956, 'kills': 2474, 'developed': 1223, 'over': 3148, 'purely': 3472, 'bizarre': 492, 'youre': 4992, 'teen': 4388, 'except': 1556, 'throwing': 4480, 'creepy': 1052, 'isolated': 2363, 'community': 908, 'spent': 4108, 'decade': 1144, 'sinister': 3998, 'either': 1438, 'stereotypical': 4180, 'utterly': 4702, 'safety': 3772, 'isnt': 2362, 'desert': 1198, 'brutal': 603, 'without': 4913, 'save': 3794, 'remember': 3616, 'hes': 2093, 'again': 146, 'short': 3946, 'feels': 1687, 'generic': 1885, 'pet': 3246, 'project': 3427, 'allowed': 190, 'long': 2644, 'running': 3756, 'vulnerable': 4768, 'worked': 4941, 'lesser': 2576, 'tv': 4610, '90s': 61, 'change': 749, 'personality': 3242, 'trek': 4578, 'wasnt': 4807, 'impressed': 2251, 'exception': 1557, 'narrative': 2966, 'limited': 2606, 'contrived': 976, 'context': 968, '80s': 59, 'britain': 588, 'tiresome': 4502, 'gave': 1875, 'view': 4736, 'poverty': 3357, 'war': 4792, 'margaret': 2735, 'yet': 4984, 'middle': 2833, 'classes': 834, 'existed': 1570, 'ordinary': 3128, 'decent': 1147, 'clips': 852, 'added': 116, 'randomly': 3515, 'dramatic': 1348, 'effect': 1428, 'sequence': 3887, 'tad': 4347, 'disjointed': 1287, 'moved': 2922, 'action': 100, 'seeing': 3857, 'couldve': 1009, 'changed': 750, 'couldnt': 1008, 'during': 1387, 'hard': 2033, 'wouldve': 4959, 'attracted': 349, 'younger': 4990, 'four': 1812, 'reach': 3536, 'huge': 2185, 'difference': 1246, 'teens': 4392, 'occurs': 3078, 'mature': 2773, 'boys': 559, 'older': 3101, 'buy': 640, 'unnecessary': 4672, 'created': 1037, 'shock': 3938, 'value': 4709, 'ending': 1471, 'incident': 2260, 'fell': 1690, 'bugs': 613, 'concern': 931, 'themselves': 4435, 'upper': 4685, 'our': 3139, 'hung': 2197, 'class': 833, '1973': 19, '1983': 22, 'single': 3996, 'parent': 3187, 'fairly': 1631, 'estate': 1525, 'city': 825, 'childhood': 790, 'experiences': 1582, 'portrayed': 3342, 'racism': 3502, 'issue': 2364, 'saying': 3800, 'exist': 1569, 'bottom': 551, 'substance': 4258, 'completely': 922, 'throughout': 4478, 'website': 4834, 'anywhere': 263, 'else': 1448, 'desperately': 1209, 'several': 3905, 'interested': 2324, 'buying': 641, 'poster': 3353, 'commented': 900, 'horse': 2170, 'horses': 2171, 'awesome': 371, 'trained': 4557, 'home': 2142, 'library': 2589, 'bond': 532, 'inspiring': 2302, 'want': 4788, 'spend': 4105, 'urban': 4688, 'paranoia': 3186, '70s': 56, 'puts': 3481, 'school': 3813, 'crime': 1055, 'schools': 3814, 'arent': 288, 'areas': 287, 'exploitation': 1592, 'takes': 4351, 'violence': 4747, 'issues': 2365, 'white': 4870, 'student': 4238, 'uses': 4697, 'turn': 4605, 'local': 2634, 'high': 2100, 'knows': 2493, 'familiar': 1643, 'pure': 3471, 'violent': 4748, 'disturbing': 1300, 'dressed': 1358, 'belongs': 460, 'category': 718, 'trash': 4565, 'death': 1141, 'wish': 4904, 'remarkable': 3613, 'fox': 1814, 'broke': 593, 'stuff': 4243, 'recommended': 3572, 'feed': 1683, 'complain': 919, 'deliver': 1169, 'amounts': 220, 'gross': 1978, 'full': 1846, 'latest': 2526, 'torture': 4529, 'porn': 3336, 'ryan': 3765, 'nicholson': 3011, 'tries': 4585, 'sub': 4252, 'genre': 1888, 'includes': 2263, 'models': 2881, 'sick': 3963, 'twisted': 4618, 'thoroughly': 4459, 'shots': 3950, 'naked': 2959, 'tried': 4584, 'actual': 108, 'describe': 1194, 'five': 1743, 'twenty': 4612, 'trip': 4588, 'asian': 314, 'roots': 3738, 'travel': 4567, 'culture': 1079, 'cause': 723, 'witness': 4914, 'cute': 1090, 'dog': 1310, 'market': 2740, 'accidentally': 85, 'leader': 2546, 'criminal': 1057, 'suffice': 4279, 'gangster': 1868, 'theater': 4427, 'subject': 4253, 'snake': 4042, 'throat': 4476, 'surprisingly': 4316, 'despite': 1211, 'difficult': 1249, 'overlook': 3153, 'used': 4693, 'independent': 2272, 'fan': 1648, 'fat': 1663, 'depicted': 1183, 'cover': 1022, 'admittedly': 123, 'cool': 989, 'talented': 4355, 'keeps': 2451, 'mouth': 2920, 'shut': 3961, 'entire': 1502, 'wouldnt': 4958, 'exactly': 1551, 'pile': 3275, 'loud': 2664, 'hideous': 2098, 'metal': 2823, 'footage': 1782, 'ralph': 3510, 'bakshi': 386, 'world': 4946, 'underrated': 4642, 'animated': 241, 'rings': 3699, 'frank': 1821, 'sword': 4340, 'worlds': 4947, 'edgar': 1417, 'robert': 3713, 'howard': 2182, 'theatrical': 4430, 'release': 3602, 'video': 4733, 'therefore': 4439, '2005': 35, 'dream': 1354, 'hoped': 2156, 'shelf': 3926, 'dust': 1388, 'died': 1244, 'fortunately': 1805, 'fears': 1677, 'pleasantly': 3303, 'gritty': 1977, 'cheesy': 781, 'dirty': 1268, 'loved': 2670, 'ask': 316, 'due': 1382, 'princess': 3397, 'believable': 453, 'personally': 3243, 'movements': 2924, 'animation': 242, 'continuity': 972, 'fans': 1650, 'heaven': 2068, 'wait': 4770, 'fine': 1729, 'filmmakers': 1720, 'turkey': 4604, 'closely': 855, 'eddie': 1416, 'murphy': 2944, 'dr': 1340, 'professor': 3422, 'became': 431, 'successful': 4266, 'laughs': 2534, 'routine': 3743, 'might': 2835, 'funnier': 1850, 'truck': 4595, 'hollywood': 2137, 'making': 2718, 'junk': 2436, 'place': 3282, 'fisher': 1739, 'troubled': 4593, 'navy': 2976, 'psychiatrist': 3455, 'helps': 2082, 'ready': 3546, 'shed': 3924, 'tear': 4379, 'heart': 2064, 'awful': 372, 'happen': 2026, 'positive': 3346, 'powerful': 3360, 'importantly': 2248, 'important': 2247, 'thinking': 4453, 'abuse': 74, 'foster': 1809, 'care': 684, 'oscar': 3133, 'winner': 4897, 'denzel': 1181, 'washington': 4806, 'impressive': 2253, 'job': 2405, 'directorial': 1265, 'debut': 1143, 'included': 2262, 'dreams': 1355, 'check': 777, 'turned': 4606, 'beautifully': 429, 'tied': 4489, 'wonderful': 4928, 'occurred': 3077, 'doctor': 1304, 'answers': 252, 'abandoned': 62, 'favorite': 1671, 'happened': 2027, 'finally': 1724, 'priceless': 3390, 'represented': 3638, 'addition': 118, 'won': 4925, 'presence': 3373, 'actor': 103, 'derek': 1192, 'luke': 2687, 'joy': 2422, 'played': 3297, 'interest': 2323, 'ray': 3533, 'screen': 3829, 'chemistry': 782, 'nelson': 2997, 'mrs': 2930, 'deserves': 1201, 'mention': 2810, 'outstanding': 3147, 'deserve': 1199, 'utter': 4701, 'money': 2888, 'offensive': 3086, 'everything': 1544, 'disgusting': 1286, 'spoiler': 4123, 'nudity': 3059, 'accents': 79, 'horrible': 2163, 'excited': 1561, 'reason': 3557, 'rented': 3628, 'van': 4713, 'mistake': 2871, 'segments': 3868, 'adding': 117, 'sentence': 3881, 'similar': 3978, 'head': 2057, 'possibly': 3351, 'existence': 1571, 'lets': 2580, 'st': 4137, 'elsewhere': 1449, 'finale': 1723, 'hospital': 2172, 'ended': 1470, 'telling': 4396, 'taken': 4350, 'creative': 1041, 'annoying': 249, 'caught': 722, 'wanting': 4790, 'portrays': 3344, 'series': 3890, 'twice': 4613, 'hat': 2045, 'expectations': 1576, 'itself': 2371, 'engaging': 1481, 'brilliantly': 584, 'arguably': 289, 'cheated': 775, 'loyal': 2679, '50s': 52, 'sci': 3815, 'fi': 1701, 'favorites': 1672, 'concept': 930, 'behind': 447, 'natural': 2973, 'vehicle': 4718, 'heavily': 2069, 'carry': 700, 'clear': 839, 'loaded': 2632, 'killing': 2472, '60': 53, 'seconds': 3848, 'blob': 507, 'poorly': 3329, 'run': 3755, 'steve': 4181, 'casting': 711, 'teenagers': 4391, 'started': 4157, 'considering': 952, 'amanda': 205, 'runs': 3757, 'nice': 3008, 'face': 1616, 'leslie': 2574, 'popular': 3333, 'jonathan': 2417, 'nick': 3012, 'holly': 2136, 'overall': 3150, 'ingredients': 2289, 'grow': 1982, 'soviet': 4089, 'erotic': 1515, 'edited': 1420, 'complete': 921, 'form': 1798, 'survive': 4321, 'planet': 3289, 'feminist': 1695, 'straight': 4210, 'severe': 3906, 'ladies': 2506, 'try': 4600, 'fight': 1707, 'clichés': 846, 'constant': 957, 'shown': 3959, 'idiots': 2220, 'agree': 155, 'stellar': 4174, 'wooden': 4934, 'strangely': 4212, 'unfunny': 4655, 'nude': 3058, 'havent': 2053, 'intended': 2315, 'farce': 1654, 'below': 462, 'millions': 2848, 'columbo': 881, 'channel': 753, 'fascinating': 1658, 'whoever': 4872, 'massive': 2756, 'potential': 3355, 'touches': 4535, 'particular': 3194, 'embarrassing': 1454, 'per': 3223, 'pilot': 3276, 'wide': 4880, 'drives': 1367, 'normal': 3033, 'car': 680, 'partner': 3198, 'relatives': 3601, 'none': 3028, 'cat': 713, 'mouse': 2919, 'villain': 4744, 'watchable': 4812, 'fresh': 1833, 'wwii': 4975, 'aware': 368, 'stopped': 4202, 'unexpected': 4650, 'moment': 2886, 'nations': 2971, 'judge': 2424, 'abraham': 69, 'typical': 4623, 'roger': 3724, 'carter': 703, 'david': 1124, 'june': 2433, 'kim': 2475, 'hunter': 2199, 'against': 147, 'raymond': 3534, 'imaginative': 2237, 'powell': 3358, 'directed': 1259, 'produced': 3414, 'tour': 4538, 'de': 1131, 'force': 1786, 'message': 2819, 'universe': 4666, 'earth': 1403, 'humans': 2190, 'beautiful': 428, 'told': 4513, 'tough': 4537, 'laugh': 2529, 'financial': 1725, 'situation': 4008, 'dies': 1245, 'grace': 1950, 'legal': 2563, 'humour': 2194, 'brando': 566, 'sinatra': 3989, 'hated': 2047, 'each': 1395, 'singing': 3995, 'upset': 4687, 'eating': 1413, 'suggest': 4280, 'viewing': 4740, 'kinda': 2477, 'amateur': 206, 'trailer': 4554, 'producer': 3415, 'famous': 1647, 'batman': 413, 'dead': 1132, 'besides': 468, 'black': 493, 'superman': 4301, 'afraid': 140, 'impossible': 2249, 'official': 3094, 'greater': 1965, 'peace': 3219, 'human': 2188, 'gandhi': 1866, 'mentioned': 2811, 'acted': 98, 'intentionally': 2320, 'negative': 2991, 'focused': 1767, 'frame': 1815, 'general': 1880, 'setting': 3900, 'birds': 485, 'hammer': 2014, 'studios': 4241, 'available': 361, 'shy': 3962, 'trouble': 4592, 'bus': 631, 'stomach': 4196, 'shirley': 3936, 'wear': 4830, '1972': 18, 'warning': 4800, 'illegal': 2229, 'practice': 3363, 'red': 3576, 'double': 1331, 'bother': 548, 'fly': 1763, 'wall': 4781, 'sure': 4308, 'lines': 2612, 'quote': 3496, 'keaton': 2448, 'seem': 3861, 'figure': 1711, 'surrounded': 4318, 'fantastic': 1651, 'spoof': 4127, 'itll': 2369, 'gem': 1877, 'invisible': 2344, 'forget': 1793, 'elegant': 1441, 'karloff': 2445, 'mountain': 2917, 'genius': 1887, 'reads': 3545, 'ancient': 225, 'crash': 1033, 'africa': 141, 'lugosi': 2686, 'hero': 2088, 'lovely': 2671, 'cooper': 990, 'worthy': 4956, 'maria': 2736, 'moves': 2925, 'bold': 528, 'contains': 964, 'sight': 3969, 'among': 217, 'island': 2361, 'material': 2766, 'throw': 4479, 'leave': 2555, 'sea': 3838, 'animals': 240, 'names': 2963, 'crappy': 1032, 'biggest': 480, 'suck': 4269, 'factor': 1622, 'possible': 3350, 'copy': 994, '1st': 28, 'prince': 3396, 'exact': 1550, 'convincing': 985, 'anymore': 258, 'kids': 2467, 'dumb': 1385, 'voice': 4761, 'king': 2479, 'appear': 273, 'evil': 1548, 'shadow': 3912, 'scared': 3805, 'showed': 3956, 'knife': 2487, 'replaced': 3634, 'fail': 1625, 'shark': 3921, 'smaller': 4034, 'name': 2960, 'ah': 158, 'un': 4630, 'sing': 3992, 'higher': 2101, 'punch': 3466, 'fake': 1635, 'sweet': 4336, 'clumsy': 866, 'unoriginal': 4673, 'simplistic': 3985, 'certain': 737, 'call': 651, 'disney': 1289, 'demand': 1174, 'sequel': 3885, 'comparing': 913, 'ed': 1415, 'wood': 4933, 'simple': 3983, 'list': 2617, 'track': 4544, 'review': 3676, 'reading': 3544, 'frequently': 1832, 'canada': 666, 'sucks': 4271, 'destroyed': 1214, 'audiences': 353, 'arrested': 298, 'development': 1225, 'blame': 499, 'soul': 4079, 'outside': 3146, 'gender': 1878, 'hair': 2005, 'colour': 880, 'react': 3540, 'situations': 4009, 'bodies': 526, 'conflict': 939, 'rachel': 3500, 'hanging': 2023, 'enemy': 1477, 'joey': 2408, 'suicide': 4283, 'nobody': 3022, 'seems': 3864, 'comfortable': 892, 'curse': 1086, 'god': 1926, 'broad': 590, 'claims': 830, 'requires': 3642, 'laughter': 2535, 'destroy': 1213, 'quick': 3490, 'rather': 3528, 'office': 3091, 'leads': 2548, 'slightly': 4029, 'humorous': 2193, 'apparently': 270, 'everyday': 1541, 'recognition': 3568, 'flaws': 1752, '17': 9, 'solution': 4059, 'finds': 1728, 'rid': 3690, 'battle': 414, 'evidence': 1546, 'position': 3345, 'enthusiasm': 1501, 'spot': 4131, 'opinion': 3118, 'unwatchable': 4682, 'thank': 4421, 'hope': 2155, 'impress': 2250, 'attitude': 346, 'depiction': 1185, 'fare': 1655, 'topic': 4526, 'sticks': 4186, 'southern': 4088, 'passed': 3202, 'common': 906, 'nowadays': 3055, 'mainstream': 2709, 'terribly': 4408, 'spirited': 4114, 'masterpiece': 2759, 'viewer': 4738, 'chance': 747, 'emotion': 1458, 'intelligence': 2313, 'generally': 1881, 'handed': 2016, 'widow': 4883, 'logical': 2639, 'somehow': 4063, 'taking': 4352, 'guy': 2000, 'weak': 4824, 'stronger': 4230, 'century': 736, 'die': 1243, 'minor': 2857, 'causing': 726, 'mood': 2898, 'renting': 3629, 'arthur': 305, 'aged': 149, 'fish': 1738, 'whatever': 4859, 'likes': 2602, 'spoiled': 4122, 'fortune': 1806, 'falls': 1640, 'waitress': 4773, 'weird': 4841, 'damn': 1100, 'based': 404, 'inspired': 2301, 'corny': 997, 'liners': 2611, 'moments': 2887, 'moore': 2901, 'comic': 893, 'timing': 4498, 'words': 4938, 'standing': 4146, 'hotel': 2175, 'directions': 1262, 'john': 2409, 'mirror': 2861, 'lame': 2510, 'myself': 2953, 'seeks': 3860, 'horrific': 2166, 'strike': 4224, 'inside': 2297, 'restored': 3659, 'dislike': 1288, 'absolutely': 72, 'ruined': 3751, 'christian': 808, 'intent': 2318, 'overcome': 3151, 'ruins': 3752, 'muslim': 2949, 'saved': 3795, 'format': 1799, 'suspenseful': 4331, 'entertaining': 1499, 'richards': 3687, 'attempting': 342, 'students': 4239, 'lesson': 2577, 'total': 4531, 'writes': 4970, 'directs': 1267, 'cinematic': 818, 'budget': 610, 'tag': 4348, 'grand': 1953, 'individual': 2277, 'tiny': 4500, 'encounters': 1467, 'justice': 2438, 'calling': 653, '12': 3, 'grab': 1949, 'perspective': 3245, 'halloween': 2010, 'murders': 2943, 'myers': 2952, 'donald': 1321, 'contained': 963, 'escape': 1517, 'tracks': 4545, 'needs': 2990, 'involving': 2349, 'getting': 1901, 'pieces': 3273, 'gruesome': 1986, 'freddy': 1826, 'jason': 2383, 'chasing': 772, 'haunted': 2050, 'carpenter': 694, 'hell': 2077, 'jump': 2429, 'career': 686, 'jamie': 2379, 'lee': 2559, 'curtis': 1087, 'cliché': 844, 'ripped': 3701, 'remain': 3609, 'listening': 2620, 'thrilling': 4474, 'victim': 4729, 'chased': 770, 'bill': 481, 'ted': 4386, 'christmas': 810, 'store': 4204, 'games': 1865, 'clue': 864, 'id': 2212, 'station': 4164, 'noticed': 3049, 'earned': 1401, 'honest': 2146, 'road': 3709, 'bits': 490, 'satire': 3788, 'current': 1084, 'fit': 1740, 'within': 4912, 'example': 1553, 'robbery': 3711, 'top': 4525, 'theatre': 4429, 'period': 3236, '11': 2, 'september': 3884, 'hidden': 2096, 'empty': 1465, 'images': 2235, 'french': 1830, 'viewers': 4739, 'wonder': 4926, 'weve': 4856, 'image': 2233, 'europe': 1529, 'mine': 2853, 'walked': 4776, 'yesterday': 4983, 'fired': 1735, 'suddenly': 4273, 'decide': 1148, 'funeral': 1849, 'news': 3005, 'happens': 2029, 'winds': 4895, 'con': 928, 'brought': 600, 'molly': 2884, 'guilt': 1994, 'bush': 632, 'parker': 3191, 'stone': 4197, 'crazy': 1035, 'park': 3190, 'surprise': 4312, 'expensive': 1579, 'details': 1219, 'understand': 4643, 'critics': 1064, 'failed': 1626, 'faults': 1669, 'sitcom': 4004, 'parody': 3192, '100': 1, 'humor': 2192, 'stan': 4142, 'relate': 3593, 'insane': 2296, 'forces': 1788, 'level': 2584, 'stereotypes': 4179, 'suffers': 4278, 'stones': 4198, 'portraying': 3343, 'homer': 2144, 'lovable': 2668, 'president': 3378, 'parallel': 3185, 'means': 2783, 'joke': 2414, 'hit': 2122, 'awkward': 374, 'remind': 3618, 'hilarious': 2106, 'pro': 3406, 'surviving': 4323, 'packed': 3166, 'sometimes': 4067, '15': 7, 'ago': 154, 'hbo': 2055, 'gordon': 1940, 'reached': 3537, 'subtitles': 4259, 'musical': 2947, 'improved': 2255, 'attend': 344, 'shooting': 3943, 'continued': 970, 'cruise': 1071, 'cut': 1089, 'disaster': 1276, 'act': 97, 'paper': 3183, 'bag': 384, 'producers': 3416, 'embarrassment': 1455, 'believing': 457, 'albeit': 173, 'dynamic': 1394, 'trap': 4563, 'spending': 4106, 'sets': 3899, 'costumes': 1006, 'cars': 702, 'et': 1526, 'al': 170, 'dry': 1377, 'worn': 4948, 'ruin': 3750, 'company': 910, 'pay': 3216, 'depression': 1189, 'folks': 1771, 'broadway': 592, 'colors': 879, 'depressing': 1188, 'sexually': 3910, 'duo': 1386, 'mans': 2730, 'perhaps': 3235, 'book': 535, 'youth': 4994, 'deeply': 1156, 'memory': 2804, 'amusing': 221, 'noir': 3023, 'saturday': 3792, 'forgotten': 1797, 'add': 115, 'result': 3660, 'content': 966, 'mitchell': 2875, 'joe': 2407, 'don': 1320, '3000': 43, 'mike': 2838, 'trio': 4587, 'removed': 3624, 'ps': 3453, 'nearby': 2980, 'tape': 4365, 'lol': 2640, 'user': 4696, 'understanding': 4645, 'pathetic': 3210, 'appearances': 275, 'reasonable': 3558, 'imdb': 2240, 'write': 4967, 'meant': 2784, 'presented': 3376, 'program': 3424, 'insult': 2309, 'saving': 3797, 'trashy': 4566, 'greatly': 1967, 'stories': 4205, 'cared': 685, 'endless': 1473, 'praise': 3364, 'julia': 2427, 'portrayal': 3341, 'stood': 4199, 'rating': 3529, 'dawson': 1128, 'superb': 4296, 'terrific': 4409, 'dinner': 1254, 'bridge': 578, 'apartment': 265, 'basement': 405, 'patrick': 3213, 'friendship': 1838, 'introduces': 2338, 'teaching': 4377, 'spots': 4132, 'catches': 715, 'cheating': 776, 'smooth': 4041, 'history': 2121, 'repeat': 3630, 'brilliant': 583, 'saves': 3796, 'gonna': 1936, 'disappoint': 1272, 'pie': 3271, 'franchise': 1817, 'wont': 4932, 'house': 2178, 'wanna': 4786, 'appealing': 272, 'cash': 709, 'stock': 4193, 'burt': 629, 'reynolds': 3684, 'jim': 2402, 'uninspired': 4657, 'staring': 4152, 'hours': 2177, 'weekend': 4838, 'days': 1130, 'code': 869, 'decision': 1151, 'terms': 4406, 'comments': 901, 'unrealistic': 4677, 'illogical': 2231, 'awards': 367, 'stupidity': 4248, 'responsible': 3656, 'consider': 949, 'considerable': 950, '80': 58, 'giving': 1915, '20': 29, 'opportunity': 3121, 'idiot': 2218, '35': 45, 'viewed': 4737, 'stinker': 4191, 'beating': 425, 'hunting': 2201, 'sheer': 3925, 'order': 3126, 'cheap': 774, 'filled': 1715, 'intensity': 2317, 'fool': 1779, 'warned': 4798, 'japanese': 2382, 'title': 4504, 'essentially': 1523, 'darker': 1116, '1960s': 15, 'giant': 1905, 'flying': 1764, 'literally': 2622, 'energy': 1478, 'versions': 4721, 'godzilla': 1929, 'notorious': 3051, 'monsters': 2893, 'nearly': 2981, 'ludicrous': 2685, 'promising': 3433, 'tension': 4404, 'main': 2707, 'mill': 2845, 'pretty': 3384, 'develops': 1226, 'color': 877, 'views': 4742, 'location': 2635, 'canadian': 667, 'magnificent': 2705, 'anthony': 253, 'mann': 2728, 'locations': 2636, 'filmed': 1717, 'stewart': 4184, 'fighting': 1709, 'murdered': 2940, 'ruth': 3763, 'roman': 3731, 'ambitious': 211, 'helped': 2080, 'winter': 4900, 'traditional': 4550, 'bat': 410, 'german': 1896, 'holding': 2130, 'meeting': 2794, 'inspector': 2299, 'douglas': 1334, 'recent': 3566, 'six': 4010, 'victims': 4730, 'weeks': 4839, 'blood': 512, 'deaths': 1142, 'convinced': 984, 'tales': 4357, 'meanwhile': 2785, 'solve': 4060, 'pictures': 3270, 'frankly': 1823, 'edward': 1426, 'jr': 2423, 'basic': 406, 'focuses': 1768, 'incompetent': 2266, 'crisis': 1060, 'majority': 2712, 'attempts': 343, 'exciting': 1563, 'excuse': 1564, '1933': 12, 'bland': 500, 'kong': 2494, 'holds': 2131, 'shoot': 3942, 'atmosphere': 333, 'scares': 3806, 'dark': 1115, 'european': 1530, 'technically': 4382, 'compare': 911, 'remotely': 3623, 'alright': 198, 'suppose': 4305, 'draw': 1349, 'attention': 345, 'speaking': 4095, 'fay': 1674, 'icon': 2211, 'bore': 540, 'reasonably': 3559, 'japan': 2381, 'cringe': 1059, 'harsh': 2040, 'international': 2326, 'tone': 4517, 'continue': 969, 'sides': 3967, 'spoke': 4125, 'dialog': 1232, 'delivery': 1173, 'reviewer': 3677, 'encounter': 1466, 'serious': 3891, 'books': 536, 'fooled': 1780, 'drag': 1342, 'average': 362, 'caused': 724, 'reviewers': 3678, 'trade': 4547, 'warm': 4794, 'dancing': 1107, 'henry': 2084, 'thomas': 4458, 'baby': 376, 'woods': 4935, 'instantly': 2306, 'support': 4303, 'keeping': 2450, 'thinks': 4454, 'determined': 1221, 'walk': 4775, 'charming': 768, 'hills': 2109, 'minded': 2850, 'folk': 1770, 'minimum': 2856, 'brief': 579, 'pointed': 3317, 'safe': 3771, 'master': 2757, 'achievement': 94, 'chinese': 796, 'ghost': 1902, 'china': 795, 'mysterious': 2955, 'castle': 712, 'warriors': 4803, 'meet': 2793, 'demon': 1177, 'devil': 1228, 'souls': 4080, 'ghosts': 1903, 'fall': 1637, 'break': 569, 'rule': 3753, 'protagonists': 3442, 'happiness': 2031, 'masterpieces': 2760, 'visuals': 4759, 'willing': 4889, 'breath': 573, 'camera': 659, 'moving': 2928, 'fairy': 1632, 'tale': 4353, 'stunts': 4246, 'gratuitous': 1961, 'motion': 2913, 'freedom': 1828, 'larger': 2519, 'touching': 4536, 'shallow': 3917, 'occasionally': 3075, 'deep': 1154, 'genuine': 1891, 'thus': 4486, 'irritating': 2359, 'sadly': 3769, 'tend': 4400, 'easy': 1410, 'challenging': 744, 'maker': 2714, 'necessary': 2984, 'scripts': 3836, 'otherwise': 3137, 'eastern': 1408, 'hopefully': 2157, 'hong': 2149, 'wayne': 4821, 'hardly': 2036, 'choice': 797, 'cultural': 1078, 'intentions': 2321, 'bull': 619, 'persona': 3239, 'accomplished': 87, 'task': 4368, 'duke': 1383, 'facial': 1619, 'expressions': 1603, 'subtle': 4260, 'authority': 360, 'political': 3324, 'intrigue': 2333, 'battles': 415, 'research': 3644, 'choreographed': 801, 'authentic': 358, 'costume': 1005, 'props': 3439, 'detailed': 1218, 'romance': 3732, 'extra': 1606, 'becoming': 435, 'effort': 1432, 'lengthy': 2570, 'translation': 4562, 'anyway': 261, 'dressing': 1359, 'unlike': 4670, 'efforts': 1433, 'songs': 4072, 'heavy': 2070, 'anti': 254, 'communist': 907, 'compared': 912, 'tune': 4602, 'ford': 1789, 'captures': 678, 'fonda': 1777, 'emphasis': 1463, 'americans': 214, 'indians': 2275, 'creativity': 1042, 'nation': 2969, 'amongst': 218, 'tall': 4362, 'lawyer': 2541, 'lincoln': 2608, 'capturing': 679, 'essence': 1521, 'considered': 951, 'balance': 387, 'forms': 1801, 'showing': 3958, 'warming': 4795, 'mary': 2751, 'todd': 4510, 'tribute': 4581, 'widely': 4881, 'government': 1948, 'crap': 1031, 'blonde': 511, 'loving': 2675, 'game': 1864, 'sky': 4017, 'mission': 2870, 'worker': 4942, 'brown': 601, 'jean': 2389, 'simmons': 3981, 'summary': 4290, 'mixed': 2877, 'pulling': 3463, 'dance': 1103, 'girlfriend': 1910, 'numbers': 3061, 'definite': 1161, 'highlights': 2104, 'stuck': 4237, 'gangsters': 1869, 'catching': 716, 'dances': 1106, 'length': 2569, 'bela': 450, 'finding': 1727, 'murderer': 2941, 'felix': 1689, 'realizes': 3554, 'possibilities': 3348, 'others': 3136, 'fights': 1710, 'chaos': 755, 'extreme': 1609, 'male': 2719, 'beast': 422, 'altogether': 202, 'fear': 1676, 'themes': 4434, 'examples': 1554, 'chair': 742, 'green': 1971, 'mile': 2842, '1999': 27, 'entry': 1504, 'inventive': 2341, 'boot': 538, 'youd': 4987, 'ride': 3692, 'known': 2492, 'prisoners': 3403, 'ass': 323, 'treated': 4573, 'innovative': 2295, 'hands': 2020, 'jackson': 2375, '2001': 31, '2003': 33, 'highly': 2105, 'skill': 4013, 'eastwood': 1409, 'bone': 533, 'likable': 2598, 'minute': 2858, 'yourself': 4993, 'lack': 2502, 'rights': 3697, 'honesty': 2148, 'aids': 161, 'balls': 390, 'redemption': 3578, 'slasher': 4020, 'overlooked': 3154, 'usa': 4691, '1980s': 21, 'whilst': 4869, 'win': 4892, 'blowing': 515, '13': 4, 'passing': 3204, 'hour': 2176, 'documentary': 1307, 'stated': 4161, 'recall': 3562, 'began': 441, 'nature': 2975, 'study': 4242, 'necessarily': 2983, 'anybody': 257, 'steal': 4170, 'gold': 1932, 'national': 2970, 'countries': 1013, 'corruption': 1002, 'slowly': 4032, 'essential': 1522, 'credit': 1049, 'entertainment': 1500, 'artistic': 308, 'morgan': 2905, 'freeman': 1829, 'whats': 4860, 'afford': 138, 'hire': 2116, 'eight': 1436, 'motivation': 2914, 'los': 2653, 'angeles': 233, 'load': 2631, 'wed': 4835, 'target': 4366, 'sell': 3871, 'dvds': 1392, 'ten': 4399, 'express': 1600, 'lane': 2515, 'bears': 421, 'resemblance': 3645, 'writing': 4971, 'convey': 982, 'mummy': 2937, 'huh': 2187, 'ignore': 2224, 'fast': 1661, 'shorts': 3948, 'personal': 3240, 'confused': 941, 'convince': 983, 'sits': 4006, 'slow': 4031, 'builds': 617, 'storyline': 4208, 'cliche': 843, 'york': 4985, 'commercial': 902, 'notion': 3050, 'treats': 4575, 'honestly': 2147, 'notable': 3041, 'intense': 2316, 'bigger': 479, 'lights': 2597, 'served': 3894, 'ocean': 3079, 'landing': 2512, 'count': 1010, 'longer': 2645, 'wind': 4893, 'reminded': 3619, 'creating': 1039, 'area': 286, 'delivered': 1170, 'overly': 3155, 'melodramatic': 2798, 'nonsensical': 3031, 'carrying': 701, 'marriage': 2743, 'hadnt': 2004, 'busy': 635, 'distracting': 1297, 'odd': 3080, 'decided': 1149, 'pushed': 3478, 'stilted': 4190, 'glimpse': 1919, 'unfortunately': 4654, 'fed': 1682, 'stretched': 4222, 'vivid': 4760, 'scenario': 3808, 'east': 1407, 'separate': 3883, 'rolled': 3729, 'picked': 3266, 'mentions': 2813, 'featured': 1679, 'enjoying': 1487, 'appeared': 276, 'inane': 2258, 'wow': 4962, 'weakest': 4825, 'points': 3319, 'chain': 741, 'sequences': 3888, 'hurt': 2202, 'originality': 3130, 'newly': 3004, 'accident': 84, 'prostitute': 3440, 'easier': 1405, 'sleep': 4024, 'acts': 107, 'dialogues': 1235, 'effective': 1429, 'flawless': 1751, 'transformation': 4560, 'sensitive': 3879, 'naturally': 2974, 'admire': 121, 'partly': 3197, 'industry': 2280, 'warrior': 4802, 'samurai': 3779, 'strongly': 4231, 'word': 4937, 'waiting': 4772, 'expecting': 1578, 'epic': 1506, 'disappointment': 1275, 'random': 3514, 'building': 615, 'occasion': 3073, 'wondering': 4930, 'progresses': 3426, 'robin': 3715, 'williams': 4888, 'dragged': 1343, 'obsessed': 3069, 'truth': 4599, '14': 6, 'lying': 2690, 'plausible': 3295, 'explanation': 1590, 'direct': 1258, 'unknown': 4668, 'members': 2801, 'testament': 4417, 'brings': 587, 'ian': 2209, 'bucks': 606, 'granted': 1957, 'flicks': 1755, 'skin': 4015, 'equal': 1509, 'female': 1693, 'berlin': 467, 'astaire': 330, 'rogers': 3725, 'unusual': 4681, 'leaving': 2557, 'record': 3573, 'basis': 408, 'fred': 1825, 'matters': 2770, 'lyrics': 2692, 'bottle': 550, 'titles': 4506, 'piano': 3264, 'composed': 926, 'johnny': 2410, 'perform': 3227, 'putting': 3482, 'ultimate': 4627, 'ii': 2226, 'team': 4378, 'scott': 3824, 'water': 4816, 'gun': 1996, 'answer': 251, 'gore': 1941, 'meaningless': 2782, 'technical': 4381, 'spanish': 4092, 'return': 3665, 'audio': 354, 'plan': 3287, 'jail': 2376, 'everybody': 1540, 'sam': 3777, 'italian': 2367, 'welcome': 4842, 'rob': 3710, 'william': 4887, 'macy': 2695, 'jennifer': 2392, 'george': 1893, 'wishes': 4906, 'mostly': 2910, 'humble': 2191, 'criminals': 1058, 'cop': 991, 'presents': 3377, 'chase': 769, 'eventually': 1537, 'pants': 3182, 'alan': 171, 'luck': 2681, 'pacing': 3163, 'editing': 1421, 'post': 3352, 'killings': 2473, 'captivating': 675, '40': 48, 'evident': 1547, 'stands': 4147, 'lovers': 2673, 'lynch': 2691, 'supernatural': 4302, 'journey': 2421, 'civil': 826, 'satisfying': 3791, 'lighting': 2596, 'references': 3583, 'trail': 4553, 'occur': 3076, 'attack': 337, 'destruction': 1216, 'executed': 1565, 'lawrence': 2539, 'resident': 3647, 'massacre': 2754, 'army': 295, 'quality': 3484, 'major': 2711, 'glory': 1922, 'fiction': 1702, 'follows': 1775, 'notice': 3048, 'curiosity': 1082, 'african': 142, 'arms': 294, 'slave': 4022, 'jake': 2377, 'blacks': 494, 'including': 2264, 'suspect': 4327, 'rebel': 3561, 'raised': 3508, 'mass': 2753, 'fame': 1642, 'troops': 4591, 'critical': 1062, 'historical': 2119, 'errors': 1516, 'der': 1191, 'burned': 626, 'brain': 562, 'theyll': 4444, 'page': 3167, 'la': 2500, 'near': 2979, 'nor': 3032, 'poignant': 3315, 'seven': 3903, 'corpse': 999, 'sounds': 4084, 'halfway': 2008, 'virtually': 4751, 'draws': 1352, 'super': 4295, 'cameras': 660, 'rival': 3706, 'fulci': 1845, 'gory': 1943, 'places': 3284, 'crude': 1069, 'smile': 4036, 'makers': 2715, 'chosen': 805, 'wonderfully': 4929, 'detail': 1217, 'ie': 2221, 'settings': 3901, 'finest': 1730, 'health': 2060, 'types': 4622, '30s': 44, 'starring': 4154, 'stole': 4194, 'mexican': 2826, 'bird': 484, 'quotes': 3497, 'appreciated': 280, 'uk': 4626, 'cousin': 1021, 'uncle': 4636, 'redeeming': 3577, 'recognized': 3570, 'france': 1816, 'carrie': 697, 'fury': 1855, 'mentioning': 2812, 'hitchcock': 2123, 'kill': 2468, 'museum': 2945, 'key': 2458, 'inevitably': 2283, 'shower': 3957, 'rip': 3700, 'generous': 1886, 'alongside': 196, 'sisters': 4002, 'previously': 3388, 'filmmaker': 1719, 'expert': 1585, 'sophisticated': 4075, 'front': 1841, '1980': 20, 'formulaic': 1803, 'sole': 4055, 'police': 3322, 'prove': 3445, 'innocence': 2293, 'opening': 3114, 'superbly': 4297, 'figures': 1713, 'soft': 4051, 'nancy': 2964, 'allen': 188, 'approach': 282, 'conceived': 929, 'tom': 4514, 'global': 1920, 'aspects': 322, 'woody': 4936, 'laughing': 2533, 'aging': 153, 'comedies': 889, 'adaptation': 113, 'chose': 804, 'ridiculously': 3694, 'novel': 3052, 'dickens': 1240, 'mid': 2832, 'bbc': 417, 'notes': 3046, 'nightmare': 3014, 'constantly': 958, 'uncomfortable': 4637, 'bleak': 503, 'tarzan': 4367, 'ape': 266, 'forty': 1807, 'crocodile': 1065, 'machine': 2693, 'rolling': 3730, 'jaws': 2385, 'wearing': 4831, 'friendly': 1836, 'ears': 1402, 'attached': 336, 'heads': 2059, 'join': 2412, 'elephant': 1444, 'shoots': 3944, 'returns': 3668, 'clothes': 860, 'movement': 2923, 'swim': 4337, 'hip': 2114, 'hang': 2022, 'stay': 4166, 'cities': 823, 'drivel': 1364, 'vaguely': 4706, 'teacher': 4375, 'wacky': 4769, 'lust': 2689, 'dreadful': 1353, 'ashley': 313, 'ruby': 3749, 'understated': 4646, 'appreciate': 279, 'kiss': 2483, 'box': 555, 'gift': 1906, 'thanks': 4423, 'miss': 2866, 'sitting': 4007, 'pleasant': 3302, 'legs': 2566, 'third': 4455, 'fourth': 1813, 'demands': 1175, 'kurt': 2499, 'russell': 3761, 'cameron': 661, 'pace': 3161, 'walks': 4780, 'square': 4136, 'shocked': 3939, 'explored': 1595, 'revelation': 3674, 'kung': 2498, 'fu': 1844, 'kinds': 2478, 'drunken': 1376, 'deadly': 1133, 'dad': 1095, 'gotten': 1947, 'ran': 3513, 'jumped': 2430, 'onto': 3111, 'pre': 3365, 'helen': 2075, 'curious': 1083, 'minds': 2852, 'process': 3412, 'unsettling': 4679, 'behavior': 446, 'outcome': 3142, 'group': 1980, 'adults': 126, 'smart': 4035, '90': 60, 'painful': 3171, 'site': 4005, 'lowest': 2678, 'hundreds': 2196, 'contrast': 975, 'horribly': 2164, 'entirely': 1503, 'source': 4086, 'passionate': 3206, 'scientist': 3818, 'scientists': 3819, 'interpretation': 2328, 'literature': 2623, '1990s': 25, 'atrocious': 335, 'introduce': 2336, 'handful': 2017, 'principal': 3398, 'adapted': 114, 'zombie': 4997, 'appearing': 277, 'zombies': 4998, 'grave': 1962, 'matthew': 2772, 'darkness': 1117, 'degree': 1164, 'lacking': 2504, 'accused': 91, 'taste': 4369, 'recording': 3575, 'juvenile': 2441, 'whatsoever': 4861, 'drawing': 1350, 'ellen': 1446, 'april': 284, 'artist': 307, 'studio': 4240, 'blockbuster': 509, 'senseless': 3878, 'rubbish': 3748, 'produce': 3413, 'appalling': 268, 'assume': 328, 'vegas': 4717, 'diane': 1238, 'proves': 3447, 'harvey': 2042, 'ashamed': 312, 'supposedly': 4307, 'hunt': 2198, 'acid': 95, 'traveling': 4568, 'radio': 3504, 'virgin': 4749, 'jesus': 2399, 'magical': 2704, 'flashbacks': 1747, 'hurts': 2203, 'ya': 4976, 'unless': 4669, 'wasting': 4810, 'backgrounds': 381, 'abc': 63, 'gain': 1863, 'brothers': 599, 'loser': 2655, 'winning': 4898, 'refreshing': 3586, 'sign': 3970, 'online': 3109, 'lips': 2615, 'public': 3460, 'football': 1783, 'nowhere': 3056, 'hits': 2125, 'catch': 714, 'strip': 4228, 'screaming': 3827, 'manner': 2729, 'remarkably': 3614, 'psychotic': 3459, 'rage': 3505, 'credibility': 1047, 'wounded': 4961, 'cold': 872, 'mini': 2854, 'miles': 2843, 'climax': 849, 'worried': 4949, 'cake': 648, 'sports': 4130, 'players': 3299, 'succeed': 4262, 'street': 4216, 'thugs': 4484, 'achieve': 92, 'struggle': 4234, 'training': 4558, 'till': 4493, 'korean': 2495, 'drew': 1360, 'introduced': 2337, 'growing': 1983, 'hardy': 2037, 'subsequent': 4257, 'thick': 4447, 'warner': 4799, 'suit': 4284, 'fashion': 1659, 'quirky': 3493, 'remains': 3611, 'river': 3707, 'heights': 2073, 'mom': 2885, 'cameo': 657, 'aunt': 355, 'shop': 3945, 'reactions': 3542, 'environment': 1505, 'trust': 4598, 'owner': 3159, 'suspicious': 4332, 'circumstances': 822, 'food': 1778, 'adventure': 130, 'ned': 2986, 'max': 2774, 'hiding': 2099, 'activities': 102, 'scooby': 3820, 'doo': 1325, 'minimal': 2855, 'explosions': 1597, 'alert': 178, 'generation': 1883, 'extent': 1605, 'animal': 239, 'undoubtedly': 4648, 'note': 3044, 'belief': 451, 'hear': 2061, 'bobby': 525, 'leg': 2562, 'moral': 2902, 'individuals': 2278, 'morality': 2903, 'cases': 708, 'dignity': 1252, 'integrity': 2311, 'tedious': 4387, 'pack': 3165, 'genuinely': 1892, 'matt': 2768, 'eye': 1611, 'candy': 668, 'striking': 4226, 'similarities': 3979, 'favourite': 1673, 'kidding': 2465, 'caine': 647, 'miller': 2846, 'frustrated': 1842, 'blake': 498, 'detective': 1220, 'colorful': 878, 'alfred': 181, 'nights': 3016, 'soap': 4047, 'somewhere': 4069, 'villains': 4745, 'ron': 3734, 'letting': 2583, 'push': 3477, 'ugly': 4625, 'miserable': 2863, 'instant': 2305, 'attraction': 350, 'realise': 3548, 'concerned': 932, 'miscast': 2862, 'million': 2847, 'dollars': 1315, 'citizen': 824, 'advice': 133, 'shoes': 3941, 'affair': 135, 'critic': 1061, 'barely': 399, 'costs': 1004, 'months': 2897, 'argument': 291, 'agreed': 156, 'strength': 4219, 'pull': 3461, 'rat': 3525, 'boat': 523, 'captain': 674, 'bothered': 549, 'begin': 442, 'gags': 1862, 'involve': 2345, 'toward': 4539, 'harder': 2035, 'spain': 4091, 'tremendous': 4579, 'chooses': 800, 'religion': 3607, 'protect': 3443, 'innocent': 2294, 'carol': 693, '20th': 38, 'contain': 962, 'stinks': 4192, 'mel': 2796, 'brooks': 596, 'productions': 3420, 'homeless': 2143, 'month': 2896, 'fancy': 1649, 'warren': 4801, 'tricks': 4583, 'learned': 2551, 'earlier': 1399, 'pays': 3218, 'homage': 2141, 'charles': 764, 'chaplin': 756, 'brosnan': 597, 'golden': 1934, 'prior': 3400, 'turning': 4608, 'annie': 247, 'grey': 1973, 'photography': 3260, 'forest': 1791, 'photo': 3257, 'kissing': 2484, 'ups': 4686, 'north': 3036, 'survival': 4320, '1930s': 11, 'offering': 3089, 'elizabeth': 1445, 'opened': 3113, 'improvement': 2256, 'religious': 3608, 'criticism': 1063, 'politically': 3325, 'correct': 1000, 'rarely': 3524, 'scare': 3803, 'legend': 2564, 'santa': 3783, 'dangerous': 1110, 'absurd': 73, 'open': 3112, 'advise': 134, 'increasingly': 2268, 'wondered': 4927, 'aimed': 162, 'subplots': 4256, 'grade': 1951, 'banned': 395, 'germany': 1898, 'slight': 4027, 'satan': 3787, 'buck': 605, 'favor': 1670, 'lucas': 2680, 'cabin': 643, 'guns': 1998, 'teach': 4374, 'stayed': 4167, 'twilight': 4614, 'zone': 4999, 'gothic': 1945, 'edge': 1418, 'neck': 2985, 'san': 3780, 'francisco': 1819, 'thousand': 4465, 'screams': 3828, 'creature': 1045, 'rocky': 3723, 'chief': 788, 'drawn': 1351, 'dawn': 1127, 'lover': 2672, '24': 39, 'popcorn': 3331, 'calm': 655, 'cgi': 740, 'gray': 1963, 'alive': 186, 'placed': 3283, 'witnessed': 4915, 'assault': 324, 'jumps': 2432, 'floor': 1759, 'flies': 1756, 'laws': 2540, 'rough': 3741, 'killers': 2471, 'wives': 4918, 'rated': 3527, 'worthwhile': 4955, 'olivier': 3103, 'cary': 706, 'plans': 3292, 'blown': 516, 'countless': 1012, 'explosion': 1596, 'thin': 4449, 'entertain': 1497, '1940s': 13, 'highlight': 2103, 'sounded': 4082, 'excessive': 1560, 'monster': 2892, 'angry': 238, 'destroying': 1215, 'hint': 2112, 'outrageous': 3145, 'logic': 2638, 'rendition': 3625, 'classics': 837, 'intention': 2319, 'relevant': 3604, 'contemporary': 965, 'abysmal': 76, 'talents': 4356, 'passion': 3205, 'deserved': 1200, 'technique': 4383, 'competent': 917, 'held': 2074, 'angles': 237, 'professional': 3421, 'confusing': 942, 'clever': 841, 'merit': 2816, 'garbage': 1870, 'range': 3516, 'campy': 664, 'dubbing': 1380, 'overdone': 3152, 'camp': 662, 'confusion': 943, 'lies': 2591, 'guarantee': 1987, 'families': 1644, 'husbands': 2205, 'facing': 1620, 'daily': 1097, 'wished': 4905, 'roy': 3745, 'cliff': 847, 'match': 2762, 'hot': 2174, 'martin': 2748, 'specific': 4099, 'soldier': 4053, 'gripping': 1976, 'tense': 4403, 'wit': 4908, 'gary': 1873, 'climactic': 848, 'terry': 4415, 'fatal': 1664, 'thousands': 4466, 'solely': 4056, 'earl': 1398, 'jones': 2418, 'seat': 3845, 'hoping': 2160, 'seasons': 3844, 'relative': 3599, 'revolution': 3680, 'stunning': 4244, 'bar': 396, 'hole': 2132, 'built': 618, 'species': 4098, 'risk': 3704, 'visible': 4753, 'space': 4090, 'doom': 1326, 'service': 3896, 'ourselves': 3140, 'pretend': 3381, 'bear': 420, 'eat': 1411, 'presentation': 3375, 'plant': 3293, 'tree': 4576, 'closed': 854, '25': 40, 'prepared': 3371, 'racial': 3501, 'lose': 2654, 'week': 4837, 'coherent': 871, 'sexy': 3911, 'ball': 388, 'accurate': 90, 'daddy': 1096, 'summer': 4291, 'dimensional': 1253, 'vampires': 4712, 'unpredictable': 4675, 'lesbian': 2573, 'closer': 856, 'zero': 4996, 'burn': 625, 'walking': 4779, 'videos': 4734, 'messed': 2821, 'rotten': 3740, 'tomatoes': 4515, 'discover': 1279, 'useless': 4695, 'paid': 3169, 'fashioned': 1660, 'cuba': 1075, 'triumph': 4590, 'niro': 3019, 'billy': 482, 'sunday': 4293, 'feet': 1688, 'stick': 4185, 'learning': 2552, 'listen': 2619, 'foreign': 1790, 'laughed': 2532, 'absolute': 71, 'tea': 4373, 'table': 4346, 'monkey': 2890, 'jerry': 2396, 'sit': 4003, 'daniel': 1111, 'craig': 1030, 'brand': 565, 'reflect': 3584, 'advanced': 128, 'sean': 3840, 'catherine': 719, 'aint': 163, 'explicit': 1591, 'foul': 1810, 'dialogs': 1233, 'heck': 2071, 'blew': 505, 'hyde': 2206, 'carried': 698, 'weight': 4840, 'forgive': 1795, 'nine': 3017, 'hearing': 2063, 'base': 402, 'futuristic': 1857, 'wolf': 4920, 'inducing': 2279, 'claim': 828, 'land': 2511, 'captured': 677, 'prisoner': 3402, 'rex': 3683, 'offer': 3087, 'motives': 2916, 'dinosaurs': 1256, 'sounding': 4083, 'idiotic': 2219, 'ultimately': 4628, 'graphic': 1958, 'cardboard': 682, 'decisions': 1152, 'selfish': 3870, 'heroic': 2090, 'exists': 1573, 'eaten': 1412, 'holes': 2133, 'features': 1680, 'splatter': 4118, 'attacked': 338, 'dinosaur': 1255, 'lower': 2677, 'statement': 4162, 'musicals': 2948, 'proceeds': 3411, 'shall': 3916, 'courage': 1018, 'member': 2800, 'window': 4894, 'fascinated': 1657, 'signs': 3973, 'hearted': 2065, 'leaves': 2556, 'insight': 2298, '50': 51, 'visual': 4757, 'cutting': 1092, 'forth': 1804, 'desperate': 1208, 'revolves': 3682, 'believes': 456, 'media': 2789, 'orange': 3125, 'attacks': 339, 'comics': 895, 'bands': 392, 'weapon': 4828, 'description': 1197, 'punk': 3468, 'secondly': 3847, 'endings': 1472, 'solid': 4057, 'properly': 3437, 'graphics': 1959, 'scientific': 3817, 'provides': 3450, 'germans': 1897, 'horrid': 2165, 'plain': 3286, 'nazi': 2977, 'propaganda': 3435, 'prize': 3405, 'ages': 152, 'remote': 3622, 'festival': 1697, 'sir': 4000, 'ben': 463, 'map': 2733, 'veteran': 4724, 'capable': 672, 'crew': 1053, 'alike': 185, 'exposure': 1599, 'anna': 245, 'reduced': 3579, 'farm': 1656, 'board': 522, 'ridden': 3691, 'spoken': 4126, 'led': 2558, 'multi': 2935, 'serial': 3889, 'alex': 179, 'paris': 3189, 'plots': 3310, 'pokemon': 3320, 'disturbed': 1299, 'advertising': 132, 'goofy': 1939, 'alternate': 200, 'humanity': 2189, 'flesh': 1753, 'door': 1328, 'neighbor': 2992, 'neighbors': 2994, 'factory': 1623, 'rescue': 3643, 'hopes': 2159, 'lady': 2507, 'garden': 1872, 'guessed': 1990, 'guilty': 1995, 'bomb': 531, 'starred': 4153, 'sappy': 3784, 'sentimental': 3882, 'adam': 111, 'stress': 4220, 'pass': 3201, 'basketball': 409, 'morning': 2906, 'amazed': 208, 'respect': 3652, 'fx': 1858, 'nicely': 3009, 'abusive': 75, 'unable': 4631, 'self': 3869, 'defense': 1159, 'locked': 2637, 'via': 4726, 'trite': 4589, '1984': 23, 'steven': 4182, 'wisdom': 4902, 'peoples': 3222, 'portray': 3340, 'historically': 2120, 'goal': 1925, 'church': 813, 'designed': 1203, 'works': 4945, 'projects': 3428, 'significant': 3972, 'event': 1535, 'mental': 2808, 'sympathetic': 4342, 'joseph': 2419, 'regarding': 3589, 'familys': 1646, 'involvement': 2347, 'wrestling': 4966, 'purpose': 3474, 'sent': 3880, 'imagery': 2234, 'dancers': 1105, 'fix': 1744, 'grinch': 1975, 'lucky': 2683, 'fill': 1714, 'ought': 3138, 'orson': 3132, 'welles': 4844, 'rural': 3758, 'charge': 761, 'twin': 4615, 'charlie': 765, 'hearts': 2066, 'belong': 459, 'jobs': 2406, 'commit': 904, 'beneath': 464, 'sutherland': 4333, 'equally': 1510, 'corrupt': 1001, 'fbi': 1675, 'agent': 150, 'state': 4160, 'grim': 1974, 'endure': 1475, 'aka': 168, 'simplicity': 3984, 'witty': 4917, 'spy': 4135, 'struck': 4232, 'endearing': 1469, 'messages': 2820, 'persons': 3244, 'proved': 3446, 'revealing': 3672, 'australia': 356, 'aid': 160, 'likely': 2601, 'bet': 470, 'operation': 3117, 'mechanical': 2788, 'court': 1020, 'condition': 937, 'hollow': 2135, 'doors': 1329, 'holmes': 2139, 'drug': 1373, 'vice': 4727, 'seventies': 3904, 'sum': 4289, 'montage': 2894, 'clean': 838, 'ground': 1979, 'seeking': 3859, 'tony': 4521, 'butt': 638, 'meaning': 2780, 'initial': 2290, 'sudden': 4272, 'airplane': 166, 'flight': 1757, 'orders': 3127, 'plane': 3288, 'united': 4664, 'manhattan': 2726, 'sons': 4073, 'fathers': 1667, 'equipment': 1511, 'trapped': 4564, 'kevin': 2457, 'duty': 1390, 'hitting': 2126, 'smoke': 4039, 'department': 1182, 'results': 3662, 'knowing': 2490, 'overwhelming': 3157, 'believed': 455, 'ranks': 3519, 'unfolds': 4651, 'ratings': 3530, 'selling': 3873, 'album': 175, 'jimmy': 2403, 'cagney': 646, 'dick': 1239, 'ear': 1397, 'chorus': 803, 'trademark': 4548, 'elaborate': 1439, 'obsession': 3070, 'theaters': 4428, 'corporate': 998, 'adorable': 124, 'celluloid': 731, 'del': 1165, 'exotic': 1574, 'trilogy': 4586, 'adventures': 131, 'thrill': 4471, 'appearance': 274, 'stops': 4203, 'swedish': 4335, 'asleep': 320, 'interview': 2329, 'georges': 1894, 'connect': 944, 'rising': 3703, 'witches': 4910, 'disappear': 1270, 'guessing': 1991, 'topless': 4527, 'educational': 1425, 'false': 1641, 'photographed': 3258, 'discussion': 1284, 'driven': 1365, 'davis': 1126, 'consistently': 954, 'flaw': 1749, 'frequent': 1831, 'campbell': 663, 'exceptionally': 1559, 'aspect': 321, 'collection': 874, '1970s': 17, 'clown': 862, 'pearl': 3220, 'norman': 3035, 'ties': 4490, 'dennis': 1179, 'jaw': 2384, 'dropping': 1371, 'nazis': 2978, 'proud': 3444, 'trial': 4580, 'disbelief': 1277, 'steel': 4173, 'blatant': 502, 'highest': 2102, 'potentially': 3356, 'cheese': 780, 'finished': 1733, 'dealing': 1136, 'bright': 581, 'sin': 3988, 'snow': 4045, 'soldiers': 4054, 'returning': 3667, 'iraq': 2351, 'raw': 3532, 'vietnam': 4735, 'returned': 3666, 'suffered': 4276, 'date': 1118, 'prom': 3429, 'terrifying': 4410, 'dave': 1123, 'fully': 1847, 'realized': 3553, 'careers': 687, 'wars': 4804, 'opens': 3115, 'reflection': 3585, 'amazingly': 210, '60s': 54, 'credits': 1050, 'twins': 4616, 'listed': 2618, 'involves': 2348, 'dracula': 1341, 'realizing': 3555, 'drinking': 1362, 'cure': 1081, 'jerk': 2395, 'pulled': 3462, 'refuses': 3587, 'mansion': 2731, 'swimming': 4338, 'pool': 3327, 'medical': 2790, 'arrogant': 303, 'cops': 993, 'lazy': 2543, 'le': 2544, 'pop': 3330, 'inevitable': 2282, 'atmospheric': 334, 'normally': 3034, 'exposed': 1598, 'incoherent': 2265, 'primary': 3394, 'teachers': 4376, 'crying': 1074, 'notch': 3043, 'lie': 2590, 'breasts': 572, 'bay': 416, '1968': 16, 'disease': 1285, 'losing': 2658, 'colonel': 876, 'eighties': 1437, 'hundred': 2195, 'ability': 65, 'rubber': 3747, 'twists': 4619, 'awake': 365, 'irrelevant': 2358, 'ship': 3934, 'friday': 1834, 'fitting': 1742, 'numerous': 3062, 'lousy': 2667, 'print': 3399, 'dubbed': 1379, 'dub': 1378, 'fits': 1741, 'babe': 375, 'pops': 3332, 'opera': 3116, 'thrown': 4481, 'vague': 4705, 'editor': 1423, 'crack': 1027, 'opinions': 3119, 'amitabh': 216, 'akshay': 169, 'carries': 699, 'avoided': 364, 'briefly': 580, 'reminiscent': 3621, 'hed': 2072, 'tonight': 4519, 'holiday': 2134, 'lonely': 2643, 'wrap': 4963, 'hasnt': 2044, 'stays': 4169, 'enter': 1494, 'dealt': 1138, 'soccer': 4048, 'unfortunate': 4653, 'inspiration': 2300, 'initially': 2291, 'regret': 3591, 'seagal': 3839, 'comparison': 914, 'lab': 2501, 'stevens': 4183, 'prevent': 3385, 'yelling': 4980, 'speed': 4103, 'lone': 2642, 'bang': 393, 'kicking': 2462, 'size': 4012, 'nonsense': 3030, 'underground': 4640, 'scale': 3802, 'anne': 246, 'hall': 2009, 'rooms': 3736, 'author': 359, 'che': 773, 'border': 539, 'boredom': 542, 'disappointing': 1274, 'cup': 1080, 'hood': 2151, 'meaningful': 2781, 'monkeys': 2891, 'wore': 4939, 'remaining': 3610, 'boom': 537, 'mistaken': 2872, 'oil': 3097, 'centers': 734, 'horrors': 2169, 'spoilers': 4124, 'picking': 3267, 'semi': 3874, 'ha': 2002, 'skip': 4016, 'falk': 1636, 'slightest': 4028, 'formula': 1802, 'proceedings': 3410, 'plague': 3285, 'dollar': 1314, 'everywhere': 1545, 'commentary': 899, 'advance': 127, 'werewolf': 4850, 'glass': 1917, 'dentist': 1180, 'expression': 1602, 'makeup': 2717, 'mafia': 2700, 'shirt': 3937, 'dude': 1381, 'presumably': 3380, 'sleeping': 4025, 'wreck': 4965, 'moon': 2900, 'hardcore': 2034, 'string': 4227, 'wandering': 4785, 'inept': 2281, 'phantom': 3251, 'doctors': 1305, 'impression': 2252, 'calls': 654, 'experiment': 1583, 'mst3k': 2932, 'franco': 1820, 'prime': 3395, 'sixties': 4011, 'lately': 2524, 'performs': 3234, 'dozens': 1339, 'obscure': 3068, 'noted': 3045, 'worry': 4950, 'mistakes': 2873, 'kudos': 2497, 'beat': 423, 'albert': 174, 'tim': 4494, 'peters': 3248, 'victor': 4731, 'johnson': 2411, 'sucked': 4270, 'accent': 78, 'consistent': 953, 'nose': 3037, 'influence': 2286, 'solo': 4058, 'speech': 4102, 'delight': 1167, 'surfing': 4311, 'robot': 3717, 'furthermore': 1854, 'bullets': 621, 'staying': 4168, 'gay': 1876, 'hype': 2207, 'apes': 267, 'race': 3499, 'product': 3418, 'population': 3335, 'meat': 2787, 'conspiracy': 956, 'powers': 3361, 'civilization': 827, 'regard': 3588, 'grasp': 1960, 'mars': 2746, 'delivers': 1172, 'loose': 2650, 'von': 4765, 'theory': 4437, 'frankenstein': 1822, 'measure': 2786, 'chuck': 812, 'cia': 814, 'gag': 1861, 'network': 3000, 'executive': 1567, 'taylor': 4372, 'gene': 1879, 'snl': 4044, 'hill': 2108, 'blues': 519, '18': 10, 'settle': 3902, 'cook': 988, 'section': 3853, 'slapstick': 4019, 'flash': 1745, 'shocking': 3940, 'sends': 3876, 'outer': 3143, 'limits': 2607, 'purchase': 3469, 'response': 3654, 'loss': 2659, 'centered': 733, 'letter': 2581, 'explains': 1589, 'method': 2824, 'handle': 2018, 'object': 3066, 'desperation': 1210, 'connected': 945, 'suffer': 4275, 'consequences': 947, 'immensely': 2243, 'depicting': 1184, 'status': 4165, 'awe': 370, 'indie': 2276, 'iii': 2227, 'edition': 1422, 'classical': 836, 'cd': 728, 'womens': 4924, 'driving': 1368, 'tame': 4363, 'twist': 4617, 'laurel': 2537, 'display': 1291, 'clichéd': 845, 'practically': 3362, 'bath': 411, 'competition': 918, 'philosophy': 3254, 'birth': 486, 'gang': 1867, 'panic': 3181, 'ms': 2931, 'covered': 1023, 'protagonist': 3441, 'teeth': 4393, 'round': 3742, 'pity': 3281, 'rushed': 3760, 'adequate': 120, 'streisand': 4218, 'disc': 1278, 'eager': 1396, 'signed': 3971, 'term': 4405, 'contract': 973, 'variety': 4714, 'broadcast': 591, 'distinct': 1296, 'disneys': 1290, 'alice': 182, 'segment': 3867, 'cleverly': 842, 'irony': 2357, 'sun': 4292, 'introduction': 2339, 'multiple': 2936, 'reminds': 3620, 'swear': 4334, 'crimes': 1056, 'eyre': 1614, 'timothy': 4499, 'dalton': 1098, 'rochester': 3719, 'faithful': 1634, 'charlotte': 766, 'thankfully': 4422, 'design': 1202, 'influenced': 2287, 'choices': 798, 'divorce': 1301, 'taught': 4370, 'cheek': 779, 'heroine': 2091, 'spectacular': 4101, 'texas': 4418, 'cowboy': 1025, 'beer': 439, 'mickey': 2831, 'bergman': 466, 'hamlet': 2013, 'barry': 401, 'argue': 290, 'iran': 2350, 'physical': 3262, 'intellectual': 2312, 'remembered': 3617, 'bollywood': 530, 'brains': 563, 'magazine': 2701, 'anyways': 262, 'sadistic': 3768, 'masses': 2755, 'counter': 1011, 'oliver': 3102, 'mad': 2696, 'describes': 1196, 'technology': 4385, 'cruel': 1070, 'questionable': 3488, 'attitudes': 347, 'path': 3209, 'leading': 2547, 'reporter': 3636, 'americas': 215, 'officer': 3092, 'shadows': 3913, 'styles': 4250, 'originally': 3131, 'pleased': 3305, 'mildly': 2840, 'paced': 3162, 'boss': 546, 'workers': 4943, 'guts': 1999, 'serves': 3895, 'witch': 4909, 'blair': 497, 'lees': 2560, 'actresses': 106, 'julie': 2428, 'received': 3564, 'opportunities': 3120, 'skills': 4014, 'trailers': 4555, 'toilet': 4512, 'grandmother': 1955, 'plight': 3308, 'raising': 3509, 'whenever': 4863, 'poetry': 3314, 'core': 995, 'alcohol': 176, 'poetic': 3313, '16': 8, 'changing': 752, 'terrorists': 4414, 'cuts': 1091, 'weapons': 4829, 'rental': 3627, 'stiller': 4189, 'fallen': 1638, 'jessica': 2398, 'simpson': 3987, 'okay': 3099, 'laughably': 2531, 'heres': 2087, 'eyed': 1612, 'developing': 1224, 'adams': 112, 'hysterical': 2208, 'eccentric': 1414, 'occasional': 3074, 'subtlety': 4261, 'em': 1452, 'military': 2844, 'politics': 3326, 'westerns': 4854, 'voices': 4763, 'hide': 2097, 'pretending': 3382, 'cartoon': 704, 'louis': 2665, 'cartoons': 705, 'universal': 4665, 'loads': 2633, 'dean': 1139, 'demons': 1178, 'gerard': 1895, 'jumping': 2431, 'misses': 2868, 'dear': 1140, 'marketing': 2741, 'plastic': 3294, 'pg': 3250, 'charismatic': 763, 'superhero': 4299, 'goodness': 1938, 'exceptional': 1558, 'conventional': 979, 'companion': 909, 'unlikely': 4671, 'convoluted': 987, 'producing': 3417, 'offended': 3085, 'royal': 3746, 'rick': 3689, 'report': 3635, 'nail': 2957, 'surprises': 4314, 'deliberately': 1166, 'instinct': 2308, 'preview': 3386, 'enjoyment': 1488, 'shouldnt': 3952, 'manager': 2724, 'vacation': 4704, 'bare': 398, 'resist': 3648, '1996': 26, 'resembles': 3646, 'viewings': 4741, 'tears': 4380, 'sorts': 4078, 'india': 2273, 'knowledge': 2491, 'unpleasant': 4674, 'carefully': 689, 'patients': 3212, 'clues': 865, 'journalist': 2420, 'notably': 3042, 'patient': 3211, 'structure': 4233, 'beliefs': 452, 'relation': 3595, 'thoughtful': 4463, 'chilling': 794, 'eerie': 1427, 'liking': 2604, 'hitler': 2124, 'crafted': 1029, 'flashback': 1746, 'sneak': 4043, 'bloody': 513, 'hanks': 2025, 'wendy': 4846, 'pages': 3168, 'symbolism': 4341, 'hoffman': 2128, 'cannibal': 669, 'sold': 4052, 'mediocre': 2791, 'tons': 4520, 'frightening': 1839, 'awfully': 373, 'blade': 495, 'scope': 3821, 'terrorist': 4413, 'pan': 3180, 'ninja': 3018, 'hal': 2006, 'defend': 1158, 'chases': 771, 'clark': 832, 'hatred': 2049, 'martial': 2747, 'arts': 310, 'versus': 4722, 'angel': 231, 'repetitive': 3633, 'subplot': 4255, 'handled': 2019, 'private': 3404, 'nyc': 3065, 'row': 3744, 'rush': 3759, 'compelling': 916, 'modesty': 2883, 'sidekick': 3966, 'novels': 3053, 'wicked': 4879, 'planning': 3291, 'blow': 514, 'pal': 3177, 'sleazy': 4023, 'matched': 2763, 'ignored': 2225, 'directly': 1263, 'vision': 4754, 'eg': 1434, 'serve': 3893, 'stolen': 4195, 'sally': 3776, 'field': 1704, 'speaks': 4096, 'andrews': 229, 'menacing': 2807, 'tie': 4488, 'newspaper': 3006, 'afternoon': 144, 'pulp': 3465, 'territory': 4411, 'raped': 3522, 'cox': 1026, 'streets': 4217, 'neighborhood': 2993, 'fest': 1696, 'responsibility': 3655, 'comedic': 888, 'lasted': 2522, 'entertained': 1498, 'stylish': 4251, 'angela': 232, 'taxi': 4371, 'proof': 3434, 'antics': 255, 'levels': 2585, 'buff': 611, 'brazil': 568, 'deaf': 1134, 'merits': 2817, 'lisa': 2616, 'susan': 4326, 'sandra': 3782, 'karen': 2444, 'mountains': 2918, '2007': 37, 'rules': 3754, 'ice': 2210, 'block': 508, 'faster': 1662, 'embarrassed': 1453, 'transition': 4561, 'regular': 3592, 'elm': 1447, 'cameos': 658, '3d': 46, 'dozen': 1338, 'gundam': 1997, 'anime': 243, 'mainly': 2708, 'card': 681, 'stranger': 4213, 'cell': 730, 'phone': 3255, 'loses': 2657, 'displays': 1293, 'uneven': 4649, 'dare': 1113, 'hints': 2113, 'allow': 189, 'resulting': 3661, 'noble': 3021, 'grows': 1985, 'tortured': 4530, 'junior': 2435, 'dreary': 1356, 'brady': 561, 'murderous': 2942, 'winters': 4901, 'apparent': 269, 'childrens': 793, 'rose': 3739, 'nuclear': 3057, '2002': 32, 'split': 4120, 'revealed': 3671, 'hired': 2117, 'wing': 4896, 'searching': 3842, 'button': 639, 'resort': 3650, 'appreciation': 281, 'restaurant': 3658, 'conversation': 980, '75': 57, 'mindless': 2851, 'gotta': 1946, 'rain': 3506, 'struggles': 4235, 'visit': 4755, 'cats': 721, 'riding': 3695, 'aliens': 184, 'purchased': 3470, 'internet': 2327, 'player': 3298, 'choose': 799, 'sequels': 3886, 'omen': 3104, 'slap': 4018, 'psychic': 3456, 'yeah': 4977, 'miracle': 2860, 'smoking': 4040, 'mob': 2879, 'brenda': 575, 'neo': 2998, 'decades': 1145, 'caliber': 649, 'laid': 2508, 'miserably': 2864, 'spirits': 4115, '40s': 49, 'creatures': 1046, 'angels': 234, 'jeff': 2390, 'eva': 1531, 'lake': 2509, 'bell': 458, 'relief': 3605, 'dan': 1102, 'flawed': 1750, 'ironic': 2355, 'burning': 627, 'importance': 2246, 'kings': 2481, 'arrived': 301, 'according': 88, 'documentaries': 1306, 'hunters': 2200, 'rangers': 3517, 'amy': 222, 'ethan': 1528, 'louise': 2666, 'masterful': 2758, 'spread': 4133, 'picks': 3268, 'complaint': 920, 'menace': 2806, 'hello': 2078, 'creator': 1043, 'creation': 1040, 'gentle': 1890, 'shines': 3932, 'mate': 2765, 'barbara': 397, 'flynn': 1765, 'boxing': 556, 'ward': 4793, 'haunting': 2051, 'edie': 1419, 'beach': 419, 'closet': 858, 'vs': 4767, 'imagination': 2236, 'screening': 3830, 'queen': 3485, 'dogs': 1311, 'marie': 2737, 'promises': 3432, 'vengeance': 4719, 'performer': 3231, 'gifted': 1907, 'guard': 1988, 'information': 2288, 'analysis': 224, 'giallo': 1904, 'beaten': 424, 'cynical': 1093, 'titanic': 4503, '70': 55, '45': 50, 'blind': 506, 'leo': 2571, 'caring': 691, 'priest': 3392, 'absence': 70, 'fate': 1665, 'deeper': 1155, 'paying': 3217, 'recorded': 3574, 'excitement': 1562, 'spider': 4109, 'beings': 449, 'cinderella': 815, 'struggling': 4236, 'scripted': 3835, 'popularity': 3334, 'doll': 1313, 'theyd': 4443, 'robots': 3718, 'sacrifice': 3766, 'lion': 2614, 'dancer': 1104, 'agrees': 157, 'household': 2179, 'elderly': 1440, 'revolutionary': 3681, 'paint': 3173, 'cg': 739, '2004': 34, 'performing': 3233, 'alexander': 180, 'harry': 2039, 'flop': 1760, 'storytelling': 4209, 'ironically': 2356, 'chicago': 785, 'spin': 4112, 'dress': 1357, 'masters': 2761, 'clothing': 861, 'gods': 1928, 'seek': 3858, 'godfather': 1927, 'landscapes': 2514, 'victoria': 4732, 'emily': 1456, 'blunt': 520, 'screenwriter': 3833, 'tight': 4492, 'blows': 517, 'nervous': 2999, 'kapoor': 2443, 'reaching': 3539, 'root': 3737, 'touched': 4534, 'desired': 1206, 'enters': 1496, 'lloyd': 2630, 'compelled': 915, 'arrival': 299, 'virus': 4752, 'willis': 4890, 'brad': 560, 'credible': 1048, 'vast': 4716, 'armed': 293, 'officers': 3093, 'bourne': 554, 'drop': 1369, 'wilson': 4891, 'relies': 3606, 'breaking': 570, 'challenge': 743, 'quit': 3494, 'ruthless': 3764, 'downhill': 1336, 'moronic': 2907, 'childish': 791, 'arm': 292, 'retarded': 3663, 'installment': 2303, 'assumed': 329, 'groups': 1981, 'mall': 2720, 'heat': 2067, 'legendary': 2565, 'walter': 4784, 'beats': 426, 'anderson': 227, 'gorgeous': 1942, 'pamela': 3179, 'existent': 1572, 'latin': 2527, 'tender': 4401, 'ham': 2011, 'philip': 3252, 'naive': 2958, 'petty': 3249, 'dragon': 1344, 'shining': 3933, 'parties': 3196, 'displayed': 1292, 'elvira': 1450, 'generated': 1882, 'creators': 1044, 'unbelievably': 4635, 'backdrop': 379, 'recognize': 3569, 'nuts': 3064, 'respected': 3653, 'jazz': 2387, 'dire': 1257, 'send': 3875, 'lou': 2663, 'stunt': 4245, 'catchy': 717, 'dating': 1120, 'loosely': 2651, 'matrix': 2767, 'ad': 110, 'rap': 3520, 'helicopter': 2076, 'grown': 1984, 'neil': 2995, 'model': 2880, 'neat': 2982, 'simon': 3982, 'successfully': 4267, 'retired': 3664, 'matthau': 2771, 'finger': 1731, 'commercials': 903, 'chest': 784, 'shell': 3927, 'behave': 445, 'discovery': 1282, 'narrator': 2967, 'kennedy': 2454, 'shortly': 3947, 'drink': 1361, 'devoid': 1230, 'russian': 3762, 'failing': 1627, 'pitch': 3279, 'showdown': 3955, 'sidney': 3968, 'watches': 4814, 'damage': 1099, 'hop': 2154, 'stargate': 4151, 'asking': 318, 'kick': 2460, 'coach': 868, 'currently': 1085, 'arnold': 296, 'creep': 1051, 'walker': 4778, 'turner': 4607, 'kidnapped': 2466, 'bitter': 491, 'transfer': 4559, 'digital': 1251, 'narration': 2965, 'uninteresting': 4660, 'unintentional': 4658, 'thoughts': 4464, 'hippie': 2115, 'reed': 3580, 'worthless': 4954, 'nonetheless': 3029, 'wins': 4899, 'bite': 489, 'attorney': 348, 'rocks': 3722, 'bathroom': 412, 'hook': 2152, 'depicts': 1186, 'wizard': 4919, 'fabulous': 1615, 'stanley': 4148, 'kubrick': 2496, 'beatty': 427, 'causes': 725, 'jackie': 2374, 'chan': 746, 'wannabe': 4787, 'daring': 1114, 'justify': 2439, 'surrounding': 4319, 'noise': 3024, 'shine': 3931, 'sings': 3997, 'bedroom': 437, 'funniest': 1851, 'cube': 1076, 'prequel': 3372, 'hence': 2083, 'walls': 4783, 'lily': 2605, 'landscape': 2513, 'spring': 4134, 'strikes': 4225, 'wet': 4855, 'kicks': 2463, 'ensues': 1493, 'greedy': 1969, 'sat': 3786, 'concerns': 934, 'primarily': 3393, 'cinemas': 817, 'countryside': 1015, 'construction': 960, 'warmth': 4796, 'connection': 946, 'baseball': 403, 'diamond': 1236, 'glover': 1923, 'manipulative': 2727, 'ideal': 2214, 'characterization': 759, 'achieved': 93, 'bonus': 534, 'chances': 748, 'fields': 1705, 'command': 897, 'relations': 3596, 'kingdom': 2480, 'italy': 2368, 'hudson': 2184, 'blend': 504, 'qualities': 3483, 'purposes': 3475, 'related': 3594, 'constructed': 959, 'moody': 2899, 'overrated': 3156, 'starting': 4158, 'lit': 2621, 'eve': 1532, 'intimate': 2331, 'tooth': 4524, 'property': 3438, 'joined': 2413, 'hooked': 2153, 'surreal': 4317, 'interaction': 2322, 'glorious': 1921, 'sympathy': 4343, 'waves': 4819, 'sink': 3999, 'trick': 4582, 'brave': 567, 'mgm': 2828, 'urge': 4689, 'pleasure': 3306, 'link': 2613, 'rats': 3531, 'jewish': 2401, 'similarly': 3980, 'text': 4419, 'wealth': 4826, 'aforementioned': 139, 'checking': 778, 'account': 89, 'unintentionally': 4659, 'slaughter': 4021, 'portion': 3338, 'riveting': 3708, 'unforgettable': 4652, 'painfully': 3172, 'remarks': 3615, 'rank': 3518, 'mildred': 2841, 'tunes': 4603, 'mundane': 2938, 'oz': 3160, 'coffee': 870, 'valley': 4707, 'florida': 1761, 'invasion': 2340, 'imitation': 2241, 'differences': 1247, 'reel': 3581, 'ultra': 4629, 'pride': 3391, 'everyones': 1543, 'montana': 2895, 'pacino': 3164, 'rambo': 3511, 'par': 3184, 'borrowed': 545, 'voiced': 4762, 'succeeded': 4263, 'thru': 4483, 'tracy': 4546, 'madonna': 2699, 'thief': 4448, 'facts': 1624, 'agents': 151, 'kitchen': 2485, 'birthday': 487, 'bank': 394, 'jeffrey': 2391, 'cole': 873, 'convincingly': 986, 'carradine': 695, 'painting': 3175, 'likewise': 2603, 'explaining': 1588, 'blah': 496, 'hilariously': 2107, 'threatening': 4468, 'kenneth': 2455, 'branagh': 564, 'nomination': 3026, 'performers': 3232, 'nicholas': 3010, 'lemmon': 2567, 'conversations': 981, 'fighter': 1708, 'catholic': 720, 'valuable': 4708, 'buried': 624, 'virginia': 4750, 'sloppy': 4030, 'misery': 2865, 'university': 4667, 'extended': 1604, 'perry': 3237, 'elvis': 1451, 'lively': 2627, 'designs': 1204, 'tends': 4402, 'showcase': 3954, 'unit': 4663, 'capital': 673, 'nostalgia': 3038, 'improve': 2254, 'wes': 4851, 'craven': 1034, 'freak': 1824, 'complicated': 925, 'thirty': 4456, 'doc': 1303, 'savage': 3793, 'guide': 1993, 'hart': 2041, 'experiments': 1584, 'twelve': 4611, 'explore': 1594, 'clip': 851, 'combine': 884, 'temple': 4398, 'hank': 2024, 'kane': 2442, 'enemies': 1476, 'slick': 4026, 'saga': 3773, 'defined': 1160, 'escapes': 1519, 'advantage': 129, 'larry': 2520, 'buffs': 612, 'hopeless': 2158, 'dramas': 1347, 'kelly': 2452, 'li': 2587, 'buddies': 608, 'stereotype': 4178, 'mtv': 2933, 'serving': 3897, 'focusing': 1769, 'resources': 3651, 'marks': 2742, 'strangers': 4214, 'reputation': 3640, 'cinematographer': 819, 'spell': 4104, 'enterprise': 1495, 'garbo': 1871, 'mysteries': 2954, 'suspects': 4328, 'investigation': 2343, 'oddly': 3081, 'scream': 3826, 'suspend': 4329, 'abilities': 64, 'christopher': 811, 'jay': 2386, 'lumet': 2688, 'atlantis': 332, 'switch': 4339, 'lifetime': 2594, 'sadness': 3770, 'titled': 4505, 'throws': 4482, 'engaged': 1480, 'attempted': 341, 'brooklyn': 595, 'doomed': 1327, 'surface': 4310, 'wound': 4960, 'devoted': 1231, 'ken': 2453, 'witnesses': 4916, 'greek': 1970, 'silence': 3974, 'horrendous': 2162, 'namely': 2962, 'lay': 2542, 'odds': 3082, 'celebrity': 729, 'associated': 327, 'nurse': 3063, 'mentally': 2809, 'established': 1524, 'spare': 4093, 'ballet': 389, 'shakespeare': 3915, 'laura': 2536, 'receives': 3565, 'investigate': 2342, 'sid': 3964, 'australian': 357, 'claimed': 829, 'oscars': 3134, 'pushing': 3479, 'synopsis': 4344, 'distribution': 1298, 'survived': 4322, 'device': 1227, 'passes': 3203, 'shape': 3919, 'blank': 501, 'spike': 4111, 'matches': 2764, 'championship': 745, 'press': 3379, 'storm': 4206, 'threat': 4467, 'strictly': 4223, 'possessed': 3347, 'suggested': 4281, 'accepted': 82, 'inappropriate': 2259, 'deceased': 1146, 'obnoxious': 3067, 'goldberg': 1933, 'purple': 3473, 'racist': 3503, 'affect': 136, 'stealing': 4171, 'possibility': 3349, 'hamilton': 2012, 'unseen': 4678, 'somebody': 4062, 'cares': 690, 'warn': 4797, 'education': 1424, 'trees': 4577, 'andy': 230, 'underlying': 4641, 'understood': 4647, 'smiling': 4037, 'careful': 688, 'vincent': 4746, 'insulting': 2310, 'judging': 2425, 'irish': 2353, 'specifically': 4100, 'ensemble': 1492, 'knock': 2488, 'floating': 1758, 'crush': 1072, 'bride': 577, 'mayor': 2777, 'physically': 3263, 'pseudo': 3454, 'intrigued': 2334, 'covers': 1024, 'exaggerated': 1552, 'outfit': 3144, 'wishing': 4907, 'buildings': 616, 'pig': 3274, 'repeatedly': 3632, 'mere': 2814, 'spiritual': 4116, 'represent': 3637, 'devils': 1229, 'enjoys': 1489, 'enormous': 1490, 'tongue': 4518, 'craft': 1028, 'tommy': 4516, 'morris': 2908, 'stiff': 4187, 'pat': 3208, 'diana': 1237, 'reveals': 3673, 'lifestyle': 2593, 'greed': 1968, 'cards': 683, 'interviews': 2330, 'sellers': 3872, 'survivors': 4325, 'kirk': 2482, 'suits': 4287, 'accompanied': 86, 'delivering': 1171, 'houses': 2180, 'exercise': 1568, 'polished': 3323, 'empathy': 1462, 'marvelous': 2750, 'pink': 3277, 'bo': 521, 'consists': 955, 'subjects': 4254, 'web': 4833, 'painted': 3174, 'widmark': 4882, 'ritter': 3705, 'justin': 2440, 'threw': 4470, 'rabbit': 3498, 'tiger': 4491, 'suitable': 4285, 'hollywoods': 2138, 'dropped': 1370, 'businessman': 634, 'bumbling': 622, 'dorothy': 1330, 'bullet': 620, 'monk': 2889, 'screens': 3832, 'marty': 2749, 'reunion': 3669, 'dig': 1250, 'choreography': 802, 'secretly': 3851, 'annoyed': 248, 'overacting': 3149, 'channels': 754, 'singers': 3994, 'reaches': 3538, 'danger': 1109, 'wallace': 4782, 'thrills': 4475, 'identify': 2216, 'disappeared': 1271, 'cave': 727, 'uwe': 4703, 'boll': 529, 'allowing': 191, 'beloved': 461, 'generations': 1884, 'copies': 992, 'rocket': 3721, 'brutally': 604, 'talked': 4359, 'unhappy': 4656, 'suggests': 4282, 'ease': 1404, 'walken': 4777, 'khan': 2459, 'regardless': 3590, 'dolph': 1317, 'scores': 3823, 'exploration': 1593, 'toy': 4542, 'allows': 192, 'combat': 882, 'whale': 4857, 'ships': 3935, 'madness': 2698, 'davies': 1125, 'satisfied': 3789, 'wholly': 4874, 'francis': 1818, 'mild': 2839, 'mighty': 2836, 'suited': 4286, 'faced': 1617, 'horrifying': 2167, 'ticket': 4487, 'useful': 4694, 'staged': 4140, 'wonders': 4931, 'blond': 510, 'phony': 3256, 'bible': 477, 'porno': 3337, 'methods': 2825, 'unreal': 4676, 'betty': 474, 'pursuit': 3476, 'alas': 172, 'chess': 783, 'holy': 2140, 'motivations': 2915, 'punishment': 3467, 'illness': 2230, 'cusack': 1088, '3rd': 47, 'comedian': 887, 'resolution': 3649, 'perfection': 3225, 'sandler': 3781, 'judy': 2426, 'philosophical': 3253, 'despair': 1207, 'spielberg': 4110, 'wrapped': 4964, 'promised': 3431, 'jungle': 2434, 'sport': 4129, 'luckily': 2682, 'kay': 2447, 'butler': 637, 'survivor': 4324, 'conflicts': 940, 'precious': 3366, 'toys': 4543, 'scarecrow': 3804, 'robbins': 3712, 'waters': 4817, 'engage': 1479, 'leonard': 2572, 'wells': 4845, 'poem': 3312, 'helping': 2081, 'fever': 1699, 'paulie': 3215, 'dolls': 1316, '2006': 36, 'photos': 3261, 'access': 83, 'timeless': 4496, 'scrooge': 3837, 'travesty': 4570, 'staff': 4138, 'stooges': 4200, 'midnight': 2834, 'thumbs': 4485, 'iron': 2354, 'ireland': 2352, 'airport': 167, 'visits': 4756, 'gadget': 1860, 'fond': 1776, 'nightmares': 3015, 'descent': 1193, 'carrey': 696, 'mario': 2738, 'grandfather': 1954, 'yellow': 4981, 'league': 2549, 'dutch': 1389, 'da': 1094, 'dedicated': 1153, 'cage': 645, 'lena': 2568, 'jet': 2400, 'scottish': 3825, '13th': 5, 'ignorant': 2223, 'damon': 1101, 'crucial': 1068, 'travels': 4569, 'reference': 3582, 'sullivan': 4288, 'bacall': 377, 'contact': 961, 'clint': 850, 'jeremy': 2394, 'destiny': 1212, 'sincere': 3991, 'mail': 2706, 'medium': 2792, 'gabriel': 1859, 'donna': 1323, 'linda': 2609, 'domino': 1319, 'hates': 2048, 'letters': 2582, 'pit': 3278, 'mistress': 2874, 'definition': 1163, 'secrets': 3852, 'shake': 3914, 'machines': 2694, 'seed': 3856, 'bud': 607, 'guest': 1992, 'demented': 1176, 'females': 1694, 'drops': 1372, 'chicks': 787, 'hopper': 2161, 'assigned': 325, 'confidence': 938, 'shelley': 3928, 'bettie': 473, 'miike': 2837, 'domestic': 1318, '2nd': 41, 'firstly': 1737, 'polanski': 3321, 'lucy': 2684, 'ramones': 3512, 'chapter': 757}\n"
     ]
    }
   ],
   "source": [
    "print(str(vocabulary))"
   ]
  },
  {
   "cell_type": "markdown",
   "metadata": {},
   "source": [
    "Once you have added the endpoint name to the Lambda function, click on **Save**. Your Lambda function is now up and running. Next we need to create a way for our web app to execute the Lambda function."
   ]
  },
  {
   "cell_type": "markdown",
   "metadata": {},
   "source": [
    "### Setting up API Gateway\n",
    "\n",
    "Now that our Lambda function is set up, it is time to create a new API using API Gateway that will trigger the Lambda function we have just created.\n",
    "\n",
    "Using AWS Console, navigate to **Amazon API Gateway** and then click on **Get started**.\n",
    "\n",
    "On the next page, make sure that **New API** is selected and give the new api a name, for example, `sentiment_analysis_web_app`. Then, click on **Create API**.\n",
    "\n",
    "Now we have created an API, however it doesn't currently do anything. What we want it to do is to trigger the Lambda function that we created earlier.\n",
    "\n",
    "Select the **Actions** dropdown menu and click **Create Method**. A new blank method will be created, select its dropdown menu and select **POST**, then click on the check mark beside it.\n",
    "\n",
    "For the integration point, make sure that **Lambda Function** is selected and click on the **Use Lambda Proxy integration**. This option makes sure that the data that is sent to the API is then sent directly to the Lambda function with no processing. It also means that the return value must be a proper response object as it will also not be processed by API Gateway.\n",
    "\n",
    "Type the name of the Lambda function you created earlier into the **Lambda Function** text entry box and then click on **Save**. Click on **OK** in the pop-up box that then appears, giving permission to API Gateway to invoke the Lambda function you created.\n",
    "\n",
    "The last step in creating the API Gateway is to select the **Actions** dropdown and click on **Deploy API**. You will need to create a new Deployment stage and name it anything you like, for example `prod`.\n",
    "\n",
    "You have now successfully set up a public API to access your SageMaker model. Make sure to copy or write down the URL provided to invoke your newly created public API as this will be needed in the next step. This URL can be found at the top of the page, highlighted in blue next to the text **Invoke URL**."
   ]
  },
  {
   "cell_type": "markdown",
   "metadata": {},
   "source": [
    "## Step 7: Deploying our web app\n",
    "\n",
    "Now that we have a publicly available API, we can start using it in a web app. For our purposes, we have provided a simple static html file which can make use of the public api you created earlier.\n",
    "\n",
    "In the `website` folder there should be a file called `index.html`. Download the file to your computer and open that file up in a text editor of your choice. There should be a line which contains **\\*\\*REPLACE WITH PUBLIC API URL\\*\\***. Replace this string with the url that you wrote down in the last step and then save the file.\n",
    "\n",
    "Now, if you open `index.html` on your local computer, your browser will behave as a local web server and you can use the provided site to interact with your SageMaker model.\n",
    "\n",
    "If you'd like to go further, you can host this html file anywhere you'd like, for example using github or hosting a static site on Amazon's S3. Once you have done this you can share the link with anyone you'd like and have them play with it too!\n",
    "\n",
    "> **Important Note** In order for the web app to communicate with the SageMaker endpoint, the endpoint has to actually be deployed and running. This means that you are paying for it. Make sure that the endpoint is running when you want to use the web app but that you shut it down when you don't need it, otherwise you will end up with a surprisingly large AWS bill."
   ]
  },
  {
   "cell_type": "markdown",
   "metadata": {},
   "source": [
    "### Delete the endpoint\n",
    "\n",
    "Remember to always shut down your endpoint if you are no longer using it. You are charged for the length of time that the endpoint is running so if you forget and leave it on you could end up with an unexpectedly large bill."
   ]
  },
  {
   "cell_type": "code",
   "execution_count": 76,
   "metadata": {},
   "outputs": [],
   "source": [
    "xgb_predictor.delete_endpoint()"
   ]
  },
  {
   "cell_type": "markdown",
   "metadata": {},
   "source": [
    "## Optional: Clean up\n",
    "\n",
    "The default notebook instance on SageMaker doesn't have a lot of excess disk space available. As you continue to complete and execute notebooks you will eventually fill up this disk space, leading to errors which can be difficult to diagnose. Once you are completely finished using a notebook it is a good idea to remove the files that you created along the way. Of course, you can do this from the terminal or from the notebook hub if you would like. The cell below contains some commands to clean up the created files from within the notebook."
   ]
  },
  {
   "cell_type": "code",
   "execution_count": null,
   "metadata": {},
   "outputs": [],
   "source": [
    "# First we will remove all of the files contained in the data_dir directory\n",
    "!rm $data_dir/*\n",
    "\n",
    "# And then we delete the directory itself\n",
    "!rmdir $data_dir\n",
    "\n",
    "# Similarly we remove the files in the cache_dir directory and the directory itself\n",
    "!rm $cache_dir/*\n",
    "!rmdir $cache_dir"
   ]
  },
  {
   "cell_type": "code",
   "execution_count": null,
   "metadata": {},
   "outputs": [],
   "source": []
  }
 ],
 "metadata": {
  "kernelspec": {
   "display_name": "conda_python3",
   "language": "python",
   "name": "conda_python3"
  },
  "language_info": {
   "codemirror_mode": {
    "name": "ipython",
    "version": 3
   },
   "file_extension": ".py",
   "mimetype": "text/x-python",
   "name": "python",
   "nbconvert_exporter": "python",
   "pygments_lexer": "ipython3",
   "version": "3.6.5"
  }
 },
 "nbformat": 4,
 "nbformat_minor": 2
}
